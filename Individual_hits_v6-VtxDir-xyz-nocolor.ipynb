{
 "cells": [
  {
   "cell_type": "code",
   "execution_count": 1,
   "metadata": {},
   "outputs": [],
   "source": [
    "import os\n",
    "import math\n",
    "\n",
    "import matplotlib.pyplot as plt \n",
    "\n",
    "import numpy as np\n",
    "import pandas as pd\n",
    "import random"
   ]
  },
  {
   "cell_type": "code",
   "execution_count": 2,
   "metadata": {},
   "outputs": [],
   "source": [
    "#global variables\n",
    "maxT = 37\n",
    "maxLambda = 800\n",
    "PAD_VALUE = -1\n",
    "NEvts = 1000\n",
    "pi = 3.141592653589793"
   ]
  },
  {
   "cell_type": "code",
   "execution_count": 3,
   "metadata": {},
   "outputs": [],
   "source": [
    "from keras.utils import Sequence\n",
    "from keras.preprocessing.sequence import pad_sequences\n",
    "\n",
    "class MyGenerator(Sequence):\n",
    "    def __init__(self, x_dir, batch_size):\n",
    "        self.x_dir = x_dir\n",
    "        self.x = os.listdir(x_dir)\n",
    "        self.batch_size = batch_size\n",
    "        print('Generator init complete')\n",
    "        \n",
    "    def __len__(self):\n",
    "        nf = self.batch_size/(NEvts) # calculate number of files\n",
    "        return math.ceil(len(self.x) / nf)\n",
    "\n",
    "    def __getitem__(self, idx):\n",
    "        batch_data = np.load(os.path.join(self.x_dir, self.x[idx]))\n",
    "        Y = np.array(batch_data['y_vtx'])\n",
    "        return np.array(batch_data['x']), Y"
   ]
  },
  {
   "cell_type": "code",
   "execution_count": 4,
   "metadata": {},
   "outputs": [
    {
     "name": "stdout",
     "output_type": "stream",
     "text": [
      "Generator init complete\n",
      "Generator init complete\n"
     ]
    }
   ],
   "source": [
    "training_generator = MyGenerator('/data/Elagin/vtx_dir_1el_norm', NEvts)\n",
    "\n",
    "testing_generator = MyGenerator('/data/Elagin/test_vtx_dir_1el_norm', NEvts)"
   ]
  },
  {
   "cell_type": "code",
   "execution_count": 5,
   "metadata": {},
   "outputs": [],
   "source": [
    "\n",
    "from keras.models import Sequential, Model\n",
    "from keras.layers import Dense, Activation, Flatten, Reshape, Lambda, Input, Concatenate, concatenate\n",
    "from keras.layers import Conv1D, Conv2D, Conv2DTranspose, UpSampling2D, MaxPooling1D, MaxPooling2D, LocallyConnected2D, LocallyConnected1D\n",
    "from keras.layers import LSTM, Bidirectional\n",
    "from keras.layers import Masking\n",
    "from keras.layers import LeakyReLU, Dropout\n",
    "from keras.layers import BatchNormalization\n",
    "from keras.optimizers import Adam, RMSprop\n",
    "from keras.utils import to_categorical\n",
    "import keras.backend as K"
   ]
  },
  {
   "cell_type": "code",
   "execution_count": 6,
   "metadata": {},
   "outputs": [],
   "source": [
    "def mapping_to_pmOne(x) :\n",
    "    return 2*K.sigmoid(x) - 1\n",
    "\n",
    "def mapping_to_pm50(x) :\n",
    "    return mapping_to_pmOne(x)*50\n",
    "\n",
    "def mapping_to_pm300(x) :\n",
    "    return mapping_to_pmOne(x)*300\n",
    "\n",
    "def mapping_to_0_50(x) :\n",
    "    return 50*K.sigmoid(x)\n",
    "\n",
    "\n",
    "def mapping_to_target_range_all( x, target_min=-0.02*pi, target_max=2.02*pi ) :\n",
    "    x02 = K.tanh(x) + 1 # x in range(0,2)\n",
    "    scale = ( target_max-target_min )/2.\n",
    "    return  x02 * scale + target_min\n",
    "\n",
    "def mapping_to_target_range_2pi( x, target_min=-0.00*pi, target_max=2.00*pi ) :\n",
    "    x02 = K.tanh(x) + 1 # x in range(0,2)\n",
    "    scale = ( target_max-target_min )/2.\n",
    "    return  x02 * scale + target_min\n",
    "    #return K.sigmoid(x)*target_max\n",
    "\n",
    "def mapping_to_target_range_pi( x, target_min=-0.00*pi, target_max=1.00*pi ) :\n",
    "    x02 = K.tanh(x) + 1 # x in range(0,2)\n",
    "    scale = ( target_max-target_min )/2.\n",
    "    return  x02 * scale + target_min\n",
    "    #return K.sigmoid(x)*target_max\n",
    "\n",
    "def mapping_to_target_range_phi( x, target_min=0, target_max=2*pi ) :\n",
    "    print('is x keras tensor:', K.is_keras_tensor(x))\n",
    "    print('x shape = ',K.int_shape(x))\n",
    "    print('x shape = ',K.shape(x))\n",
    "    #phi = K.placeholder(shape=(None,1))\n",
    "    phi = Input([1])\n",
    "    #theta = K.placeholder(shape=(None,1))\n",
    "    theta = Input([1])\n",
    "    #r = K.placeholder(shape=(None,1))\n",
    "    r = Input([1])\n",
    "    print('phi shape = ',K.int_shape(phi))\n",
    "    print('is phi keras tensor:', K.is_keras_tensor(phi))\n",
    "    phi = K.concatenate([phi, [K.tanh(x[:,1]) + 1]], axis=0) # x in range(0,2)\n",
    "    #phi = K.tanh(x[:,1]) + 1\n",
    "    theta = K.concatenate([theta, [x[:,0]]], axis=0)\n",
    "    #theta = x[:,0]\n",
    "    r = K.concatenate([r, [x[:,2]]], axis=0)\n",
    "    #r = x[:,2]\n",
    "    print('phi shape = ',K.int_shape(phi))\n",
    "    print('is phi keras tensor:', K.is_keras_tensor(phi))\n",
    "    print('theta shape = ',K.int_shape(theta))\n",
    "    print('r shape = ',K.int_shape(r))\n",
    "    scale = ( target_max-target_min )/2.\n",
    "    phi =  phi * scale + target_min\n",
    "    #phi = K.cast(phi, dtype='int32')\n",
    "    #phi = K.reshape(phi, (,1))\n",
    "    print('phi shape = ',K.int_shape(phi))\n",
    "    \n",
    "    res = K.concatenate([theta, phi, r], axis=1)\n",
    "    print('res shape = ',K.int_shape(res))\n",
    "    print('res shape = ',K.shape(res))\n",
    "    print('is res keras tensor:', K.is_keras_tensor(res))\n",
    "    x[:,1].assign(phi)\n",
    "    return x\n",
    "\n",
    "def mapping_to_target_range_phi2( x, target_min=0, target_max=2*pi ) :\n",
    "    scale = ( target_max-target_min )/2.\n",
    "    phi = K.placeholder(shape=(None,1))\n",
    "    #phi = Input([1])\n",
    "    #phi = (K.tanh(x[:,1]) + 1)*scale + target_min\n",
    "    phi = K.concatenate([phi, [(K.tanh(x[:,1]) + 1)*scale + target_min]], axis=0)\n",
    "    x[:,1].assign(phi)\n",
    "    return x"
   ]
  },
  {
   "cell_type": "code",
   "execution_count": 10,
   "metadata": {},
   "outputs": [],
   "source": [
    "def createModel():\n",
    "    model = Sequential()\n",
    "    #model.add(Reshape(input_shape=(3300,), target_shape=(3300,)))\n",
    "    #model.add(Masking(mask_value=-1,input_shape=(3300,)))\n",
    "    #model.add(Dense(1024, activation='relu' ))\n",
    "    #model.add(Dropout(0.1))\n",
    "    #model.add(Dense(1024, activation='relu' ))\n",
    "    #model.add(Dropout(0.1))\n",
    "    #model.add(Dense(512, activation='relu' ))\n",
    "    #model.add(Dropout(0.1))\n",
    "    #model.add(Dense(1024, activation='relu' ))\n",
    "    #model.add(Dropout(0.5))\n",
    "    #model.add(Dense(512, activation='relu' ))\n",
    "    #model.add(Dropout(0.1))\n",
    "    #model.add(Dense(256, activation='relu',input_shape=(3300,) ))\n",
    "    model.add(Reshape(input_shape=(2100,), target_shape=(2100,1)))\n",
    "    model.add(LocallyConnected1D(1, 3, strides=3)) #h=7, w=5\n",
    "    #model.add(Conv1D(1, 3, strides=3)) #h=7, w=5\n",
    "    model.add(Activation('relu'))\n",
    "    #model.add(MaxPooling1D(pool_size=3, strides=3)) #h = 24, w = 2\n",
    "    #model.add(Dropout(0.10))\n",
    "\n",
    "    #model.add(LocallyConnected1D(64, 50, strides=25, padding='valid')) #h=7, w=5\n",
    "    #model.add(Conv1D(64, 150, strides=75)) #h=7, w=5\n",
    "    #model.add(Activation('relu'))\n",
    "    #model.add(MaxPooling1D(pool_size=2, strides=2)) #h = 24, w = 2\n",
    "    \n",
    "    model.add(Flatten())\n",
    "    #model.add(Dense(1024, activation='relu'))\n",
    "    #model.add(Dropout(0.1))\n",
    "    \n",
    "    model.add(Dense(512, activation='relu'))\n",
    "    #model.add(Dropout(0.05))\n",
    "    model.add(Dense(512, activation='relu'))\n",
    "    #model.add(Dropout(0.1))\n",
    "    \n",
    "    #model.add(Dense(512, activation='relu'))\n",
    "    #model.add(Dropout(0.1))\n",
    "    #model.add(Dense(256, activation='relu'))\n",
    "    #model.add(Dense(256, activation='relu'))\n",
    "    #model.add(Dense(128, activation='relu'))\n",
    "    model.add(Dense(128, activation='relu'))\n",
    "    model.add(Dense(64, activation='relu'))\n",
    "    #model.add(Dense(64, activation='relu'))\n",
    "    \n",
    "    model.add(Dense(3, activation=mapping_to_pm300))\n",
    "    #model.add(Dense(3, activation=None))\n",
    "     \n",
    "    return model"
   ]
  },
  {
   "cell_type": "code",
   "execution_count": 7,
   "metadata": {},
   "outputs": [],
   "source": [
    "def createModel():\n",
    "    model = Sequential()\n",
    "    #model.add(Reshape(input_shape=(3300,), target_shape=(3300,)))\n",
    "    #model.add(Masking(mask_value=-1))\n",
    "    model.add(Dense(512, activation='relu',input_shape=(6300,) ))\n",
    "    #model.add(Reshape(input_shape=(600,), target_shape=(600,1)))\n",
    "    #model.add(LocallyConnected1D(32, 3, strides=3)) #h=7, w=5\n",
    "    #model.add(Activation('relu'))\n",
    "    #model.add(MaxPooling2D(pool_size=(2, 1),strides=(1,1))) #h = 24, w = 2\n",
    "    #model.add(Dropout(0.4))\n",
    "\n",
    "    #model.add(Flatten())\n",
    "    #model.add(Dense(1100, activation='relu'))\n",
    "    #model.add(Dropout(0.3))\n",
    "    \n",
    "    model.add(Dense(512, activation='relu'))\n",
    "    #model.add(Dropout(0.2))\n",
    "    \n",
    "    model.add(Dense(512, activation='relu'))\n",
    "    #model.add(Dropout(0.2))\n",
    "    model.add(Dense(64, activation='relu'))\n",
    "    \n",
    "    model.add(Dense(3, activation=mapping_to_pm300))\n",
    "    #model.add(Dense(5))#, activation=mapping_to_target_range_phi))\n",
    "    #model.add(Dense(1, activation='sigmoid'))\n",
    "    #model.add(Lambda(lambda x: 2*pi*x))\n",
    "     \n",
    "    return model"
   ]
  },
  {
   "cell_type": "code",
   "execution_count": 15,
   "metadata": {},
   "outputs": [],
   "source": [
    "def createModel():\n",
    "    #model = Sequential()\n",
    "    in_put = Input(shape=(3300,))\n",
    "    print('is in_put keras tensor:', K.is_keras_tensor(in_put))\n",
    "    print('in_put shape = ',K.int_shape(in_put))\n",
    "    print('in_put shape = ',K.shape(in_put))\n",
    "    print('\\n')\n",
    "    #layer1 = Dense(2048, activation='relu')(in_put)\n",
    "    layer2 = Dense(1024, activation='relu')(in_put)\n",
    "    layer2 = Dropout(0.05)(layer2)\n",
    "    layer3 = Dense(512, activation='relu')(layer2)\n",
    "    layer3 = Dropout(0.03)(layer3)\n",
    "    layer4 = Dense(64, activation='relu')(layer3)\n",
    "    layer4 = Dropout(0.03)(layer4)\n",
    "    out_put = Dense(5, activation=None)(layer4)\n",
    "    print('is out_put keras tensor:', K.is_keras_tensor(out_put))\n",
    "    print('out_put shape = ',K.int_shape(out_put))\n",
    "    print('out_put shape = ',K.shape(out_put))\n",
    "    print('\\n')\n",
    "    #out_put_a = Activation(activation=mapping_to_target_range_phi2)(out_put)\n",
    "    #out_put= Dense(3, activation=mapping_to_target_range_phi)(layer3) \n",
    "    #print('is out_put_a keras tensor:', K.is_keras_tensor(out_put_a))\n",
    "    #print('out_put_a shape = ',K.int_shape(out_put_a))\n",
    "    #print('out_put_a shape = ',K.shape(out_put_a))\n",
    "    #print('\\n')\n",
    "    sinT = Lambda(lambda x: x[:,0], output_shape=(1,))(out_put)\n",
    "    sinT = Activation(activation='sigmoid')(sinT)\n",
    "    cosT = Lambda(lambda x: x[:,1], output_shape=(1,))(out_put)\n",
    "    cosT = Activation(activation=mapping_to_pmOne)(cosT)\n",
    "    \n",
    "    sinP = Lambda(lambda x: x[:,2], output_shape=(1,))(out_put)\n",
    "    sinP = Activation(activation=mapping_to_pmOne)(sinP)\n",
    "    cosP = Lambda(lambda x: x[:,3], output_shape=(1,))(out_put)\n",
    "    cosP = Activation(activation=mapping_to_pmOne)(cosP)\n",
    "   \n",
    "    r = Lambda(lambda x: x[:,4], output_shape=(1,))(out_put)\n",
    "    cosP = Activation(activation=mapping_to_0_50)(r)\n",
    "\n",
    "    print('sinP shape = ',K.int_shape(sinP))\n",
    "    print('is sinP keras tensor:', K.is_keras_tensor(sinP))\n",
    "    print('r shape = ',K.int_shape(r))\n",
    "    out_put_a = Lambda(lambda x: K.stack([x[0], x[1], x[2], x[3], x[4]], axis=1),output_shape=(5,),  name=\"output\")([sinT, cosT, sinP, cosP, r])\n",
    "    print('is out_put_a keras tensor:', K.is_keras_tensor(out_put_a))\n",
    "    print('out_put_a shape = ',K.int_shape(out_put_a))\n",
    "    print('out_put_a shape = ',K.shape(out_put_a))\n",
    "    #print('\\n')\n",
    "    #out_put= Dense(3, activation=None)(layer3) \n",
    "    #model.add(Dense(1, activation='sigmoid'))\n",
    "    #model.add(Lambda(lambda x: 2*pi*x))\n",
    "    model = Model(inputs=in_put, outputs=out_put_a)\n",
    "    return model"
   ]
  },
  {
   "cell_type": "code",
   "execution_count": 36,
   "metadata": {},
   "outputs": [],
   "source": [
    "def createModel():\n",
    "    #model = Sequential()\n",
    "    in_put = Input(shape=(2100,))\n",
    "    print('is in_put keras tensor:', K.is_keras_tensor(in_put))\n",
    "    print('in_put shape = ',K.int_shape(in_put))\n",
    "    print('in_put shape = ',K.shape(in_put))\n",
    "    print('\\n')\n",
    "    #layer0 = Dense(1024, activation='relu')(in_put)\n",
    "    #layer0 = Dropout(0.15)(layer0)\n",
    "    layer1 = Dense(64, activation='relu')(in_put)#(layer0)\n",
    "    layer1 = Dropout(0.01)(layer1)\n",
    "    layer2 = Dense(32, activation='relu')(layer1)\n",
    "    #layer2 = Dropout(0.05)(layer2)\n",
    "    layer3 = Dense(32, activation='relu')(layer2)\n",
    "    #layer3 = Dropout(0.04)(layer3)\n",
    "    out_put = Dense(3)(layer3)\n",
    "    print('is out_put keras tensor:', K.is_keras_tensor(out_put))\n",
    "    print('out_put shape = ',K.int_shape(out_put))\n",
    "    print('out_put shape = ',K.shape(out_put))\n",
    "    print('\\n')\n",
    "    model = Model(inputs=in_put, outputs=out_put)\n",
    "    return model"
   ]
  },
  {
   "cell_type": "code",
   "execution_count": 6,
   "metadata": {},
   "outputs": [],
   "source": [
    "def createModel():\n",
    "    N=6300\n",
    "    lstm_seq = 300\n",
    "    lstm_steps = int(N/lstm_seq)\n",
    "    model = Sequential()\n",
    "    \n",
    "    #model.add(Reshape(input_shape=(3300,), target_shape=(3300,1)))\n",
    "    \n",
    "    #model.add(Conv1D(32, 60, strides=15)) #h=7, w=5\n",
    "    \n",
    "    #lstm_steps = 216\n",
    "    #lstm_seq = 32\n",
    "    \n",
    "    #model.add(Reshape(input_shape=(N,), target_shape=(60,int(N/60))))\n",
    "    model.add(Reshape(input_shape=(N,), target_shape=(lstm_steps,lstm_seq)))\n",
    "    #model.add(Reshape(input_shape=(N,), target_shape=(1,N)))\n",
    "    \n",
    "    model.add(Masking(mask_value=-1, input_shape=(lstm_steps, lstm_seq)))\n",
    "    \n",
    "    model.add(LSTM(75, return_sequences=True, input_shape=(lstm_steps,lstm_seq), dropout=0.0))\n",
    "    model.add(LSTM(75, return_sequences=True, input_shape=(lstm_steps,lstm_seq), dropout=0.0))\n",
    "    model.add(LSTM(75, return_sequences=True, input_shape=(lstm_steps,lstm_seq), dropout=0.0))\n",
    "    model.add(LSTM(75, return_sequences=True, input_shape=(lstm_steps,lstm_seq), dropout=0.0))\n",
    "    model.add(LSTM(75, return_sequences=True, input_shape=(lstm_steps,lstm_seq), dropout=0.0))\n",
    "    model.add(LSTM(75, return_sequences=True, input_shape=(lstm_steps,lstm_seq), dropout=0.0))\n",
    "    model.add(LSTM(75, input_shape=(lstm_steps,lstm_seq), dropout=0.0))\n",
    "    \n",
    "    #model.add(LSTM(1, return_sequences=True, input_shape=(lstm_steps,lstm_seq), dropout=0.0))\n",
    "    #model.add(LSTM(1, input_shape=(lstm_steps,lstm_seq), dropout=0.0))\n",
    "    \n",
    "    #model.add(Bidirectional(LSTM(4, return_sequences=True, dropout=0.0)))\n",
    "    #model.add(Bidirectional(LSTM(8, return_sequences=True, dropout=0.0)))\n",
    "    #model.add(Bidirectional(LSTM(1, dropout=0.0)))\n",
    "    \n",
    "    \n",
    "    #model.add(LSTM(1, return_sequences=True, input_shape=(3, int(N/3)), dropout=0.5))\n",
    "    #model.add(LSTM(1, return_sequences=True, dropout=0.5))\n",
    "    model.add(Dense(256, activation='relu'))\n",
    "    #model.add(Dropout(0.1))\n",
    "    model.add(Dense(256, activation='relu'))\n",
    "    #model.add(Dropout(0.1))\n",
    "    #model.add(Dense(3, activation=mapping_to_pm300))\n",
    "    model.add(Dense(3, activation=None))\n",
    "    \n",
    "    return model"
   ]
  },
  {
   "cell_type": "code",
   "execution_count": 7,
   "metadata": {},
   "outputs": [],
   "source": [
    "my_network=createModel()"
   ]
  },
  {
   "cell_type": "code",
   "execution_count": 8,
   "metadata": {},
   "outputs": [
    {
     "name": "stdout",
     "output_type": "stream",
     "text": [
      "Model: \"sequential\"\n",
      "_________________________________________________________________\n",
      "Layer (type)                 Output Shape              Param #   \n",
      "=================================================================\n",
      "reshape (Reshape)            (None, 21, 300)           0         \n",
      "_________________________________________________________________\n",
      "masking (Masking)            (None, 21, 300)           0         \n",
      "_________________________________________________________________\n",
      "lstm (LSTM)                  (None, 21, 75)            112800    \n",
      "_________________________________________________________________\n",
      "lstm_1 (LSTM)                (None, 21, 75)            45300     \n",
      "_________________________________________________________________\n",
      "lstm_2 (LSTM)                (None, 21, 75)            45300     \n",
      "_________________________________________________________________\n",
      "lstm_3 (LSTM)                (None, 21, 75)            45300     \n",
      "_________________________________________________________________\n",
      "lstm_4 (LSTM)                (None, 21, 75)            45300     \n",
      "_________________________________________________________________\n",
      "lstm_5 (LSTM)                (None, 21, 75)            45300     \n",
      "_________________________________________________________________\n",
      "lstm_6 (LSTM)                (None, 75)                45300     \n",
      "_________________________________________________________________\n",
      "dense (Dense)                (None, 256)               19456     \n",
      "_________________________________________________________________\n",
      "dense_1 (Dense)              (None, 256)               65792     \n",
      "_________________________________________________________________\n",
      "dense_2 (Dense)              (None, 3)                 771       \n",
      "=================================================================\n",
      "Total params: 470,619\n",
      "Trainable params: 470,619\n",
      "Non-trainable params: 0\n",
      "_________________________________________________________________\n"
     ]
    }
   ],
   "source": [
    "my_network.summary()"
   ]
  },
  {
   "cell_type": "code",
   "execution_count": null,
   "metadata": {},
   "outputs": [
    {
     "name": "stdout",
     "output_type": "stream",
     "text": [
      "The crash is right after this\n",
      "Epoch 1/20\n",
      "1930/1930 [==============================] - 334s 173ms/step - loss: 1797.6486 - val_loss: 1672.5675\n",
      "Epoch 2/20\n",
      "1930/1930 [==============================] - 328s 170ms/step - loss: 1573.3568 - val_loss: 1483.5120\n",
      "Epoch 3/20\n",
      "1930/1930 [==============================] - 413s 214ms/step - loss: 1402.3256 - val_loss: 1350.2632\n",
      "Epoch 4/20\n",
      "1930/1930 [==============================] - 350s 181ms/step - loss: 1264.6881 - val_loss: 1237.4867\n",
      "Epoch 5/20\n",
      "1047/1930 [===============>..............] - ETA: 2:37 - loss: 1178.4746"
     ]
    }
   ],
   "source": [
    "batch_size = NEvts\n",
    "epochs = 20\n",
    "\n",
    "def mean_abs_theta_vtx(y_true, y_pred):\n",
    "    return K.mean(K.abs(y_true[:,0] - y_pred[:,0]))\n",
    "def mean_abs_phi_vtx(y_true, y_pred):\n",
    "    return K.mean(K.abs(y_true[:,1] - y_pred[:,1]))\n",
    "def mean_abs_r_vtx(y_true, y_pred):\n",
    "    return K.mean(K.abs(y_true[:,2] - y_pred[:,2]))\n",
    "def mean_abs_theta_dir(y_true, y_pred):\n",
    "    return K.mean(K.abs(y_true[:,3] - y_pred[:,3]))\n",
    "def mean_abs_phi_dir(y_true, y_pred):\n",
    "    return K.mean(K.abs(y_true[:,4] - y_pred[:,4]))\n",
    "\n",
    "def loss_by_R_square(y_true, y_pred):\n",
    "    return K.mean(K.square(y_true[:,0] - y_pred[:,0])+\n",
    "                  K.square(y_true[:,1] - y_pred[:,1])+\n",
    "                  K.square(y_true[:,2] - y_pred[:,2]) )\n",
    "\n",
    "my_network.compile(optimizer=Adam(lr=1e-5), #loss='mean_squared_error')#, \n",
    "                                            loss = loss_by_R_square)\n",
    "                   #metrics=['mean_squared_error', mean_abs_theta_vtx, mean_abs_phi_vtx, mean_abs_r_vtx])#, \n",
    "                                                  #mean_abs_theta_dir, mean_abs_phi_dir])\n",
    "\n",
    "my_network.load_weights(\"weights_vtx_dir_1el_7xLSTM75_6300_300_f1930_lr1e-5_Rloss_N1.h5\")\n",
    "#my_network.load_weights(\"weights_vtx_only_nocolor_LocallyConnected_f552_lr1e-3_0p5mSphere_0p0ns_0p0nm_norm_coverage65_N1epochs.h5\")\n",
    "print('The crash is right after this')\n",
    "history = my_network.fit_generator(generator=training_generator, epochs=epochs, \n",
    "                    validation_data=testing_generator) \n",
    "print('The crash is right after this 2')\n",
    "#my_network.evaluate(testX, testY)\n",
    "\n",
    "#The below is from Vertexing CPAD2018\n",
    "#print('The crash is right after this') \n",
    "#history = my_network.fit(trainX, trainY, batch_size=batch_size, epochs=epochs, verbose=1, validation_data=(testX, testY))\n",
    "#print('The crash is right after this 2')\n",
    "#my_network.evaluate(testX, testY)\n"
   ]
  },
  {
   "cell_type": "code",
   "execution_count": null,
   "metadata": {},
   "outputs": [],
   "source": [
    "my_network.save_weights(\"weights_vtx_dir_1el_7xLSTM75_6300_300_f1930_lr1e-5_Rloss_N2.h5\")\n",
    "#my_network.save_weights(\"weights_vtx_dir_1el_FCN_3x512_64_in6300_f1930_lr1e-5_N3.h5\")"
   ]
  },
  {
   "cell_type": "code",
   "execution_count": 12,
   "metadata": {},
   "outputs": [
    {
     "data": {
      "text/plain": [
       "Text(0.5, 1.0, 'Loss Curves')"
      ]
     },
     "execution_count": 12,
     "metadata": {},
     "output_type": "execute_result"
    },
    {
     "data": {
      "image/png": "[encoded data removed]",
      "text/plain": [
       "<Figure size 576x432 with 1 Axes>"
      ]
     },
     "metadata": {
      "needs_background": "light"
     },
     "output_type": "display_data"
    }
   ],
   "source": [
    "# Loss Curves\n",
    "plt.figure(figsize=[8,6])\n",
    "plt.plot(history.history['loss'],'r',linewidth=3.0)\n",
    "plt.plot(history.history['val_loss'],'b',linewidth=3.0)\n",
    "plt.legend(['Training loss', 'Validation Loss'],fontsize=18)\n",
    "plt.xlabel('Epochs ',fontsize=16)\n",
    "plt.ylabel('Loss',fontsize=16)\n",
    "plt.title('Loss Curves',fontsize=16)\n",
    " "
   ]
  },
  {
   "cell_type": "code",
   "execution_count": 21,
   "metadata": {},
   "outputs": [],
   "source": [
    "# Load data from x_dir, stop after loading fn_max files\n",
    "# Returns X, Y, Dir\n",
    "# X - independent variables\n",
    "# Y - dependend variables (x-, y-, z- of the vertex in this implementation)\n",
    "# Dir - direction vector (x-, y-, z- componenets), could be made dependent variable\n",
    "def load_test_data_to_memory(x_dir, fn_max=2000) :\n",
    "    X, Y, Dir = np.array([]), np.array([]), np.array([])\n",
    "    f_list = os.listdir(x_dir)\n",
    "    f_list.sort()\n",
    "    i=0\n",
    "    for x in f_list :\n",
    "        batch_data = np.load(os.path.join(x_dir, x))\n",
    "        \n",
    "        X = np.vstack([X, np.array(batch_data['x'])]) if X.size else np.array(batch_data['x'])\n",
    "        Y = np.vstack([Y, np.array(batch_data['y_vtx'])]) if Y.size else np.array(batch_data['y_vtx'])\n",
    "        Dir = np.vstack([Dir, np.array(batch_data['y_dir'])]) if Dir.size else np.array(batch_data['y_dir'])\n",
    "\n",
    "        i+=1\n",
    "        if i%10 == 0:\n",
    "            print(x)\n",
    "            print('i = ', i, '   ', X.shape, '   ', Y.shape, '   ', Dir.shape)\n",
    "        if i>=fn_max:\n",
    "            break\n",
    "    print(X.shape, '   ', Y.shape, '   ', Dir.shape)\n",
    "    return X, Y, Dir"
   ]
  },
  {
   "cell_type": "code",
   "execution_count": 22,
   "metadata": {},
   "outputs": [
    {
     "name": "stdout",
     "output_type": "stream",
     "text": [
      "f_batch_1008.npz\n",
      "i =  10     (10000, 6300)     (10000, 3)     (10000, 3)\n",
      "f_batch_1018.npz\n",
      "i =  20     (20000, 6300)     (20000, 3)     (20000, 3)\n",
      "f_batch_1028.npz\n",
      "i =  30     (30000, 6300)     (30000, 3)     (30000, 3)\n",
      "f_batch_1038.npz\n",
      "i =  40     (40000, 6300)     (40000, 3)     (40000, 3)\n",
      "f_batch_1048.npz\n",
      "i =  50     (50000, 6300)     (50000, 3)     (50000, 3)\n",
      "f_batch_1058.npz\n",
      "i =  60     (60000, 6300)     (60000, 3)     (60000, 3)\n",
      "(69000, 6300)     (69000, 3)     (69000, 3)\n"
     ]
    }
   ],
   "source": [
    "testX, testY, trueDir = load_test_data_to_memory('/data/Elagin/test_vtx_dir_1el_norm/',200)"
   ]
  },
  {
   "cell_type": "code",
   "execution_count": 23,
   "metadata": {},
   "outputs": [
    {
     "name": "stdout",
     "output_type": "stream",
     "text": [
      "shape recoY =  (69000, 3)    shape testY =  (69000, 3)\n",
      "(69000,)   dR_mean =  13.767806041962597\n",
      "(69000,)\n",
      "(69000, 3)\n",
      "dY:  [[ 10.37655278  15.68011348  -5.73305545]\n",
      " [ 40.64105501  -9.67227335 -11.2155043 ]\n",
      " [  5.39201558  11.27546282 -12.88926961]]\n",
      "dY_norm:  [[ 0.52787459  0.79767661 -0.29165122]\n",
      " [ 0.93955872 -0.22360809 -0.25928522]\n",
      " [ 0.30032529  0.62802241 -0.71790847]]\n",
      "(69000,)\n"
     ]
    }
   ],
   "source": [
    "recoY = my_network.predict(testX)\n",
    "\n",
    "print('shape recoY = ', recoY.shape, '   shape testY = ', testY.shape)\n",
    "\n",
    "dY = recoY - testY\n",
    "dY0 = recoY[:,0] - testY[:,0]\n",
    "dY1 = recoY[:,1] - testY[:,1]\n",
    "dY2 = recoY[:,2] - testY[:,2]\n",
    "dR = np.sqrt((recoY[:,0] - testY[:,0])*(recoY[:,0] - testY[:,0]) + (recoY[:,1] - testY[:,1])*(recoY[:,1] - testY[:,1]) + (recoY[:,2] - testY[:,2])*(recoY[:,2] - testY[:,2]) )\n",
    "print(dR.shape, '  dR_mean = ', np.mean(dR))\n",
    "R_true = np.sqrt(testY[:,0]*testY[:,0] + testY[:,1]*testY[:,1] + testY[:,2]*testY[:,2])\n",
    "print(R_true.shape)\n",
    "print(testY.shape)\n",
    "\n",
    "print('dY: ',dY[0:3,:])\n",
    "dRb = dR.reshape(dR.shape[0],1)\n",
    "dY = dY/dRb\n",
    "print('dY_norm: ',dY[0:3,:])\n",
    "#np.random.shuffle(trueDir)\n",
    "vtx_dot_dir = np.sum(dY*trueDir, axis=1)\n",
    "print(vtx_dot_dir.shape)"
   ]
  },
  {
   "cell_type": "code",
   "execution_count": 24,
   "metadata": {},
   "outputs": [
    {
     "data": {
      "text/plain": [
       "(array([   0.,    0.,    0.,    0.,    0.,    0.,    0.,    0.,    0.,\n",
       "           0.,  801.,  916.,  967., 1067., 1224., 1454., 1618., 1816.,\n",
       "        2147., 2394., 2758., 3010., 3637., 4072., 4591., 5421., 5966.,\n",
       "        7260., 8186., 9695.,    0.,    0.,    0.,    0.,    0.,    0.,\n",
       "           0.,    0.,    0.,    0.]),\n",
       " array([-2. , -1.9, -1.8, -1.7, -1.6, -1.5, -1.4, -1.3, -1.2, -1.1, -1. ,\n",
       "        -0.9, -0.8, -0.7, -0.6, -0.5, -0.4, -0.3, -0.2, -0.1,  0. ,  0.1,\n",
       "         0.2,  0.3,  0.4,  0.5,  0.6,  0.7,  0.8,  0.9,  1. ,  1.1,  1.2,\n",
       "         1.3,  1.4,  1.5,  1.6,  1.7,  1.8,  1.9,  2. ]),\n",
       " [<matplotlib.patches.Polygon at 0x7fedc02e6d30>])"
      ]
     },
     "execution_count": 24,
     "metadata": {},
     "output_type": "execute_result"
    },
    {
     "data": {
      "image/png": "[encoded data removed]",
      "text/plain": [
       "<Figure size 576x432 with 1 Axes>"
      ]
     },
     "metadata": {
      "needs_background": "light"
     },
     "output_type": "display_data"
    }
   ],
   "source": [
    "plt.figure(figsize=[8,6])\n",
    "plt.hist(vtx_dot_dir, bins=40, range=(-2,2), histtype='step',ls='solid', alpha = 1.0, lw=3, color= 'b')"
   ]
  },
  {
   "cell_type": "code",
   "execution_count": 25,
   "metadata": {},
   "outputs": [
    {
     "name": "stdout",
     "output_type": "stream",
     "text": [
      "MSE =  85.53682332403307\n",
      "MSE2 =  85.53682332403307\n",
      "dY0_Mean_vtx =  -1.653649799496071    dY1_Mean_vtx =  -0.2502357399278038    dY2_Mean_vtx =  -0.47876263112630124\n",
      "dY0_Rms_vtx =  12.18681723756991     dY1_Rms_vtx =  7.910887986515797     dY2_Rms_vtx =  6.746095674904711\n",
      "resolution_vtx =  16.019065827073035\n",
      "reco_Y1_vtx =  [104.074646  83.582855 -92.47071  ... -93.8332   155.03236  164.75452 ]\n",
      "test_Y1_vtx =  [  88.39453251   93.25512858 -103.74617358 ...  -95.89908356  147.26501423\n",
      "  174.45347208]\n",
      "Mean_true_vtx_0 =  0.670034678007085    Mean_true_vtx_1 =  -0.5676216972889134 Mean_true_vtx_2 =  0.6261354391093403\n",
      "RMS_true_vtx_0 =  134.53088806010035    RMS_true_vtx_1 =  134.04121142703264   RMS_true_vtx_2 =  134.17275749549958\n"
     ]
    },
    {
     "data": {
      "image/png": "[encoded data removed]",
      "text/plain": [
       "<Figure size 432x288 with 1 Axes>"
      ]
     },
     "metadata": {
      "needs_background": "light"
     },
     "output_type": "display_data"
    },
    {
     "data": {
      "image/png": "[encoded data removed]",
      "text/plain": [
       "<Figure size 432x288 with 1 Axes>"
      ]
     },
     "metadata": {
      "needs_background": "light"
     },
     "output_type": "display_data"
    },
    {
     "data": {
      "image/png": "[encoded data removed]",
      "text/plain": [
       "<Figure size 432x288 with 1 Axes>"
      ]
     },
     "metadata": {
      "needs_background": "light"
     },
     "output_type": "display_data"
    },
    {
     "data": {
      "image/png": "[encoded data removed]",
      "text/plain": [
       "<Figure size 432x288 with 1 Axes>"
      ]
     },
     "metadata": {
      "needs_background": "light"
     },
     "output_type": "display_data"
    },
    {
     "data": {
      "image/png": "[encoded data removed]",
      "text/plain": [
       "<Figure size 432x288 with 1 Axes>"
      ]
     },
     "metadata": {
      "needs_background": "light"
     },
     "output_type": "display_data"
    }
   ],
   "source": [
    "MSE = np.mean( (recoY.flatten()[:] - testY.flatten()[:])*(recoY.flatten()[:] - testY.flatten()[:]) )\n",
    "print('MSE = ', MSE)\n",
    "\n",
    "#MSE2 = np.mean(np.square(recoY - testY), axis=-1)\n",
    "MSE2 = np.mean(np.square(recoY.flatten()[:] - testY.flatten()[:]), axis=-1)\n",
    "print('MSE2 = ', MSE2)\n",
    "\n",
    "#dTheta_dir = recoY[:,3] - testY[:,3]\n",
    "#dPhi_dir = recoY[:,4] - testY[:,4]\n",
    "print('dY0_Mean_vtx = ' ,np.mean(dY0), '   dY1_Mean_vtx = ', np.mean(dY1), '   dY2_Mean_vtx = ' ,np.mean(dY2))\n",
    "print('dY0_Rms_vtx = ',np.sqrt(np.mean(np.square(dY0))), '    dY1_Rms_vtx = ',np.sqrt(np.mean(np.square(dY1))), '    dY2_Rms_vtx = ',np.sqrt(np.mean(np.square(dY2))))\n",
    "print('resolution_vtx = ', np.sqrt(np.mean(np.square(dY0)) + np.mean(np.square(dY1)) + np.mean(np.square(dY2)) ) )\n",
    "#print('ThetaMean_dir = ',np.mean(dTheta_dir),'   PhiMean_dir = ',np.mean(dPhi_dir))\n",
    "#print('ThetaRms_dir = ',np.sqrt(np.mean(np.square(dTheta_dir))), '   PhiRms_dir = ',np.sqrt(np.mean(np.square(dPhi_dir))))\n",
    "\n",
    "print('reco_Y1_vtx = ',recoY[:,1])\n",
    "print('test_Y1_vtx = ',testY[:,1])\n",
    "\n",
    "\n",
    "fig_scatt = plt.figure()\n",
    "plt.scatter(R_true, dR)\n",
    "\n",
    "fig_dYs = plt.figure()\n",
    "plt.hist(dY0, bins=40, range=(-20,20), histtype='step',ls='solid', alpha = 1.0, lw=3, color= 'r')\n",
    "plt.hist(dY1, bins=40, range=(-20,20), histtype='step',ls='solid', alpha = 1.0, lw=3, color= 'g')\n",
    "plt.hist(dY2, bins=40, range=(-20,20), histtype='step',ls='solid', alpha = 1.0, lw=3, color= 'b')\n",
    "\n",
    "fig_Y0s = plt.figure()\n",
    "plt.hist(recoY[:,0], bins=50, range=(-500,500), histtype='step',ls='--', alpha = 1.0, lw=3, color= 'r')\n",
    "plt.hist(testY[:,0], bins=50, range=(-500,500), histtype='step',ls='solid', alpha = 1.0, lw=3, color= 'r')\n",
    "fig_Y1s = plt.figure()\n",
    "plt.hist(recoY[:,1], bins=50, range=(-500,500), histtype='step',ls='--', alpha = 1.0, lw=3, color= 'g')\n",
    "plt.hist(testY[:,1], bins=50, range=(-500,500), histtype='step',ls='solid', alpha = 1.0, lw=3, color= 'g')\n",
    "fig_Y2s = plt.figure()\n",
    "plt.hist(recoY[:,2], bins=50, range=(-500,500), histtype='step',ls='--', alpha = 1.0, lw=3, color= 'b')\n",
    "plt.hist(testY[:,2], bins=50, range=(-500,500), histtype='step',ls='solid', alpha = 1.0, lw=3, color= 'b')\n",
    "\n",
    "print('Mean_true_vtx_0 = ', np.mean(testY[:,0]), '   Mean_true_vtx_1 = ' , np.mean(testY[:,1]), 'Mean_true_vtx_2 = ', np.mean(testY[:,2]))\n",
    "print('RMS_true_vtx_0 = ' , np.sqrt(np.mean(np.square(testY[:,0]))), '   RMS_true_vtx_1 = ' , np.sqrt(np.mean(np.square(testY[:,1]))), '  RMS_true_vtx_2 = ', np.sqrt(np.mean(np.square(testY[:,2]))) )"
   ]
  },
  {
   "cell_type": "code",
   "execution_count": null,
   "metadata": {},
   "outputs": [],
   "source": []
  }
 ],
 "metadata": {
  "kernelspec": {
   "display_name": "Python 3",
   "language": "python",
   "name": "python3"
  },
  "language_info": {
   "codemirror_mode": {
    "name": "ipython",
    "version": 3
   },
   "file_extension": ".py",
   "mimetype": "text/x-python",
   "name": "python",
   "nbconvert_exporter": "python",
   "pygments_lexer": "ipython3",
   "version": "3.8.5"
  }
 },
 "nbformat": 4,
 "nbformat_minor": 4
}
