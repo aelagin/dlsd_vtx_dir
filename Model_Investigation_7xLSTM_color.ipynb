{
 "cells": [
  {
   "cell_type": "markdown",
   "metadata": {},
   "source": [
    "## Vertex reconstruction in a large Directional Liquid Scintillator Detector\n",
    "Training data location: https://stash.osgconnect.net/public/elagin/vtx_dir_1el_norm/\n",
    "\n",
    "Testing data location: https://stash.osgconnect.net/public/elagin/test_vtx_dir_1el_norm/\n",
    "\n",
    "Data are .npz files with 3 numpy arrays. Where each row correspond to one event.\n",
    "\n",
    "\"x\" is a (1000,6300) array of \"independent variables\", photo-electron hits (theta, phi, and time). Hit coordinate encoding in each row is the folowing: \\\n",
    "theta = x[:,0::3] \\\n",
    "phi = x[:,1::3] \\\n",
    "time = x[:,2::3] \\\n",
    "All data is normalized as theta = theta/pi, phi = phi/(2pi), time = time/maxT (currently maxT=150). \\\n",
    "Each row in \"x\" is padded with -1 to make it a length of 6300 \n",
    "\n",
    "\"y_vtx\" is a (1000,3) array of \"dependent variable\", true x-,y-,z- coordinates of the event vertex to be reconstructed \\\n",
    "\"y_dir\" is a (1000,3) array of \"dependent variable\", true x-,y-,z- coordinates of the unit vector along the original direction of the electron\n",
    "\n",
    "See checking_inputs.ipynb and checking_inputs_norm.ipynb for more details on the data"
   ]
  },
  {
   "cell_type": "code",
   "execution_count": 1,
   "metadata": {},
   "outputs": [],
   "source": [
    "import os\n",
    "import math\n",
    "\n",
    "import matplotlib.pyplot as plt \n",
    "\n",
    "import numpy as np\n",
    "import pandas as pd\n",
    "import random"
   ]
  },
  {
   "cell_type": "code",
   "execution_count": 2,
   "metadata": {},
   "outputs": [],
   "source": [
    "\n",
    "from keras.models import Sequential, Model\n",
    "from keras.layers import Dense, Activation, Flatten, Reshape, Lambda, Input, Concatenate, concatenate\n",
    "from keras.layers import Conv1D, Conv2D, Conv2DTranspose, UpSampling2D, MaxPooling1D, MaxPooling2D, LocallyConnected2D, LocallyConnected1D\n",
    "from keras.layers import LSTM, Bidirectional\n",
    "from keras.layers import Masking\n",
    "from keras.layers import LeakyReLU, Dropout\n",
    "from keras.layers import BatchNormalization\n",
    "from keras.optimizers import Adam, RMSprop\n",
    "from keras.utils import to_categorical\n",
    "import keras.backend as K"
   ]
  },
  {
   "cell_type": "code",
   "execution_count": 3,
   "metadata": {},
   "outputs": [],
   "source": [
    "#global variables\n",
    "maxT = 37\n",
    "maxLambda = 800\n",
    "PAD_VALUE = -1\n",
    "NEvts = 1000\n",
    "pi = 3.141592653589793\n",
    "NFiles = 100"
   ]
  },
  {
   "cell_type": "markdown",
   "metadata": {},
   "source": [
    "### Custom generator to load large datasets"
   ]
  },
  {
   "cell_type": "code",
   "execution_count": 4,
   "metadata": {},
   "outputs": [],
   "source": [
    "from keras.utils import Sequence\n",
    "from keras.preprocessing.sequence import pad_sequences\n",
    "\n",
    "class MyGenerator(Sequence):\n",
    "    def __init__(self, x_dir, batch_size):\n",
    "        self.x_dir = x_dir\n",
    "        self.x = os.listdir(x_dir)\n",
    "        self.batch_size = batch_size\n",
    "        print('Generator init complete')\n",
    "        \n",
    "    def __len__(self):\n",
    "        nf = self.batch_size/(NEvts) # calculate number of files\n",
    "        return math.ceil(len(self.x) / nf)\n",
    "\n",
    "    def __getitem__(self, idx):\n",
    "        batch_data = np.load(os.path.join(self.x_dir, self.x[idx]))\n",
    "        Y = np.array(batch_data['y_vtx'])\n",
    "        return np.array(batch_data['x']), Y"
   ]
  },
  {
   "cell_type": "code",
   "execution_count": 5,
   "metadata": {},
   "outputs": [
    {
     "name": "stdout",
     "output_type": "stream",
     "text": [
      "Generator init complete\n"
     ]
    }
   ],
   "source": [
    "training_generator = MyGenerator('/data/Elagin/vtx_dir_1el_color_norm', NEvts)\n",
    "\n",
    "#testing_generator = MyGenerator('/data/Elagin/test_vtx_dir_1el_color_norm', NEvts)"
   ]
  },
  {
   "cell_type": "markdown",
   "metadata": {},
   "source": [
    "### Loading data that can fit into RAM"
   ]
  },
  {
   "cell_type": "code",
   "execution_count": 6,
   "metadata": {},
   "outputs": [],
   "source": [
    "# Load data from x_dir, stop after loading fn_max files\n",
    "# Returns X, Y, Dir\n",
    "# X - independent variables\n",
    "# Y - dependend variables (x-, y-, z- of the vertex in this implementation)\n",
    "# Dir - direction vector (x-, y-, z- componenets), could be made dependent variable\n",
    "def load_test_data_to_memory(x_dir, fn_max=2000) :\n",
    "    X, Y, Dir = np.array([]), np.array([]), np.array([])\n",
    "    f_list = os.listdir(x_dir)\n",
    "    f_list.sort()\n",
    "    i=0\n",
    "    for x in f_list :\n",
    "        batch_data = np.load(os.path.join(x_dir, x))\n",
    "        \n",
    "        X = np.vstack([X, np.array(batch_data['x'])]) if X.size else np.array(batch_data['x'])\n",
    "        Y = np.vstack([Y, np.array(batch_data['y_vtx'])]) if Y.size else np.array(batch_data['y_vtx'])\n",
    "        Dir = np.vstack([Dir, np.array(batch_data['y_dir'])]) if Dir.size else np.array(batch_data['y_dir'])\n",
    "\n",
    "        i+=1\n",
    "        if i%10 == 0:\n",
    "            print(x)\n",
    "            print('i = ', i, '   ', X.shape, '   ', Y.shape, '   ', Dir.shape)\n",
    "        if i>=fn_max:\n",
    "            break\n",
    "    print(X.shape, '   ', Y.shape, '   ', Dir.shape)\n",
    "    return X, Y, Dir"
   ]
  },
  {
   "cell_type": "code",
   "execution_count": 7,
   "metadata": {},
   "outputs": [
    {
     "name": "stdout",
     "output_type": "stream",
     "text": [
      "f_batch_18.npz\n",
      "i =  10     (10000, 8400)     (10000, 3)     (10000, 3)\n",
      "f_batch_27.npz\n",
      "i =  20     (20000, 8400)     (20000, 3)     (20000, 3)\n",
      "f_batch_36.npz\n",
      "i =  30     (30000, 8400)     (30000, 3)     (30000, 3)\n",
      "f_batch_45.npz\n",
      "i =  40     (40000, 8400)     (40000, 3)     (40000, 3)\n",
      "(49000, 8400)     (49000, 3)     (49000, 3)\n"
     ]
    }
   ],
   "source": [
    "testX, testY, trueDir = load_test_data_to_memory('/data/Elagin/test_vtx_dir_1el_color_norm/')"
   ]
  },
  {
   "cell_type": "code",
   "execution_count": 9,
   "metadata": {},
   "outputs": [],
   "source": [
    "#trainX, trainY, trueDir_training = load_test_data_to_memory('/data/Elagin/vtx_dir_1el_norm/',200)"
   ]
  },
  {
   "cell_type": "markdown",
   "metadata": {},
   "source": [
    "### Defining various activation functions"
   ]
  },
  {
   "cell_type": "code",
   "execution_count": 8,
   "metadata": {},
   "outputs": [],
   "source": [
    "def mapping_to_pmOne(x) :\n",
    "    return 2*K.sigmoid(x) - 1\n",
    "\n",
    "def mapping_to_pm50(x) :\n",
    "    return mapping_to_pmOne(x)*50\n",
    "\n",
    "def mapping_to_pm300(x) :\n",
    "    return mapping_to_pmOne(x)*300\n",
    "\n",
    "def mapping_to_0_50(x) :\n",
    "    return 50*K.sigmoid(x)\n",
    "\n",
    "\n",
    "def mapping_to_target_range_all( x, target_min=-0.02*pi, target_max=2.02*pi ) :\n",
    "    x02 = K.tanh(x) + 1 # x in range(0,2)\n",
    "    scale = ( target_max-target_min )/2.\n",
    "    return  x02 * scale + target_min\n",
    "\n",
    "def mapping_to_target_range_2pi( x, target_min=-0.00*pi, target_max=2.00*pi ) :\n",
    "    x02 = K.tanh(x) + 1 # x in range(0,2)\n",
    "    scale = ( target_max-target_min )/2.\n",
    "    return  x02 * scale + target_min\n",
    "    #return K.sigmoid(x)*target_max\n",
    "\n",
    "def mapping_to_target_range_pi( x, target_min=-0.00*pi, target_max=1.00*pi ) :\n",
    "    x02 = K.tanh(x) + 1 # x in range(0,2)\n",
    "    scale = ( target_max-target_min )/2.\n",
    "    return  x02 * scale + target_min\n",
    "    #return K.sigmoid(x)*target_max\n",
    "\n",
    "def mapping_to_target_range_phi( x, target_min=0, target_max=2*pi ) :\n",
    "    print('is x keras tensor:', K.is_keras_tensor(x))\n",
    "    print('x shape = ',K.int_shape(x))\n",
    "    print('x shape = ',K.shape(x))\n",
    "    #phi = K.placeholder(shape=(None,1))\n",
    "    phi = Input([1])\n",
    "    #theta = K.placeholder(shape=(None,1))\n",
    "    theta = Input([1])\n",
    "    #r = K.placeholder(shape=(None,1))\n",
    "    r = Input([1])\n",
    "    print('phi shape = ',K.int_shape(phi))\n",
    "    print('is phi keras tensor:', K.is_keras_tensor(phi))\n",
    "    phi = K.concatenate([phi, [K.tanh(x[:,1]) + 1]], axis=0) # x in range(0,2)\n",
    "    #phi = K.tanh(x[:,1]) + 1\n",
    "    theta = K.concatenate([theta, [x[:,0]]], axis=0)\n",
    "    #theta = x[:,0]\n",
    "    r = K.concatenate([r, [x[:,2]]], axis=0)\n",
    "    #r = x[:,2]\n",
    "    print('phi shape = ',K.int_shape(phi))\n",
    "    print('is phi keras tensor:', K.is_keras_tensor(phi))\n",
    "    print('theta shape = ',K.int_shape(theta))\n",
    "    print('r shape = ',K.int_shape(r))\n",
    "    scale = ( target_max-target_min )/2.\n",
    "    phi =  phi * scale + target_min\n",
    "    #phi = K.cast(phi, dtype='int32')\n",
    "    #phi = K.reshape(phi, (,1))\n",
    "    print('phi shape = ',K.int_shape(phi))\n",
    "    \n",
    "    res = K.concatenate([theta, phi, r], axis=1)\n",
    "    print('res shape = ',K.int_shape(res))\n",
    "    print('res shape = ',K.shape(res))\n",
    "    print('is res keras tensor:', K.is_keras_tensor(res))\n",
    "    x[:,1].assign(phi)\n",
    "    return x\n",
    "\n",
    "def mapping_to_target_range_phi2( x, target_min=0, target_max=2*pi ) :\n",
    "    scale = ( target_max-target_min )/2.\n",
    "    phi = K.placeholder(shape=(None,1))\n",
    "    #phi = Input([1])\n",
    "    #phi = (K.tanh(x[:,1]) + 1)*scale + target_min\n",
    "    phi = K.concatenate([phi, [(K.tanh(x[:,1]) + 1)*scale + target_min]], axis=0)\n",
    "    x[:,1].assign(phi)\n",
    "    return x"
   ]
  },
  {
   "cell_type": "markdown",
   "metadata": {},
   "source": [
    "### The model"
   ]
  },
  {
   "cell_type": "code",
   "execution_count": 9,
   "metadata": {},
   "outputs": [],
   "source": [
    "def createModel():\n",
    "    N=8400\n",
    "    lstm_seq = 400\n",
    "    lstm_steps = int(N/lstm_seq)\n",
    "    model = Sequential()\n",
    "    \n",
    "    model.add(Reshape(input_shape=(N,), target_shape=(lstm_steps,lstm_seq)))\n",
    "    \n",
    "    model.add(Masking(mask_value=-1, input_shape=(lstm_steps, lstm_seq)))\n",
    "    \n",
    "    model.add(LSTM(75, return_sequences=True, input_shape=(lstm_steps,lstm_seq), dropout=0.0))\n",
    "    model.add(LSTM(75, return_sequences=True, input_shape=(lstm_steps,lstm_seq), dropout=0.0))\n",
    "    model.add(LSTM(75, return_sequences=True, input_shape=(lstm_steps,lstm_seq), dropout=0.0))\n",
    "    model.add(LSTM(75, return_sequences=True, input_shape=(lstm_steps,lstm_seq), dropout=0.0))\n",
    "    model.add(LSTM(75, return_sequences=True, input_shape=(lstm_steps,lstm_seq), dropout=0.0))\n",
    "    model.add(LSTM(75, return_sequences=True, input_shape=(lstm_steps,lstm_seq), dropout=0.0))\n",
    "    model.add(LSTM(75, input_shape=(lstm_steps,lstm_seq), dropout=0.0))\n",
    "    \n",
    "    model.add(Dense(256, activation='relu'))\n",
    "    #model.add(Dropout(0.1))\n",
    "    model.add(Dense(256, activation='relu'))\n",
    "    #model.add(Dropout(0.1))\n",
    "    model.add(Dense(3, activation=mapping_to_pm300))\n",
    "#    model.add(Dense(3, activation=None))\n",
    "    \n",
    "    return model"
   ]
  },
  {
   "cell_type": "code",
   "execution_count": 10,
   "metadata": {},
   "outputs": [],
   "source": [
    "my_network=createModel()"
   ]
  },
  {
   "cell_type": "code",
   "execution_count": 11,
   "metadata": {},
   "outputs": [
    {
     "name": "stdout",
     "output_type": "stream",
     "text": [
      "Model: \"sequential\"\n",
      "_________________________________________________________________\n",
      "Layer (type)                 Output Shape              Param #   \n",
      "=================================================================\n",
      "reshape (Reshape)            (None, 21, 400)           0         \n",
      "_________________________________________________________________\n",
      "masking (Masking)            (None, 21, 400)           0         \n",
      "_________________________________________________________________\n",
      "lstm (LSTM)                  (None, 21, 75)            142800    \n",
      "_________________________________________________________________\n",
      "lstm_1 (LSTM)                (None, 21, 75)            45300     \n",
      "_________________________________________________________________\n",
      "lstm_2 (LSTM)                (None, 21, 75)            45300     \n",
      "_________________________________________________________________\n",
      "lstm_3 (LSTM)                (None, 21, 75)            45300     \n",
      "_________________________________________________________________\n",
      "lstm_4 (LSTM)                (None, 21, 75)            45300     \n",
      "_________________________________________________________________\n",
      "lstm_5 (LSTM)                (None, 21, 75)            45300     \n",
      "_________________________________________________________________\n",
      "lstm_6 (LSTM)                (None, 75)                45300     \n",
      "_________________________________________________________________\n",
      "dense (Dense)                (None, 256)               19456     \n",
      "_________________________________________________________________\n",
      "dense_1 (Dense)              (None, 256)               65792     \n",
      "_________________________________________________________________\n",
      "dense_2 (Dense)              (None, 3)                 771       \n",
      "=================================================================\n",
      "Total params: 500,619\n",
      "Trainable params: 500,619\n",
      "Non-trainable params: 0\n",
      "_________________________________________________________________\n"
     ]
    }
   ],
   "source": [
    "my_network.summary()"
   ]
  },
  {
   "cell_type": "markdown",
   "metadata": {},
   "source": [
    "### Run the model"
   ]
  },
  {
   "cell_type": "code",
   "execution_count": 21,
   "metadata": {},
   "outputs": [
    {
     "name": "stdout",
     "output_type": "stream",
     "text": [
      "Epoch 1/100\n",
      "950/950 [==============================] - 388s 408ms/step - loss: 45.0885 - val_loss: 45.4353\n",
      "Epoch 2/100\n",
      "950/950 [==============================] - 372s 392ms/step - loss: 45.0608 - val_loss: 47.6226\n",
      "Epoch 3/100\n",
      "950/950 [==============================] - 386s 406ms/step - loss: 44.9739 - val_loss: 44.7427\n",
      "Epoch 4/100\n",
      "950/950 [==============================] - 392s 413ms/step - loss: 44.9025 - val_loss: 46.2508\n",
      "Epoch 5/100\n",
      "950/950 [==============================] - 391s 411ms/step - loss: 44.9518 - val_loss: 44.6101\n",
      "Epoch 6/100\n",
      "950/950 [==============================] - 393s 414ms/step - loss: 44.9178 - val_loss: 45.5880\n",
      "Epoch 7/100\n",
      "950/950 [==============================] - 384s 404ms/step - loss: 44.8646 - val_loss: 45.1323\n",
      "Epoch 8/100\n",
      "950/950 [==============================] - 384s 404ms/step - loss: 44.9437 - val_loss: 44.7695\n",
      "Epoch 9/100\n",
      "950/950 [==============================] - 386s 406ms/step - loss: 44.9528 - val_loss: 44.9828\n",
      "Epoch 10/100\n",
      "950/950 [==============================] - 383s 404ms/step - loss: 44.8438 - val_loss: 45.0119\n",
      "Epoch 11/100\n",
      "950/950 [==============================] - 390s 411ms/step - loss: 44.9166 - val_loss: 45.4486\n",
      "Epoch 12/100\n",
      "950/950 [==============================] - 388s 408ms/step - loss: 44.7866 - val_loss: 45.0880\n",
      "Epoch 13/100\n",
      "950/950 [==============================] - 385s 406ms/step - loss: 44.9320 - val_loss: 45.3479\n",
      "Epoch 14/100\n",
      "950/950 [==============================] - 385s 405ms/step - loss: 44.8494 - val_loss: 44.9152\n",
      "Epoch 15/100\n",
      "950/950 [==============================] - 387s 407ms/step - loss: 44.7712 - val_loss: 45.0520\n",
      "Epoch 16/100\n",
      "950/950 [==============================] - 380s 400ms/step - loss: 44.7878 - val_loss: 46.0305\n",
      "Epoch 17/100\n",
      "950/950 [==============================] - 387s 407ms/step - loss: 44.7859 - val_loss: 46.0538\n",
      "Epoch 18/100\n",
      "950/950 [==============================] - 389s 410ms/step - loss: 44.8313 - val_loss: 45.3820\n",
      "Epoch 19/100\n",
      "950/950 [==============================] - 388s 409ms/step - loss: 44.6485 - val_loss: 45.2572\n",
      "Epoch 20/100\n",
      "950/950 [==============================] - 391s 412ms/step - loss: 44.7904 - val_loss: 45.2612\n",
      "Epoch 21/100\n",
      "950/950 [==============================] - 389s 410ms/step - loss: 44.6754 - val_loss: 45.6543\n",
      "Epoch 22/100\n",
      "950/950 [==============================] - 389s 409ms/step - loss: 44.7229 - val_loss: 45.3187\n",
      "Epoch 23/100\n",
      "950/950 [==============================] - 388s 408ms/step - loss: 44.7162 - val_loss: 49.6963\n",
      "Epoch 24/100\n",
      "950/950 [==============================] - 389s 409ms/step - loss: 44.7330 - val_loss: 45.7992\n",
      "Epoch 25/100\n",
      "950/950 [==============================] - 386s 406ms/step - loss: 44.5914 - val_loss: 44.8547\n",
      "Epoch 26/100\n",
      "950/950 [==============================] - 391s 412ms/step - loss: 44.6414 - val_loss: 45.3271\n",
      "Epoch 27/100\n",
      "950/950 [==============================] - 391s 411ms/step - loss: 44.5371 - val_loss: 44.7509\n",
      "Epoch 28/100\n",
      "950/950 [==============================] - 386s 406ms/step - loss: 44.6883 - val_loss: 45.0540\n",
      "Epoch 29/100\n",
      "950/950 [==============================] - 392s 412ms/step - loss: 44.6032 - val_loss: 44.5253\n",
      "Epoch 30/100\n",
      "950/950 [==============================] - 380s 400ms/step - loss: 44.6138 - val_loss: 44.7311\n",
      "Epoch 31/100\n",
      "950/950 [==============================] - 388s 408ms/step - loss: 44.5358 - val_loss: 44.4414\n",
      "Epoch 32/100\n",
      "950/950 [==============================] - 393s 413ms/step - loss: 44.4806 - val_loss: 44.5286\n",
      "Epoch 33/100\n",
      "950/950 [==============================] - 385s 405ms/step - loss: 44.6108 - val_loss: 45.3335\n",
      "Epoch 34/100\n",
      "950/950 [==============================] - 391s 412ms/step - loss: 44.4838 - val_loss: 44.7402\n",
      "Epoch 35/100\n",
      "950/950 [==============================] - 389s 410ms/step - loss: 44.4746 - val_loss: 45.0125\n",
      "Epoch 36/100\n",
      "950/950 [==============================] - 386s 406ms/step - loss: 44.5111 - val_loss: 44.6764\n",
      "Epoch 37/100\n",
      "950/950 [==============================] - 386s 406ms/step - loss: 44.5389 - val_loss: 45.2216\n",
      "Epoch 38/100\n",
      "950/950 [==============================] - 387s 408ms/step - loss: 44.5230 - val_loss: 45.1757\n",
      "Epoch 39/100\n",
      "950/950 [==============================] - 391s 411ms/step - loss: 44.4676 - val_loss: 45.5013\n",
      "Epoch 40/100\n",
      "950/950 [==============================] - 377s 396ms/step - loss: 44.4562 - val_loss: 44.3050\n",
      "Epoch 41/100\n",
      "950/950 [==============================] - 391s 411ms/step - loss: 44.4588 - val_loss: 44.6634\n",
      "Epoch 42/100\n",
      "950/950 [==============================] - 388s 409ms/step - loss: 44.3961 - val_loss: 44.8965\n",
      "Epoch 43/100\n",
      "950/950 [==============================] - 388s 408ms/step - loss: 44.4700 - val_loss: 45.1602\n",
      "Epoch 44/100\n",
      "950/950 [==============================] - 390s 410ms/step - loss: 44.2894 - val_loss: 44.7757\n",
      "Epoch 45/100\n",
      "950/950 [==============================] - 390s 411ms/step - loss: 44.3808 - val_loss: 44.5423\n",
      "Epoch 46/100\n",
      "950/950 [==============================] - 388s 409ms/step - loss: 44.3985 - val_loss: 45.0204\n",
      "Epoch 47/100\n",
      "950/950 [==============================] - 388s 409ms/step - loss: 44.3238 - val_loss: 45.7155\n",
      "Epoch 48/100\n",
      "950/950 [==============================] - 391s 411ms/step - loss: 44.3549 - val_loss: 44.1782\n",
      "Epoch 49/100\n",
      "950/950 [==============================] - 389s 410ms/step - loss: 44.3608 - val_loss: 46.1498\n",
      "Epoch 50/100\n",
      "950/950 [==============================] - 390s 411ms/step - loss: 44.3861 - val_loss: 44.1988\n",
      "Epoch 51/100\n",
      "950/950 [==============================] - 385s 405ms/step - loss: 44.2196 - val_loss: 45.6035\n",
      "Epoch 52/100\n",
      "950/950 [==============================] - 349s 368ms/step - loss: 44.4309 - val_loss: 45.0413\n",
      "Epoch 53/100\n",
      "950/950 [==============================] - 315s 332ms/step - loss: 44.2562 - val_loss: 45.2054\n",
      "Epoch 54/100\n",
      "950/950 [==============================] - 307s 323ms/step - loss: 44.2762 - val_loss: 45.9255\n",
      "Epoch 55/100\n",
      "950/950 [==============================] - 314s 331ms/step - loss: 44.2290 - val_loss: 44.9676\n",
      "Epoch 56/100\n",
      "950/950 [==============================] - 332s 349ms/step - loss: 44.2609 - val_loss: 44.2751\n",
      "Epoch 57/100\n",
      "950/950 [==============================] - 349s 367ms/step - loss: 44.2756 - val_loss: 44.3142\n",
      "Epoch 58/100\n",
      "950/950 [==============================] - 366s 386ms/step - loss: 44.1932 - val_loss: 44.3743\n",
      "Epoch 59/100\n",
      "950/950 [==============================] - 355s 373ms/step - loss: 44.2589 - val_loss: 44.0989\n",
      "Epoch 60/100\n",
      "950/950 [==============================] - 352s 370ms/step - loss: 44.2481 - val_loss: 44.4056\n",
      "Epoch 61/100\n",
      "950/950 [==============================] - 355s 374ms/step - loss: 44.2620 - val_loss: 44.4627\n",
      "Epoch 62/100\n",
      "950/950 [==============================] - 345s 363ms/step - loss: 44.2083 - val_loss: 44.2755\n",
      "Epoch 63/100\n",
      "950/950 [==============================] - 363s 382ms/step - loss: 44.1341 - val_loss: 45.0861\n",
      "Epoch 64/100\n",
      "950/950 [==============================] - 372s 392ms/step - loss: 44.1168 - val_loss: 44.4286\n",
      "Epoch 65/100\n",
      "950/950 [==============================] - 351s 369ms/step - loss: 44.1813 - val_loss: 44.2861\n",
      "Epoch 66/100\n",
      "950/950 [==============================] - 353s 371ms/step - loss: 44.0852 - val_loss: 44.2437\n",
      "Epoch 67/100\n",
      "950/950 [==============================] - 368s 387ms/step - loss: 44.1417 - val_loss: 44.1342\n",
      "Epoch 68/100\n",
      "950/950 [==============================] - 388s 409ms/step - loss: 44.0720 - val_loss: 44.4633\n",
      "Epoch 69/100\n",
      "950/950 [==============================] - 387s 407ms/step - loss: 44.1732 - val_loss: 44.4594\n",
      "Epoch 70/100\n",
      "950/950 [==============================] - 388s 409ms/step - loss: 44.0281 - val_loss: 44.1176\n",
      "Epoch 71/100\n",
      "950/950 [==============================] - 393s 414ms/step - loss: 44.1568 - val_loss: 45.9790\n",
      "Epoch 72/100\n",
      "950/950 [==============================] - 384s 404ms/step - loss: 44.0760 - val_loss: 43.8845\n",
      "Epoch 73/100\n",
      "950/950 [==============================] - 393s 414ms/step - loss: 44.1059 - val_loss: 44.2815\n",
      "Epoch 74/100\n",
      "950/950 [==============================] - 390s 410ms/step - loss: 43.9144 - val_loss: 43.9129\n",
      "Epoch 75/100\n",
      "950/950 [==============================] - 379s 399ms/step - loss: 44.0974 - val_loss: 43.9606\n",
      "Epoch 76/100\n",
      "950/950 [==============================] - 370s 389ms/step - loss: 44.0254 - val_loss: 44.0881\n",
      "Epoch 77/100\n",
      "950/950 [==============================] - 356s 375ms/step - loss: 44.0241 - val_loss: 44.5103\n",
      "Epoch 78/100\n",
      "950/950 [==============================] - 373s 393ms/step - loss: 43.9695 - val_loss: 45.0374\n",
      "Epoch 79/100\n",
      "950/950 [==============================] - 377s 397ms/step - loss: 43.9338 - val_loss: 44.4993\n",
      "Epoch 80/100\n",
      "950/950 [==============================] - 380s 400ms/step - loss: 43.9059 - val_loss: 44.7259\n",
      "Epoch 81/100\n",
      "950/950 [==============================] - 377s 397ms/step - loss: 43.9869 - val_loss: 44.4571\n",
      "Epoch 82/100\n",
      "950/950 [==============================] - 386s 407ms/step - loss: 43.9922 - val_loss: 44.5802\n",
      "Epoch 83/100\n",
      "950/950 [==============================] - 394s 415ms/step - loss: 43.8836 - val_loss: 44.7137\n",
      "Epoch 84/100\n",
      "950/950 [==============================] - 387s 407ms/step - loss: 43.9228 - val_loss: 44.7579\n",
      "Epoch 85/100\n",
      "950/950 [==============================] - 386s 406ms/step - loss: 43.8570 - val_loss: 43.8875\n",
      "Epoch 86/100\n",
      "950/950 [==============================] - 389s 409ms/step - loss: 43.9597 - val_loss: 44.2140\n",
      "Epoch 87/100\n",
      "950/950 [==============================] - 385s 405ms/step - loss: 43.8467 - val_loss: 43.9870\n",
      "Epoch 88/100\n",
      "950/950 [==============================] - 383s 403ms/step - loss: 43.8353 - val_loss: 44.6790\n",
      "Epoch 89/100\n",
      "950/950 [==============================] - 386s 406ms/step - loss: 43.8603 - val_loss: 44.4050\n",
      "Epoch 90/100\n",
      "950/950 [==============================] - 389s 409ms/step - loss: 43.7583 - val_loss: 43.8851\n",
      "Epoch 91/100\n",
      "950/950 [==============================] - 386s 406ms/step - loss: 43.8952 - val_loss: 43.9336\n",
      "Epoch 92/100\n",
      "950/950 [==============================] - 390s 410ms/step - loss: 43.8780 - val_loss: 43.4416\n",
      "Epoch 93/100\n",
      "950/950 [==============================] - 388s 408ms/step - loss: 43.7792 - val_loss: 43.7847\n",
      "Epoch 94/100\n",
      "950/950 [==============================] - 392s 413ms/step - loss: 43.8613 - val_loss: 44.1597\n",
      "Epoch 95/100\n",
      "950/950 [==============================] - 387s 407ms/step - loss: 43.8685 - val_loss: 43.6259\n",
      "Epoch 96/100\n",
      "950/950 [==============================] - 389s 410ms/step - loss: 43.6670 - val_loss: 43.8642\n",
      "Epoch 97/100\n",
      "950/950 [==============================] - 382s 402ms/step - loss: 43.7985 - val_loss: 43.7912\n",
      "Epoch 98/100\n",
      "950/950 [==============================] - 390s 411ms/step - loss: 43.7456 - val_loss: 43.8779\n",
      "Epoch 99/100\n",
      "950/950 [==============================] - 365s 384ms/step - loss: 43.8273 - val_loss: 44.6228\n",
      "Epoch 100/100\n",
      "950/950 [==============================] - 383s 403ms/step - loss: 43.7690 - val_loss: 44.1632\n"
     ]
    }
   ],
   "source": [
    "batch_size = NEvts\n",
    "epochs = 100\n",
    "\n",
    "def mean_abs_theta_vtx(y_true, y_pred):\n",
    "    return K.mean(K.abs(y_true[:,0] - y_pred[:,0]))\n",
    "def mean_abs_phi_vtx(y_true, y_pred):\n",
    "    return K.mean(K.abs(y_true[:,1] - y_pred[:,1]))\n",
    "def mean_abs_r_vtx(y_true, y_pred):\n",
    "    return K.mean(K.abs(y_true[:,2] - y_pred[:,2]))\n",
    "def mean_abs_theta_dir(y_true, y_pred):\n",
    "    return K.mean(K.abs(y_true[:,3] - y_pred[:,3]))\n",
    "def mean_abs_phi_dir(y_true, y_pred):\n",
    "    return K.mean(K.abs(y_true[:,4] - y_pred[:,4]))\n",
    "\n",
    "def loss_by_R_square(y_true, y_pred):\n",
    "    return K.mean(K.square(y_true[:,0] - y_pred[:,0])+\n",
    "                  K.square(y_true[:,1] - y_pred[:,1])+\n",
    "                  K.square(y_true[:,2] - y_pred[:,2]) )\n",
    "\n",
    "my_network.compile(optimizer=Adam(lr=1e-5), loss='mean_squared_error')#, \n",
    "                                            #loss = loss_by_R_square)\n",
    "                   #metrics=['mean_squared_error', mean_abs_theta_vtx, mean_abs_phi_vtx, mean_abs_r_vtx])#, \n",
    "                                                  #mean_abs_theta_dir, mean_abs_phi_dir])\n",
    "\n",
    "my_network.load_weights(\"weights_vtx_dir_1el_color_7xLSTM75_8400_400_f950_lr1e-5_N7.h5\")\n",
    "#my_network.load_weights(\"weights_vtx_dir_1el_2xLSTM75_6300_300_f1930_lr1e-5_N9.h5\")\n",
    "\n",
    "\n",
    "history = my_network.fit_generator(generator=training_generator, epochs=epochs, validation_data=(testX, testY)) \n",
    "\n",
    "#history = my_network.fit(trainX, trainY, batch_size=1000, epochs=epochs, verbose=1, validation_data=(testX, testY))\n"
   ]
  },
  {
   "cell_type": "code",
   "execution_count": 22,
   "metadata": {},
   "outputs": [],
   "source": [
    "my_network.save_weights(\"weights_vtx_dir_1el_color_7xLSTM75_8400_400_f950_lr1e-5_N8.h5\")\n",
    "#my_network.save_weights(\"weights_dir_1el_7xLSTM75_6300_300_f1930_lr1e-5_N3.h5\")"
   ]
  },
  {
   "cell_type": "code",
   "execution_count": 20,
   "metadata": {},
   "outputs": [
    {
     "data": {
      "text/plain": [
       "Text(0.5, 1.0, 'Loss Curves')"
      ]
     },
     "execution_count": 20,
     "metadata": {},
     "output_type": "execute_result"
    },
    {
     "data": {
      "image/png": "[encoded data removed]",
      "text/plain": [
       "<Figure size 576x432 with 1 Axes>"
      ]
     },
     "metadata": {
      "needs_background": "light"
     },
     "output_type": "display_data"
    }
   ],
   "source": [
    "# Loss Curves\n",
    "plt.figure(figsize=[8,6])\n",
    "plt.plot(history.history['loss'],'r',linewidth=3.0)\n",
    "plt.plot(history.history['val_loss'],'b',linewidth=3.0)\n",
    "plt.legend(['Training loss', 'Validation Loss'],fontsize=18)\n",
    "plt.xlabel('Epochs ',fontsize=16)\n",
    "plt.ylabel('Loss',fontsize=16)\n",
    "plt.title('Loss Curves',fontsize=16)\n",
    " "
   ]
  },
  {
   "cell_type": "code",
   "execution_count": 23,
   "metadata": {},
   "outputs": [
    {
     "name": "stdout",
     "output_type": "stream",
     "text": [
      "shape recoY =  (49000, 3)    shape testY =  (49000, 3)\n",
      "(49000,)   dR_mean =  10.456118441046236\n",
      "(49000,)\n",
      "(49000, 3)\n",
      "dY:  [[-5.39458064  8.48603694  6.86774411]\n",
      " [27.01071253 -6.18121501 -1.62857498]\n",
      " [-2.67644298  4.04540606 -0.44996907]]\n",
      "dY_norm:  [[-0.44301258  0.69688849  0.56399139]\n",
      " [ 0.97312161 -0.22269216 -0.05867307]\n",
      " [-0.54941282  0.83042978 -0.09236841]]\n",
      "(49000,)\n"
     ]
    }
   ],
   "source": [
    "recoY = my_network.predict(testX)\n",
    "\n",
    "print('shape recoY = ', recoY.shape, '   shape testY = ', testY.shape)\n",
    "\n",
    "dY = recoY - testY\n",
    "dY0 = recoY[:,0] - testY[:,0]\n",
    "dY1 = recoY[:,1] - testY[:,1]\n",
    "dY2 = recoY[:,2] - testY[:,2]\n",
    "dR = np.sqrt((recoY[:,0] - testY[:,0])*(recoY[:,0] - testY[:,0]) + (recoY[:,1] - testY[:,1])*(recoY[:,1] - testY[:,1]) + (recoY[:,2] - testY[:,2])*(recoY[:,2] - testY[:,2]) )\n",
    "print(dR.shape, '  dR_mean = ', np.mean(dR))\n",
    "R_true = np.sqrt(testY[:,0]*testY[:,0] + testY[:,1]*testY[:,1] + testY[:,2]*testY[:,2])\n",
    "print(R_true.shape)\n",
    "print(testY.shape)\n",
    "\n",
    "print('dY: ',dY[0:3,:])\n",
    "dRb = dR.reshape(dR.shape[0],1)\n",
    "dY = dY/dRb\n",
    "print('dY_norm: ',dY[0:3,:])\n",
    "#np.random.shuffle(trueDir)\n",
    "vtx_dot_dir = np.sum(dY*trueDir, axis=1)\n",
    "print(vtx_dot_dir.shape)"
   ]
  },
  {
   "cell_type": "code",
   "execution_count": 24,
   "metadata": {},
   "outputs": [
    {
     "data": {
      "text/plain": [
       "Text(0.5, 0, 'Dot product between Vtx(bias) and Dir(el)')"
      ]
     },
     "execution_count": 24,
     "metadata": {},
     "output_type": "execute_result"
    },
    {
     "data": {
      "image/png": "[encoded data removed]",
      "text/plain": [
       "<Figure size 720x576 with 1 Axes>"
      ]
     },
     "metadata": {
      "needs_background": "light"
     },
     "output_type": "display_data"
    }
   ],
   "source": [
    "plt.figure(figsize=[10,8])\n",
    "plt.hist(vtx_dot_dir, bins=60, range=(-1.5,1.5), histtype='step',ls='solid', alpha = 1.0, lw=3, color= 'b')\n",
    "plt.title('Correlation between the bias in vertex reconstruction and initial direction of the electron', fontsize=18)\n",
    "plt.xlabel('Dot product between Vtx(bias) and Dir(el)', fontsize=16)"
   ]
  },
  {
   "cell_type": "code",
   "execution_count": 25,
   "metadata": {},
   "outputs": [
    {
     "name": "stdout",
     "output_type": "stream",
     "text": [
      "MSE =  44.16320074380377\n",
      "MSE2 =  44.16320074380377\n",
      "dY0_Mean_vtx =  0.4303142030727552    dY1_Mean_vtx =  0.687974865043015    dY2_Mean_vtx =  0.20098377400223505\n",
      "dY0_Rms_vtx =  7.461932092287359     dY1_Rms_vtx =  6.693560024033551     dY2_Rms_vtx =  5.6573338142771155\n",
      "resolution_vtx =  11.510412774154162\n",
      "reco_Y1_vtx =  [  96.88057   87.07391  -99.70077 ...  223.83997 -141.90189 -167.83759]\n",
      "test_Y1_vtx =  [  88.39453251   93.25512858 -103.74617358 ...  230.03334988 -132.16106189\n",
      " -161.36515737]\n",
      "\n",
      "\n",
      "Mean_true_vtx_0 =  -0.017212440378999622    Mean_true_vtx_1 =  -0.13439329235465924 Mean_true_vtx_2 =  -0.38149330600135595\n",
      "RMS_true_vtx_0 =  134.67199293740322    RMS_true_vtx_1 =  134.31360863221246   RMS_true_vtx_2 =  133.98002991737084\n"
     ]
    },
    {
     "data": {
      "image/png": "[encoded data removed]",
      "text/plain": [
       "<Figure size 720x576 with 1 Axes>"
      ]
     },
     "metadata": {
      "needs_background": "light"
     },
     "output_type": "display_data"
    },
    {
     "data": {
      "image/png": "[encoded data removed]",
      "text/plain": [
       "<Figure size 432x288 with 1 Axes>"
      ]
     },
     "metadata": {
      "needs_background": "light"
     },
     "output_type": "display_data"
    },
    {
     "data": {
      "image/png": "[encoded data removed]",
      "text/plain": [
       "<Figure size 432x288 with 1 Axes>"
      ]
     },
     "metadata": {
      "needs_background": "light"
     },
     "output_type": "display_data"
    },
    {
     "data": {
      "image/png": "[encoded data removed]",
      "text/plain": [
       "<Figure size 432x288 with 1 Axes>"
      ]
     },
     "metadata": {
      "needs_background": "light"
     },
     "output_type": "display_data"
    }
   ],
   "source": [
    "MSE = np.mean( (recoY.flatten()[:] - testY.flatten()[:])*(recoY.flatten()[:] - testY.flatten()[:]) )\n",
    "print('MSE = ', MSE)\n",
    "\n",
    "#MSE2 = np.mean(np.square(recoY - testY), axis=-1)\n",
    "MSE2 = np.mean(np.square(recoY.flatten()[:] - testY.flatten()[:]), axis=-1)\n",
    "print('MSE2 = ', MSE2)\n",
    "\n",
    "#dTheta_dir = recoY[:,3] - testY[:,3]\n",
    "#dPhi_dir = recoY[:,4] - testY[:,4]\n",
    "print('dY0_Mean_vtx = ' ,np.mean(dY0), '   dY1_Mean_vtx = ', np.mean(dY1), '   dY2_Mean_vtx = ' ,np.mean(dY2))\n",
    "print('dY0_Rms_vtx = ',np.sqrt(np.mean(np.square(dY0))), '    dY1_Rms_vtx = ',np.sqrt(np.mean(np.square(dY1))), '    dY2_Rms_vtx = ',np.sqrt(np.mean(np.square(dY2))))\n",
    "print('resolution_vtx = ', np.sqrt(np.mean(np.square(dY0)) + np.mean(np.square(dY1)) + np.mean(np.square(dY2)) ) )\n",
    "#print('ThetaMean_dir = ',np.mean(dTheta_dir),'   PhiMean_dir = ',np.mean(dPhi_dir))\n",
    "#print('ThetaRms_dir = ',np.sqrt(np.mean(np.square(dTheta_dir))), '   PhiRms_dir = ',np.sqrt(np.mean(np.square(dPhi_dir))))\n",
    "\n",
    "print('reco_Y1_vtx = ',recoY[:,1])\n",
    "print('test_Y1_vtx = ',testY[:,1])\n",
    "print('')\n",
    "print('')\n",
    "\n",
    "\n",
    "#fig_scatt = plt.figure()\n",
    "#plt.scatter(R_true, dR)\n",
    "\n",
    "fig_dYs = plt.figure(figsize=[10,8])\n",
    "plt.hist(dY0, bins=40, range=(-20,20), histtype='step',ls='solid', alpha = 1.0, lw=3, color= 'r')\n",
    "plt.hist(dY1, bins=40, range=(-20,20), histtype='step',ls='solid', alpha = 1.0, lw=3, color= 'g')\n",
    "plt.hist(dY2, bins=40, range=(-20,20), histtype='step',ls='solid', alpha = 1.0, lw=3, color= 'b')\n",
    "plt.title('Vertex Reconstruction',fontsize=18)\n",
    "plt.xlabel('Vtx(reco) - Vtx(true) [cm]',fontsize=16)\n",
    "\n",
    "fig_Y0s = plt.figure()\n",
    "plt.hist(recoY[:,0], bins=50, range=(-500,500), histtype='step',ls='--', alpha = 1.0, lw=3, color= 'r')\n",
    "plt.hist(testY[:,0], bins=50, range=(-500,500), histtype='step',ls='solid', alpha = 1.0, lw=3, color= 'r')\n",
    "fig_Y1s = plt.figure()\n",
    "plt.hist(recoY[:,1], bins=50, range=(-500,500), histtype='step',ls='--', alpha = 1.0, lw=3, color= 'g')\n",
    "plt.hist(testY[:,1], bins=50, range=(-500,500), histtype='step',ls='solid', alpha = 1.0, lw=3, color= 'g')\n",
    "fig_Y2s = plt.figure()\n",
    "plt.hist(recoY[:,2], bins=50, range=(-500,500), histtype='step',ls='--', alpha = 1.0, lw=3, color= 'b')\n",
    "plt.hist(testY[:,2], bins=50, range=(-500,500), histtype='step',ls='solid', alpha = 1.0, lw=3, color= 'b')\n",
    "\n",
    "print('Mean_true_vtx_0 = ', np.mean(testY[:,0]), '   Mean_true_vtx_1 = ' , np.mean(testY[:,1]), 'Mean_true_vtx_2 = ', np.mean(testY[:,2]))\n",
    "print('RMS_true_vtx_0 = ' , np.sqrt(np.mean(np.square(testY[:,0]))), '   RMS_true_vtx_1 = ' , np.sqrt(np.mean(np.square(testY[:,1]))), '  RMS_true_vtx_2 = ', np.sqrt(np.mean(np.square(testY[:,2]))) )"
   ]
  },
  {
   "cell_type": "code",
   "execution_count": null,
   "metadata": {},
   "outputs": [],
   "source": [
    "my_network.summary()"
   ]
  }
 ],
 "metadata": {
  "kernelspec": {
   "display_name": "Python 3",
   "language": "python",
   "name": "python3"
  },
  "language_info": {
   "codemirror_mode": {
    "name": "ipython",
    "version": 3
   },
   "file_extension": ".py",
   "mimetype": "text/x-python",
   "name": "python",
   "nbconvert_exporter": "python",
   "pygments_lexer": "ipython3",
   "version": "3.8.5"
  }
 },
 "nbformat": 4,
 "nbformat_minor": 4
}
