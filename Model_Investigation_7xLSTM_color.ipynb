{
 "cells": [
  {
   "cell_type": "markdown",
   "metadata": {},
   "source": [
    "## Vertex reconstruction in a large Directional Liquid Scintillator Detector\n",
    "Training data location: https://stash.osgconnect.net/public/elagin/vtx_dir_1el_norm/\n",
    "\n",
    "Testing data location: https://stash.osgconnect.net/public/elagin/test_vtx_dir_1el_norm/\n",
    "\n",
    "Data are .npz files with 3 numpy arrays. Where each row correspond to one event.\n",
    "\n",
    "\"x\" is a (1000,6300) array of \"independent variables\", photo-electron hits (theta, phi, and time). Hit coordinate encoding in each row is the folowing: \\\n",
    "theta = x[:,0::3] \\\n",
    "phi = x[:,1::3] \\\n",
    "time = x[:,2::3] \\\n",
    "All data is normalized as theta = theta/pi, phi = phi/(2pi), time = time/maxT (currently maxT=150). \\\n",
    "Each row in \"x\" is padded with -1 to make it a length of 6300 \n",
    "\n",
    "\"y_vtx\" is a (1000,3) array of \"dependent variable\", true x-,y-,z- coordinates of the event vertex to be reconstructed \\\n",
    "\"y_dir\" is a (1000,3) array of \"dependent variable\", true x-,y-,z- coordinates of the unit vector along the original direction of the electron\n",
    "\n",
    "See checking_inputs.ipynb and checking_inputs_norm.ipynb for more details on the data"
   ]
  },
  {
   "cell_type": "code",
   "execution_count": 1,
   "metadata": {},
   "outputs": [],
   "source": [
    "import os\n",
    "import math\n",
    "\n",
    "import matplotlib.pyplot as plt \n",
    "\n",
    "import numpy as np\n",
    "import pandas as pd\n",
    "import random"
   ]
  },
  {
   "cell_type": "code",
   "execution_count": 2,
   "metadata": {},
   "outputs": [],
   "source": [
    "\n",
    "from keras.models import Sequential, Model\n",
    "from keras.layers import Dense, Activation, Flatten, Reshape, Lambda, Input, Concatenate, concatenate\n",
    "from keras.layers import Conv1D, Conv2D, Conv2DTranspose, UpSampling2D, MaxPooling1D, MaxPooling2D, LocallyConnected2D, LocallyConnected1D\n",
    "from keras.layers import LSTM, Bidirectional\n",
    "from keras.layers import Masking\n",
    "from keras.layers import LeakyReLU, Dropout\n",
    "from keras.layers import BatchNormalization\n",
    "from keras.optimizers import Adam, RMSprop\n",
    "from keras.utils import to_categorical\n",
    "import keras.backend as K"
   ]
  },
  {
   "cell_type": "code",
   "execution_count": 3,
   "metadata": {},
   "outputs": [],
   "source": [
    "#global variables\n",
    "maxT = 37\n",
    "maxLambda = 800\n",
    "PAD_VALUE = -1\n",
    "NEvts = 1000\n",
    "pi = 3.141592653589793\n",
    "NFiles = 100"
   ]
  },
  {
   "cell_type": "markdown",
   "metadata": {},
   "source": [
    "### Custom generator to load large datasets"
   ]
  },
  {
   "cell_type": "code",
   "execution_count": 4,
   "metadata": {},
   "outputs": [],
   "source": [
    "from keras.utils import Sequence\n",
    "from keras.preprocessing.sequence import pad_sequences\n",
    "\n",
    "class MyGenerator(Sequence):\n",
    "    def __init__(self, x_dir, batch_size):\n",
    "        self.x_dir = x_dir\n",
    "        self.x = os.listdir(x_dir)\n",
    "        self.batch_size = batch_size\n",
    "        print('Generator init complete')\n",
    "        \n",
    "    def __len__(self):\n",
    "        nf = self.batch_size/(NEvts) # calculate number of files\n",
    "        return math.ceil(len(self.x) / nf)\n",
    "\n",
    "    def __getitem__(self, idx):\n",
    "        batch_data = np.load(os.path.join(self.x_dir, self.x[idx]))\n",
    "        Y = np.array(batch_data['y_vtx'])\n",
    "        return np.array(batch_data['x']), Y"
   ]
  },
  {
   "cell_type": "code",
   "execution_count": 22,
   "metadata": {},
   "outputs": [
    {
     "name": "stdout",
     "output_type": "stream",
     "text": [
      "Generator init complete\n"
     ]
    }
   ],
   "source": [
    "training_generator = MyGenerator('/data/Elagin/vtx_dir_1el_color_norm', NEvts)\n",
    "\n",
    "#testing_generator = MyGenerator('/data/Elagin/test_vtx_dir_1el_color_norm', NEvts)"
   ]
  },
  {
   "cell_type": "markdown",
   "metadata": {},
   "source": [
    "### Loading data that can fit into RAM"
   ]
  },
  {
   "cell_type": "code",
   "execution_count": 6,
   "metadata": {},
   "outputs": [],
   "source": [
    "# Load data from x_dir, stop after loading fn_max files\n",
    "# Returns X, Y, Dir\n",
    "# X - independent variables\n",
    "# Y - dependend variables (x-, y-, z- of the vertex in this implementation)\n",
    "# Dir - direction vector (x-, y-, z- componenets), could be made dependent variable\n",
    "def load_test_data_to_memory(x_dir, fn_max=2000) :\n",
    "    X, Y, Dir = np.array([]), np.array([]), np.array([])\n",
    "    f_list = os.listdir(x_dir)\n",
    "    f_list.sort()\n",
    "    i=0\n",
    "    for x in f_list :\n",
    "        batch_data = np.load(os.path.join(x_dir, x))\n",
    "        \n",
    "        X = np.vstack([X, np.array(batch_data['x'])]) if X.size else np.array(batch_data['x'])\n",
    "        Y = np.vstack([Y, np.array(batch_data['y_vtx'])]) if Y.size else np.array(batch_data['y_vtx'])\n",
    "        Dir = np.vstack([Dir, np.array(batch_data['y_dir'])]) if Dir.size else np.array(batch_data['y_dir'])\n",
    "\n",
    "        i+=1\n",
    "        if i%10 == 0:\n",
    "            print(x)\n",
    "            print('i = ', i, '   ', X.shape, '   ', Y.shape, '   ', Dir.shape)\n",
    "        if i>=fn_max:\n",
    "            break\n",
    "    print(X.shape, '   ', Y.shape, '   ', Dir.shape)\n",
    "    return X, Y, Dir"
   ]
  },
  {
   "cell_type": "code",
   "execution_count": 7,
   "metadata": {},
   "outputs": [
    {
     "name": "stdout",
     "output_type": "stream",
     "text": [
      "f_batch_18.npz\n",
      "i =  10     (10000, 8400)     (10000, 3)     (10000, 3)\n",
      "f_batch_27.npz\n",
      "i =  20     (20000, 8400)     (20000, 3)     (20000, 3)\n",
      "f_batch_36.npz\n",
      "i =  30     (30000, 8400)     (30000, 3)     (30000, 3)\n",
      "f_batch_45.npz\n",
      "i =  40     (40000, 8400)     (40000, 3)     (40000, 3)\n",
      "(49000, 8400)     (49000, 3)     (49000, 3)\n"
     ]
    }
   ],
   "source": [
    "testX, testY, trueDir = load_test_data_to_memory('/data/Elagin/test_vtx_dir_1el_color_norm/')"
   ]
  },
  {
   "cell_type": "code",
   "execution_count": 9,
   "metadata": {},
   "outputs": [],
   "source": [
    "#trainX, trainY, trueDir_training = load_test_data_to_memory('/data/Elagin/vtx_dir_1el_norm/',200)"
   ]
  },
  {
   "cell_type": "markdown",
   "metadata": {},
   "source": [
    "### Defining various activation functions"
   ]
  },
  {
   "cell_type": "code",
   "execution_count": 8,
   "metadata": {},
   "outputs": [],
   "source": [
    "def mapping_to_pmOne(x) :\n",
    "    return 2*K.sigmoid(x) - 1\n",
    "\n",
    "def mapping_to_pm50(x) :\n",
    "    return mapping_to_pmOne(x)*50\n",
    "\n",
    "def mapping_to_pm300(x) :\n",
    "    return mapping_to_pmOne(x)*300\n",
    "\n",
    "def mapping_to_0_50(x) :\n",
    "    return 50*K.sigmoid(x)\n",
    "\n",
    "\n",
    "def mapping_to_target_range_all( x, target_min=-0.02*pi, target_max=2.02*pi ) :\n",
    "    x02 = K.tanh(x) + 1 # x in range(0,2)\n",
    "    scale = ( target_max-target_min )/2.\n",
    "    return  x02 * scale + target_min\n",
    "\n",
    "def mapping_to_target_range_2pi( x, target_min=-0.00*pi, target_max=2.00*pi ) :\n",
    "    x02 = K.tanh(x) + 1 # x in range(0,2)\n",
    "    scale = ( target_max-target_min )/2.\n",
    "    return  x02 * scale + target_min\n",
    "    #return K.sigmoid(x)*target_max\n",
    "\n",
    "def mapping_to_target_range_pi( x, target_min=-0.00*pi, target_max=1.00*pi ) :\n",
    "    x02 = K.tanh(x) + 1 # x in range(0,2)\n",
    "    scale = ( target_max-target_min )/2.\n",
    "    return  x02 * scale + target_min\n",
    "    #return K.sigmoid(x)*target_max\n",
    "\n",
    "def mapping_to_target_range_phi( x, target_min=0, target_max=2*pi ) :\n",
    "    print('is x keras tensor:', K.is_keras_tensor(x))\n",
    "    print('x shape = ',K.int_shape(x))\n",
    "    print('x shape = ',K.shape(x))\n",
    "    #phi = K.placeholder(shape=(None,1))\n",
    "    phi = Input([1])\n",
    "    #theta = K.placeholder(shape=(None,1))\n",
    "    theta = Input([1])\n",
    "    #r = K.placeholder(shape=(None,1))\n",
    "    r = Input([1])\n",
    "    print('phi shape = ',K.int_shape(phi))\n",
    "    print('is phi keras tensor:', K.is_keras_tensor(phi))\n",
    "    phi = K.concatenate([phi, [K.tanh(x[:,1]) + 1]], axis=0) # x in range(0,2)\n",
    "    #phi = K.tanh(x[:,1]) + 1\n",
    "    theta = K.concatenate([theta, [x[:,0]]], axis=0)\n",
    "    #theta = x[:,0]\n",
    "    r = K.concatenate([r, [x[:,2]]], axis=0)\n",
    "    #r = x[:,2]\n",
    "    print('phi shape = ',K.int_shape(phi))\n",
    "    print('is phi keras tensor:', K.is_keras_tensor(phi))\n",
    "    print('theta shape = ',K.int_shape(theta))\n",
    "    print('r shape = ',K.int_shape(r))\n",
    "    scale = ( target_max-target_min )/2.\n",
    "    phi =  phi * scale + target_min\n",
    "    #phi = K.cast(phi, dtype='int32')\n",
    "    #phi = K.reshape(phi, (,1))\n",
    "    print('phi shape = ',K.int_shape(phi))\n",
    "    \n",
    "    res = K.concatenate([theta, phi, r], axis=1)\n",
    "    print('res shape = ',K.int_shape(res))\n",
    "    print('res shape = ',K.shape(res))\n",
    "    print('is res keras tensor:', K.is_keras_tensor(res))\n",
    "    x[:,1].assign(phi)\n",
    "    return x\n",
    "\n",
    "def mapping_to_target_range_phi2( x, target_min=0, target_max=2*pi ) :\n",
    "    scale = ( target_max-target_min )/2.\n",
    "    phi = K.placeholder(shape=(None,1))\n",
    "    #phi = Input([1])\n",
    "    #phi = (K.tanh(x[:,1]) + 1)*scale + target_min\n",
    "    phi = K.concatenate([phi, [(K.tanh(x[:,1]) + 1)*scale + target_min]], axis=0)\n",
    "    x[:,1].assign(phi)\n",
    "    return x"
   ]
  },
  {
   "cell_type": "markdown",
   "metadata": {},
   "source": [
    "### The model"
   ]
  },
  {
   "cell_type": "code",
   "execution_count": 9,
   "metadata": {},
   "outputs": [],
   "source": [
    "def createModel():\n",
    "    N=8400\n",
    "    lstm_seq = 400\n",
    "    lstm_steps = int(N/lstm_seq)\n",
    "    model = Sequential()\n",
    "    \n",
    "    model.add(Reshape(input_shape=(N,), target_shape=(lstm_steps,lstm_seq)))\n",
    "    \n",
    "    model.add(Masking(mask_value=-1, input_shape=(lstm_steps, lstm_seq)))\n",
    "    \n",
    "    model.add(LSTM(75, return_sequences=True, input_shape=(lstm_steps,lstm_seq), dropout=0.0))\n",
    "    model.add(LSTM(75, return_sequences=True, input_shape=(lstm_steps,lstm_seq), dropout=0.0))\n",
    "    model.add(LSTM(75, return_sequences=True, input_shape=(lstm_steps,lstm_seq), dropout=0.0))\n",
    "    model.add(LSTM(75, return_sequences=True, input_shape=(lstm_steps,lstm_seq), dropout=0.0))\n",
    "    model.add(LSTM(75, return_sequences=True, input_shape=(lstm_steps,lstm_seq), dropout=0.0))\n",
    "    model.add(LSTM(75, return_sequences=True, input_shape=(lstm_steps,lstm_seq), dropout=0.0))\n",
    "    model.add(LSTM(75, input_shape=(lstm_steps,lstm_seq), dropout=0.0))\n",
    "    \n",
    "    model.add(Dense(256, activation='relu'))\n",
    "    #model.add(Dropout(0.1))\n",
    "    model.add(Dense(256, activation='relu'))\n",
    "    #model.add(Dropout(0.1))\n",
    "    model.add(Dense(3, activation=mapping_to_pm300))\n",
    "#    model.add(Dense(3, activation=None))\n",
    "    \n",
    "    return model"
   ]
  },
  {
   "cell_type": "code",
   "execution_count": 10,
   "metadata": {},
   "outputs": [],
   "source": [
    "my_network=createModel()"
   ]
  },
  {
   "cell_type": "code",
   "execution_count": 11,
   "metadata": {},
   "outputs": [
    {
     "name": "stdout",
     "output_type": "stream",
     "text": [
      "Model: \"sequential\"\n",
      "_________________________________________________________________\n",
      "Layer (type)                 Output Shape              Param #   \n",
      "=================================================================\n",
      "reshape (Reshape)            (None, 21, 400)           0         \n",
      "_________________________________________________________________\n",
      "masking (Masking)            (None, 21, 400)           0         \n",
      "_________________________________________________________________\n",
      "lstm (LSTM)                  (None, 21, 75)            142800    \n",
      "_________________________________________________________________\n",
      "lstm_1 (LSTM)                (None, 21, 75)            45300     \n",
      "_________________________________________________________________\n",
      "lstm_2 (LSTM)                (None, 21, 75)            45300     \n",
      "_________________________________________________________________\n",
      "lstm_3 (LSTM)                (None, 21, 75)            45300     \n",
      "_________________________________________________________________\n",
      "lstm_4 (LSTM)                (None, 21, 75)            45300     \n",
      "_________________________________________________________________\n",
      "lstm_5 (LSTM)                (None, 21, 75)            45300     \n",
      "_________________________________________________________________\n",
      "lstm_6 (LSTM)                (None, 75)                45300     \n",
      "_________________________________________________________________\n",
      "dense (Dense)                (None, 256)               19456     \n",
      "_________________________________________________________________\n",
      "dense_1 (Dense)              (None, 256)               65792     \n",
      "_________________________________________________________________\n",
      "dense_2 (Dense)              (None, 3)                 771       \n",
      "=================================================================\n",
      "Total params: 500,619\n",
      "Trainable params: 500,619\n",
      "Non-trainable params: 0\n",
      "_________________________________________________________________\n"
     ]
    }
   ],
   "source": [
    "my_network.summary()"
   ]
  },
  {
   "cell_type": "markdown",
   "metadata": {},
   "source": [
    "### Run the model"
   ]
  },
  {
   "cell_type": "code",
   "execution_count": null,
   "metadata": {},
   "outputs": [
    {
     "name": "stdout",
     "output_type": "stream",
     "text": [
      "Epoch 1/200\n",
      "950/950 [==============================] - 378s 397ms/step - loss: 280.6609 - val_loss: 269.6659\n",
      "Epoch 2/200\n",
      "950/950 [==============================] - 363s 382ms/step - loss: 265.2459 - val_loss: 260.0576\n",
      "Epoch 3/200\n",
      "950/950 [==============================] - 361s 381ms/step - loss: 251.8388 - val_loss: 249.5593\n",
      "Epoch 4/200\n",
      "950/950 [==============================] - 363s 382ms/step - loss: 239.8563 - val_loss: 232.0453\n",
      "Epoch 5/200\n",
      "950/950 [==============================] - 364s 383ms/step - loss: 229.3490 - val_loss: 222.4398\n",
      "Epoch 6/200\n",
      "950/950 [==============================] - 369s 388ms/step - loss: 219.8973 - val_loss: 212.4655\n",
      "Epoch 7/200\n",
      "950/950 [==============================] - 368s 387ms/step - loss: 211.6533 - val_loss: 203.4717\n",
      "Epoch 8/200\n",
      "950/950 [==============================] - 358s 377ms/step - loss: 203.5154 - val_loss: 199.2316\n",
      "Epoch 9/200\n",
      "950/950 [==============================] - 372s 391ms/step - loss: 196.6299 - val_loss: 191.9629\n",
      "Epoch 10/200\n",
      "950/950 [==============================] - 366s 385ms/step - loss: 190.0749 - val_loss: 192.2251\n",
      "Epoch 11/200\n",
      "950/950 [==============================] - 362s 381ms/step - loss: 184.0710 - val_loss: 176.9375\n",
      "Epoch 12/200\n",
      "950/950 [==============================] - 361s 380ms/step - loss: 178.1153 - val_loss: 181.7978\n",
      "Epoch 13/200\n",
      "950/950 [==============================] - 365s 384ms/step - loss: 173.2964 - val_loss: 171.6436\n",
      "Epoch 14/200\n",
      "950/950 [==============================] - 366s 385ms/step - loss: 167.8832 - val_loss: 163.1299\n",
      "Epoch 15/200\n",
      "950/950 [==============================] - 360s 379ms/step - loss: 162.9514 - val_loss: 159.5746\n",
      "Epoch 16/200\n",
      "950/950 [==============================] - 370s 389ms/step - loss: 158.8380 - val_loss: 154.7614\n",
      "Epoch 17/200\n",
      "950/950 [==============================] - 361s 380ms/step - loss: 154.3851 - val_loss: 152.5988\n",
      "Epoch 18/200\n",
      "950/950 [==============================] - 369s 388ms/step - loss: 150.4637 - val_loss: 154.6199\n",
      "Epoch 19/200\n",
      "950/950 [==============================] - 365s 384ms/step - loss: 146.8399 - val_loss: 140.9113\n",
      "Epoch 20/200\n",
      "950/950 [==============================] - 369s 388ms/step - loss: 142.7936 - val_loss: 138.6091\n",
      "Epoch 21/200\n",
      "950/950 [==============================] - 359s 378ms/step - loss: 139.0636 - val_loss: 134.2751\n",
      "Epoch 22/200\n",
      "950/950 [==============================] - 364s 383ms/step - loss: 135.5417 - val_loss: 132.2309\n",
      "Epoch 23/200\n",
      "950/950 [==============================] - 367s 386ms/step - loss: 131.9760 - val_loss: 132.2484\n",
      "Epoch 24/200\n",
      "950/950 [==============================] - 367s 386ms/step - loss: 128.9206 - val_loss: 124.7664\n",
      "Epoch 25/200\n",
      "950/950 [==============================] - 366s 385ms/step - loss: 125.9484 - val_loss: 128.9667\n",
      "Epoch 26/200\n",
      "950/950 [==============================] - 365s 384ms/step - loss: 122.7806 - val_loss: 123.3121\n",
      "Epoch 27/200\n",
      "950/950 [==============================] - 364s 383ms/step - loss: 120.2178 - val_loss: 121.5528\n",
      "Epoch 28/200\n",
      "950/950 [==============================] - 366s 385ms/step - loss: 117.8984 - val_loss: 116.4392\n",
      "Epoch 29/200\n",
      "950/950 [==============================] - 362s 381ms/step - loss: 115.1843 - val_loss: 112.7266\n",
      "Epoch 30/200\n",
      "950/950 [==============================] - 364s 383ms/step - loss: 113.0362 - val_loss: 110.2710\n",
      "Epoch 31/200\n",
      "950/950 [==============================] - 374s 393ms/step - loss: 110.8891 - val_loss: 108.1886\n",
      "Epoch 32/200\n",
      "950/950 [==============================] - 362s 381ms/step - loss: 109.0412 - val_loss: 106.6408\n",
      "Epoch 33/200\n",
      "950/950 [==============================] - 374s 393ms/step - loss: 107.0965 - val_loss: 106.6681\n",
      "Epoch 34/200\n",
      "950/950 [==============================] - 363s 382ms/step - loss: 104.9971 - val_loss: 103.5172\n",
      "Epoch 35/200\n",
      "950/950 [==============================] - 357s 376ms/step - loss: 103.6461 - val_loss: 101.3160\n",
      "Epoch 36/200\n",
      "950/950 [==============================] - 362s 382ms/step - loss: 102.0947 - val_loss: 100.3707\n",
      "Epoch 37/200\n",
      "950/950 [==============================] - 364s 383ms/step - loss: 100.4310 - val_loss: 98.8436\n",
      "Epoch 38/200\n",
      "950/950 [==============================] - 366s 385ms/step - loss: 99.0443 - val_loss: 98.6253\n",
      "Epoch 39/200\n",
      "950/950 [==============================] - 363s 382ms/step - loss: 97.6152 - val_loss: 94.7438\n",
      "Epoch 40/200\n",
      "950/950 [==============================] - 370s 389ms/step - loss: 96.2396 - val_loss: 98.1998\n",
      "Epoch 41/200\n",
      "950/950 [==============================] - 372s 392ms/step - loss: 95.3061 - val_loss: 93.6567\n",
      "Epoch 42/200\n",
      "950/950 [==============================] - 375s 395ms/step - loss: 94.1375 - val_loss: 91.8157\n",
      "Epoch 43/200\n",
      "950/950 [==============================] - 373s 393ms/step - loss: 92.6907 - val_loss: 91.5648\n",
      "Epoch 44/200\n",
      "950/950 [==============================] - 369s 388ms/step - loss: 91.3910 - val_loss: 92.4998\n",
      "Epoch 45/200\n",
      "950/950 [==============================] - 375s 395ms/step - loss: 90.6633 - val_loss: 94.6859\n",
      "Epoch 46/200\n",
      "950/950 [==============================] - 368s 387ms/step - loss: 89.7788 - val_loss: 87.7049\n",
      "Epoch 47/200\n",
      "950/950 [==============================] - 372s 391ms/step - loss: 88.6692 - val_loss: 89.5971\n",
      "Epoch 48/200\n",
      "950/950 [==============================] - 369s 388ms/step - loss: 87.8526 - val_loss: 85.6667\n",
      "Epoch 49/200\n",
      "950/950 [==============================] - 366s 385ms/step - loss: 86.8525 - val_loss: 85.4331\n",
      "Epoch 50/200\n",
      "950/950 [==============================] - 371s 391ms/step - loss: 86.1704 - val_loss: 86.5871\n",
      "Epoch 51/200\n",
      "950/950 [==============================] - 370s 390ms/step - loss: 85.2736 - val_loss: 83.4809\n",
      "Epoch 52/200\n",
      "950/950 [==============================] - 369s 388ms/step - loss: 84.5651 - val_loss: 85.2532\n",
      "Epoch 53/200\n",
      "950/950 [==============================] - 365s 384ms/step - loss: 83.7588 - val_loss: 82.9182\n",
      "Epoch 54/200\n",
      "950/950 [==============================] - 367s 386ms/step - loss: 83.1774 - val_loss: 83.5440\n",
      "Epoch 55/200\n",
      "950/950 [==============================] - 364s 383ms/step - loss: 82.3577 - val_loss: 80.8307\n",
      "Epoch 56/200\n",
      "950/950 [==============================] - 367s 387ms/step - loss: 82.1237 - val_loss: 79.9544\n",
      "Epoch 57/200\n",
      "950/950 [==============================] - 368s 387ms/step - loss: 80.9498 - val_loss: 81.4073\n",
      "Epoch 58/200\n",
      "950/950 [==============================] - 359s 378ms/step - loss: 80.2923 - val_loss: 79.3580\n",
      "Epoch 59/200\n",
      "950/950 [==============================] - 362s 382ms/step - loss: 80.1330 - val_loss: 79.7662\n",
      "Epoch 60/200\n",
      "950/950 [==============================] - 311s 328ms/step - loss: 79.4464 - val_loss: 78.0421\n",
      "Epoch 61/200\n",
      "950/950 [==============================] - 316s 333ms/step - loss: 78.8619 - val_loss: 77.6708\n",
      "Epoch 62/200\n",
      "950/950 [==============================] - 330s 347ms/step - loss: 78.4104 - val_loss: 77.9061\n",
      "Epoch 63/200\n",
      "950/950 [==============================] - 321s 338ms/step - loss: 78.2384 - val_loss: 78.9263\n",
      "Epoch 64/200\n",
      "950/950 [==============================] - 323s 340ms/step - loss: 77.4719 - val_loss: 75.7286\n",
      "Epoch 65/200\n",
      "950/950 [==============================] - 330s 347ms/step - loss: 76.8930 - val_loss: 75.9347\n",
      "Epoch 66/200\n",
      "950/950 [==============================] - 326s 343ms/step - loss: 76.9818 - val_loss: 75.3604\n",
      "Epoch 67/200\n",
      "950/950 [==============================] - 324s 341ms/step - loss: 76.2159 - val_loss: 75.9070\n",
      "Epoch 68/200\n",
      "950/950 [==============================] - 327s 344ms/step - loss: 75.6282 - val_loss: 75.0325\n",
      "Epoch 69/200\n",
      "950/950 [==============================] - 337s 355ms/step - loss: 75.4599 - val_loss: 76.5635\n",
      "Epoch 70/200\n",
      "950/950 [==============================] - 339s 357ms/step - loss: 74.8977 - val_loss: 74.5722\n",
      "Epoch 71/200\n",
      "950/950 [==============================] - 338s 356ms/step - loss: 74.5555 - val_loss: 72.3041\n",
      "Epoch 72/200\n",
      "950/950 [==============================] - 350s 368ms/step - loss: 73.9167 - val_loss: 74.2948\n",
      "Epoch 73/200\n",
      "950/950 [==============================] - 339s 356ms/step - loss: 74.0105 - val_loss: 72.9323\n",
      "Epoch 74/200\n",
      "950/950 [==============================] - 320s 337ms/step - loss: 73.3681 - val_loss: 74.3550\n",
      "Epoch 75/200\n",
      "950/950 [==============================] - 306s 323ms/step - loss: 72.8762 - val_loss: 76.2040\n",
      "Epoch 76/200\n",
      "950/950 [==============================] - 312s 329ms/step - loss: 72.6413 - val_loss: 73.1527\n",
      "Epoch 77/200\n",
      "950/950 [==============================] - 319s 336ms/step - loss: 72.6889 - val_loss: 74.2075\n",
      "Epoch 78/200\n",
      "950/950 [==============================] - 312s 328ms/step - loss: 71.8221 - val_loss: 70.9930\n",
      "Epoch 79/200\n",
      "950/950 [==============================] - 307s 323ms/step - loss: 71.6823 - val_loss: 70.1635\n",
      "Epoch 80/200\n",
      "950/950 [==============================] - 311s 327ms/step - loss: 71.3642 - val_loss: 70.3954\n",
      "Epoch 81/200\n",
      "950/950 [==============================] - 310s 327ms/step - loss: 71.1939 - val_loss: 69.8439\n",
      "Epoch 82/200\n",
      "950/950 [==============================] - 311s 328ms/step - loss: 70.5263 - val_loss: 69.7424\n",
      "Epoch 83/200\n",
      "950/950 [==============================] - 312s 328ms/step - loss: 70.5737 - val_loss: 71.3904\n",
      "Epoch 84/200\n",
      "950/950 [==============================] - 310s 326ms/step - loss: 70.0780 - val_loss: 68.8213\n",
      "Epoch 85/200\n",
      "950/950 [==============================] - 307s 323ms/step - loss: 70.0722 - val_loss: 71.9300\n",
      "Epoch 86/200\n",
      "950/950 [==============================] - 334s 352ms/step - loss: 69.7292 - val_loss: 68.2352\n",
      "Epoch 87/200\n",
      "950/950 [==============================] - 340s 358ms/step - loss: 69.5193 - val_loss: 74.9931\n",
      "Epoch 88/200\n",
      "950/950 [==============================] - 328s 345ms/step - loss: 69.1640 - val_loss: 69.5312\n",
      "Epoch 89/200\n",
      "950/950 [==============================] - 324s 341ms/step - loss: 68.9357 - val_loss: 66.9729\n",
      "Epoch 90/200\n",
      "950/950 [==============================] - 315s 332ms/step - loss: 68.6345 - val_loss: 67.5722\n",
      "Epoch 91/200\n",
      "950/950 [==============================] - 320s 337ms/step - loss: 68.3702 - val_loss: 73.6489\n",
      "Epoch 92/200\n",
      "950/950 [==============================] - 323s 340ms/step - loss: 68.1162 - val_loss: 66.9529\n",
      "Epoch 93/200\n",
      "950/950 [==============================] - 309s 325ms/step - loss: 67.8074 - val_loss: 66.1274\n",
      "Epoch 94/200\n",
      "950/950 [==============================] - 310s 327ms/step - loss: 67.7574 - val_loss: 67.5761\n",
      "Epoch 95/200\n",
      "950/950 [==============================] - 310s 326ms/step - loss: 67.4884 - val_loss: 66.0646\n",
      "Epoch 96/200\n",
      "950/950 [==============================] - 312s 328ms/step - loss: 67.3171 - val_loss: 66.2669\n",
      "Epoch 97/200\n",
      "950/950 [==============================] - 312s 328ms/step - loss: 67.1288 - val_loss: 66.4367\n",
      "Epoch 98/200\n",
      "950/950 [==============================] - 319s 336ms/step - loss: 66.8017 - val_loss: 66.1921\n",
      "Epoch 99/200\n",
      "950/950 [==============================] - 313s 329ms/step - loss: 66.5276 - val_loss: 64.8124\n",
      "Epoch 100/200\n",
      "950/950 [==============================] - 315s 331ms/step - loss: 66.4613 - val_loss: 64.9458\n",
      "Epoch 101/200\n",
      "950/950 [==============================] - 311s 327ms/step - loss: 66.1312 - val_loss: 65.9068\n",
      "Epoch 102/200\n",
      "950/950 [==============================] - 309s 325ms/step - loss: 65.9475 - val_loss: 65.6254\n",
      "Epoch 103/200\n",
      "950/950 [==============================] - 308s 324ms/step - loss: 65.6860 - val_loss: 65.7328\n",
      "Epoch 104/200\n",
      "950/950 [==============================] - 320s 336ms/step - loss: 65.5592 - val_loss: 65.7274\n",
      "Epoch 105/200\n",
      "950/950 [==============================] - 311s 327ms/step - loss: 65.5010 - val_loss: 68.6229\n",
      "Epoch 106/200\n",
      "950/950 [==============================] - 307s 323ms/step - loss: 65.3748 - val_loss: 64.8305\n",
      "Epoch 107/200\n",
      "950/950 [==============================] - 309s 325ms/step - loss: 64.9466 - val_loss: 68.2470\n",
      "Epoch 108/200\n",
      "950/950 [==============================] - 310s 326ms/step - loss: 64.9530 - val_loss: 65.8830\n",
      "Epoch 109/200\n",
      "950/950 [==============================] - 310s 326ms/step - loss: 64.4470 - val_loss: 63.4605\n",
      "Epoch 110/200\n",
      "950/950 [==============================] - 307s 323ms/step - loss: 64.4885 - val_loss: 62.7766\n",
      "Epoch 111/200\n",
      "950/950 [==============================] - 305s 321ms/step - loss: 64.2811 - val_loss: 63.0473\n",
      "Epoch 112/200\n",
      "950/950 [==============================] - 308s 324ms/step - loss: 64.0245 - val_loss: 63.1417\n",
      "Epoch 113/200\n",
      "950/950 [==============================] - 309s 325ms/step - loss: 63.8483 - val_loss: 63.8898\n",
      "Epoch 114/200\n",
      "950/950 [==============================] - 311s 327ms/step - loss: 63.9225 - val_loss: 64.8122\n",
      "Epoch 115/200\n",
      "950/950 [==============================] - 308s 325ms/step - loss: 63.6603 - val_loss: 62.5875\n",
      "Epoch 116/200\n",
      "950/950 [==============================] - 323s 340ms/step - loss: 63.5282 - val_loss: 63.8793\n",
      "Epoch 117/200\n",
      "950/950 [==============================] - 310s 326ms/step - loss: 63.4041 - val_loss: 62.8405\n",
      "Epoch 118/200\n",
      "950/950 [==============================] - 309s 325ms/step - loss: 62.9420 - val_loss: 63.5388\n",
      "Epoch 119/200\n",
      "950/950 [==============================] - 305s 321ms/step - loss: 62.9707 - val_loss: 64.2221\n",
      "Epoch 120/200\n",
      "950/950 [==============================] - 317s 333ms/step - loss: 62.8847 - val_loss: 61.6574\n",
      "Epoch 121/200\n",
      "950/950 [==============================] - 323s 340ms/step - loss: 62.6749 - val_loss: 61.4790\n",
      "Epoch 122/200\n",
      "950/950 [==============================] - 314s 330ms/step - loss: 62.6596 - val_loss: 62.0632\n",
      "Epoch 123/200\n",
      "950/950 [==============================] - 314s 331ms/step - loss: 62.4453 - val_loss: 61.2657\n",
      "Epoch 124/200\n",
      "950/950 [==============================] - 307s 323ms/step - loss: 62.1317 - val_loss: 61.4573\n",
      "Epoch 125/200\n",
      "950/950 [==============================] - 312s 328ms/step - loss: 62.3166 - val_loss: 64.1406\n",
      "Epoch 126/200\n",
      "950/950 [==============================] - 309s 326ms/step - loss: 61.9990 - val_loss: 60.8696\n",
      "Epoch 127/200\n",
      "950/950 [==============================] - 310s 327ms/step - loss: 61.7235 - val_loss: 62.6824\n",
      "Epoch 128/200\n",
      "950/950 [==============================] - 312s 329ms/step - loss: 61.6915 - val_loss: 61.8710\n",
      "Epoch 129/200\n",
      "950/950 [==============================] - 313s 330ms/step - loss: 61.4863 - val_loss: 61.1312\n",
      "Epoch 130/200\n",
      "950/950 [==============================] - 320s 337ms/step - loss: 61.2458 - val_loss: 60.0529\n",
      "Epoch 131/200\n",
      "950/950 [==============================] - 308s 324ms/step - loss: 61.3732 - val_loss: 60.9060\n",
      "Epoch 132/200\n",
      "950/950 [==============================] - 316s 333ms/step - loss: 61.1123 - val_loss: 61.3820\n",
      "Epoch 133/200\n",
      "950/950 [==============================] - 312s 328ms/step - loss: 61.0787 - val_loss: 61.2309\n",
      "Epoch 134/200\n",
      "950/950 [==============================] - 309s 325ms/step - loss: 60.7342 - val_loss: 60.1632\n",
      "Epoch 135/200\n",
      "950/950 [==============================] - 310s 326ms/step - loss: 60.8264 - val_loss: 60.7991\n",
      "Epoch 136/200\n",
      "113/950 [==>...........................] - ETA: 3:57 - loss: 60.8117"
     ]
    }
   ],
   "source": [
    "batch_size = NEvts\n",
    "epochs = 200\n",
    "\n",
    "def mean_abs_theta_vtx(y_true, y_pred):\n",
    "    return K.mean(K.abs(y_true[:,0] - y_pred[:,0]))\n",
    "def mean_abs_phi_vtx(y_true, y_pred):\n",
    "    return K.mean(K.abs(y_true[:,1] - y_pred[:,1]))\n",
    "def mean_abs_r_vtx(y_true, y_pred):\n",
    "    return K.mean(K.abs(y_true[:,2] - y_pred[:,2]))\n",
    "def mean_abs_theta_dir(y_true, y_pred):\n",
    "    return K.mean(K.abs(y_true[:,3] - y_pred[:,3]))\n",
    "def mean_abs_phi_dir(y_true, y_pred):\n",
    "    return K.mean(K.abs(y_true[:,4] - y_pred[:,4]))\n",
    "\n",
    "def loss_by_R_square(y_true, y_pred):\n",
    "    return K.mean(K.square(y_true[:,0] - y_pred[:,0])+\n",
    "                  K.square(y_true[:,1] - y_pred[:,1])+\n",
    "                  K.square(y_true[:,2] - y_pred[:,2]) )\n",
    "\n",
    "my_network.compile(optimizer=Adam(lr=1e-5), loss='mean_squared_error')#, \n",
    "                                            #loss = loss_by_R_square)\n",
    "                   #metrics=['mean_squared_error', mean_abs_theta_vtx, mean_abs_phi_vtx, mean_abs_r_vtx])#, \n",
    "                                                  #mean_abs_theta_dir, mean_abs_phi_dir])\n",
    "\n",
    "my_network.load_weights(\"weights_vtx_dir_1el_color_7xLSTM75_8400_400_f950_lr1e-5_N3.h5\")\n",
    "#my_network.load_weights(\"weights_vtx_dir_1el_2xLSTM75_6300_300_f1930_lr1e-5_N9.h5\")\n",
    "\n",
    "\n",
    "history = my_network.fit_generator(generator=training_generator, epochs=epochs, validation_data=(testX, testY)) \n",
    "\n",
    "#history = my_network.fit(trainX, trainY, batch_size=1000, epochs=epochs, verbose=1, validation_data=(testX, testY))\n"
   ]
  },
  {
   "cell_type": "code",
   "execution_count": 24,
   "metadata": {},
   "outputs": [],
   "source": [
    "my_network.save_weights(\"weights_vtx_dir_1el_color_7xLSTM75_8400_400_f950_lr1e-5_N3.h5\")\n",
    "#my_network.save_weights(\"weights_dir_1el_7xLSTM75_6300_300_f1930_lr1e-5_N3.h5\")"
   ]
  },
  {
   "cell_type": "code",
   "execution_count": 25,
   "metadata": {},
   "outputs": [
    {
     "data": {
      "text/plain": [
       "Text(0.5, 1.0, 'Loss Curves')"
      ]
     },
     "execution_count": 25,
     "metadata": {},
     "output_type": "execute_result"
    },
    {
     "data": {
      "image/png": "[encoded data removed]",
      "text/plain": [
       "<Figure size 576x432 with 1 Axes>"
      ]
     },
     "metadata": {
      "needs_background": "light"
     },
     "output_type": "display_data"
    }
   ],
   "source": [
    "# Loss Curves\n",
    "plt.figure(figsize=[8,6])\n",
    "plt.plot(history.history['loss'],'r',linewidth=3.0)\n",
    "plt.plot(history.history['val_loss'],'b',linewidth=3.0)\n",
    "plt.legend(['Training loss', 'Validation Loss'],fontsize=18)\n",
    "plt.xlabel('Epochs ',fontsize=16)\n",
    "plt.ylabel('Loss',fontsize=16)\n",
    "plt.title('Loss Curves',fontsize=16)\n",
    " "
   ]
  },
  {
   "cell_type": "code",
   "execution_count": 26,
   "metadata": {},
   "outputs": [
    {
     "name": "stdout",
     "output_type": "stream",
     "text": [
      "shape recoY =  (49000, 3)    shape testY =  (49000, 3)\n",
      "(49000,)   dR_mean =  24.767579069299565\n",
      "(49000,)\n",
      "(49000, 3)\n",
      "dY:  [[ 12.60573979  -3.90058262  15.43843808]\n",
      " [ 35.05383482  -4.77434702  -2.68726029]\n",
      " [ 58.15904439  31.31687517 -11.72394063]]\n",
      "dY_norm:  [[ 0.62069036 -0.19205966  0.76016877]\n",
      " [ 0.98800558 -0.13456677 -0.07574145]\n",
      " [ 0.86691913  0.46680956 -0.17475714]]\n",
      "(49000,)\n"
     ]
    }
   ],
   "source": [
    "recoY = my_network.predict(testX)\n",
    "\n",
    "print('shape recoY = ', recoY.shape, '   shape testY = ', testY.shape)\n",
    "\n",
    "dY = recoY - testY\n",
    "dY0 = recoY[:,0] - testY[:,0]\n",
    "dY1 = recoY[:,1] - testY[:,1]\n",
    "dY2 = recoY[:,2] - testY[:,2]\n",
    "dR = np.sqrt((recoY[:,0] - testY[:,0])*(recoY[:,0] - testY[:,0]) + (recoY[:,1] - testY[:,1])*(recoY[:,1] - testY[:,1]) + (recoY[:,2] - testY[:,2])*(recoY[:,2] - testY[:,2]) )\n",
    "print(dR.shape, '  dR_mean = ', np.mean(dR))\n",
    "R_true = np.sqrt(testY[:,0]*testY[:,0] + testY[:,1]*testY[:,1] + testY[:,2]*testY[:,2])\n",
    "print(R_true.shape)\n",
    "print(testY.shape)\n",
    "\n",
    "print('dY: ',dY[0:3,:])\n",
    "dRb = dR.reshape(dR.shape[0],1)\n",
    "dY = dY/dRb\n",
    "print('dY_norm: ',dY[0:3,:])\n",
    "#np.random.shuffle(trueDir)\n",
    "vtx_dot_dir = np.sum(dY*trueDir, axis=1)\n",
    "print(vtx_dot_dir.shape)"
   ]
  },
  {
   "cell_type": "code",
   "execution_count": 27,
   "metadata": {},
   "outputs": [
    {
     "data": {
      "text/plain": [
       "Text(0.5, 0, 'Dot product between Vtx(bias) and Dir(el)')"
      ]
     },
     "execution_count": 27,
     "metadata": {},
     "output_type": "execute_result"
    },
    {
     "data": {
      "image/png": "[encoded data removed]",
      "text/plain": [
       "<Figure size 720x576 with 1 Axes>"
      ]
     },
     "metadata": {
      "needs_background": "light"
     },
     "output_type": "display_data"
    }
   ],
   "source": [
    "plt.figure(figsize=[10,8])\n",
    "plt.hist(vtx_dot_dir, bins=60, range=(-1.5,1.5), histtype='step',ls='solid', alpha = 1.0, lw=3, color= 'b')\n",
    "plt.title('Correlation between the bias in vertex reconstruction and initial direction of the electron', fontsize=18)\n",
    "plt.xlabel('Dot product between Vtx(bias) and Dir(el)', fontsize=16)"
   ]
  },
  {
   "cell_type": "code",
   "execution_count": 28,
   "metadata": {},
   "outputs": [
    {
     "name": "stdout",
     "output_type": "stream",
     "text": [
      "MSE =  281.91191025242927\n",
      "MSE2 =  281.91191025242927\n",
      "dY0_Mean_vtx =  0.029162671819212976    dY1_Mean_vtx =  -0.1725259393034201    dY2_Mean_vtx =  0.376003992282132\n",
      "dY0_Rms_vtx =  24.27325435909161     dY1_Rms_vtx =  12.086037829759846     dY2_Rms_vtx =  10.51059195068203\n",
      "resolution_vtx =  29.081535907810782\n",
      "reco_Y1_vtx =  [  84.49395   88.48078  -72.4293  ...  219.22119 -146.97298 -161.26085]\n",
      "test_Y1_vtx =  [  88.39453251   93.25512858 -103.74617358 ...  230.03334988 -132.16106189\n",
      " -161.36515737]\n",
      "\n",
      "\n",
      "Mean_true_vtx_0 =  -0.017212440378999622    Mean_true_vtx_1 =  -0.13439329235465924 Mean_true_vtx_2 =  -0.38149330600135595\n",
      "RMS_true_vtx_0 =  134.67199293740322    RMS_true_vtx_1 =  134.31360863221246   RMS_true_vtx_2 =  133.98002991737084\n"
     ]
    },
    {
     "data": {
      "image/png": "[encoded data removed]",
      "text/plain": [
       "<Figure size 720x576 with 1 Axes>"
      ]
     },
     "metadata": {
      "needs_background": "light"
     },
     "output_type": "display_data"
    },
    {
     "data": {
      "image/png": "[encoded data removed]",
      "text/plain": [
       "<Figure size 432x288 with 1 Axes>"
      ]
     },
     "metadata": {
      "needs_background": "light"
     },
     "output_type": "display_data"
    },
    {
     "data": {
      "image/png": "[encoded data removed]",
      "text/plain": [
       "<Figure size 432x288 with 1 Axes>"
      ]
     },
     "metadata": {
      "needs_background": "light"
     },
     "output_type": "display_data"
    },
    {
     "data": {
      "image/png": "[encoded data removed]",
      "text/plain": [
       "<Figure size 432x288 with 1 Axes>"
      ]
     },
     "metadata": {
      "needs_background": "light"
     },
     "output_type": "display_data"
    }
   ],
   "source": [
    "MSE = np.mean( (recoY.flatten()[:] - testY.flatten()[:])*(recoY.flatten()[:] - testY.flatten()[:]) )\n",
    "print('MSE = ', MSE)\n",
    "\n",
    "#MSE2 = np.mean(np.square(recoY - testY), axis=-1)\n",
    "MSE2 = np.mean(np.square(recoY.flatten()[:] - testY.flatten()[:]), axis=-1)\n",
    "print('MSE2 = ', MSE2)\n",
    "\n",
    "#dTheta_dir = recoY[:,3] - testY[:,3]\n",
    "#dPhi_dir = recoY[:,4] - testY[:,4]\n",
    "print('dY0_Mean_vtx = ' ,np.mean(dY0), '   dY1_Mean_vtx = ', np.mean(dY1), '   dY2_Mean_vtx = ' ,np.mean(dY2))\n",
    "print('dY0_Rms_vtx = ',np.sqrt(np.mean(np.square(dY0))), '    dY1_Rms_vtx = ',np.sqrt(np.mean(np.square(dY1))), '    dY2_Rms_vtx = ',np.sqrt(np.mean(np.square(dY2))))\n",
    "print('resolution_vtx = ', np.sqrt(np.mean(np.square(dY0)) + np.mean(np.square(dY1)) + np.mean(np.square(dY2)) ) )\n",
    "#print('ThetaMean_dir = ',np.mean(dTheta_dir),'   PhiMean_dir = ',np.mean(dPhi_dir))\n",
    "#print('ThetaRms_dir = ',np.sqrt(np.mean(np.square(dTheta_dir))), '   PhiRms_dir = ',np.sqrt(np.mean(np.square(dPhi_dir))))\n",
    "\n",
    "print('reco_Y1_vtx = ',recoY[:,1])\n",
    "print('test_Y1_vtx = ',testY[:,1])\n",
    "print('')\n",
    "print('')\n",
    "\n",
    "\n",
    "#fig_scatt = plt.figure()\n",
    "#plt.scatter(R_true, dR)\n",
    "\n",
    "fig_dYs = plt.figure(figsize=[10,8])\n",
    "plt.hist(dY0, bins=40, range=(-20,20), histtype='step',ls='solid', alpha = 1.0, lw=3, color= 'r')\n",
    "plt.hist(dY1, bins=40, range=(-20,20), histtype='step',ls='solid', alpha = 1.0, lw=3, color= 'g')\n",
    "plt.hist(dY2, bins=40, range=(-20,20), histtype='step',ls='solid', alpha = 1.0, lw=3, color= 'b')\n",
    "plt.title('Vertex Reconstruction',fontsize=18)\n",
    "plt.xlabel('Vtx(reco) - Vtx(true) [cm]',fontsize=16)\n",
    "\n",
    "fig_Y0s = plt.figure()\n",
    "plt.hist(recoY[:,0], bins=50, range=(-500,500), histtype='step',ls='--', alpha = 1.0, lw=3, color= 'r')\n",
    "plt.hist(testY[:,0], bins=50, range=(-500,500), histtype='step',ls='solid', alpha = 1.0, lw=3, color= 'r')\n",
    "fig_Y1s = plt.figure()\n",
    "plt.hist(recoY[:,1], bins=50, range=(-500,500), histtype='step',ls='--', alpha = 1.0, lw=3, color= 'g')\n",
    "plt.hist(testY[:,1], bins=50, range=(-500,500), histtype='step',ls='solid', alpha = 1.0, lw=3, color= 'g')\n",
    "fig_Y2s = plt.figure()\n",
    "plt.hist(recoY[:,2], bins=50, range=(-500,500), histtype='step',ls='--', alpha = 1.0, lw=3, color= 'b')\n",
    "plt.hist(testY[:,2], bins=50, range=(-500,500), histtype='step',ls='solid', alpha = 1.0, lw=3, color= 'b')\n",
    "\n",
    "print('Mean_true_vtx_0 = ', np.mean(testY[:,0]), '   Mean_true_vtx_1 = ' , np.mean(testY[:,1]), 'Mean_true_vtx_2 = ', np.mean(testY[:,2]))\n",
    "print('RMS_true_vtx_0 = ' , np.sqrt(np.mean(np.square(testY[:,0]))), '   RMS_true_vtx_1 = ' , np.sqrt(np.mean(np.square(testY[:,1]))), '  RMS_true_vtx_2 = ', np.sqrt(np.mean(np.square(testY[:,2]))) )"
   ]
  },
  {
   "cell_type": "code",
   "execution_count": 18,
   "metadata": {
    "scrolled": true
   },
   "outputs": [
    {
     "name": "stdout",
     "output_type": "stream",
     "text": [
      "shape recoY =  (49000, 3)    shape testY =  (49000, 3)\n",
      "ThetaMean_vtx =  -0.8499771413797286\n"
     ]
    },
    {
     "data": {
      "text/plain": [
       "(array([584., 637., 569., 626., 596., 596., 627., 594., 617., 587., 581.,\n",
       "        592., 603., 663., 612., 568., 657., 626., 579., 605.]),\n",
       " array([-50., -45., -40., -35., -30., -25., -20., -15., -10.,  -5.,   0.,\n",
       "          5.,  10.,  15.,  20.,  25.,  30.,  35.,  40.,  45.,  50.]),\n",
       " [<matplotlib.patches.Polygon at 0x7f9a6077d460>])"
      ]
     },
     "execution_count": 18,
     "metadata": {},
     "output_type": "execute_result"
    },
    {
     "data": {
      "image/png": "[encoded data removed]",
      "text/plain": [
       "<Figure size 432x288 with 1 Axes>"
      ]
     },
     "metadata": {
      "needs_background": "light"
     },
     "output_type": "display_data"
    },
    {
     "data": {
      "image/png": "[encoded data removed]",
      "text/plain": [
       "<Figure size 432x288 with 1 Axes>"
      ]
     },
     "metadata": {
      "needs_background": "light"
     },
     "output_type": "display_data"
    },
    {
     "data": {
      "image/png": "[encoded data removed]",
      "text/plain": [
       "<Figure size 432x288 with 1 Axes>"
      ]
     },
     "metadata": {
      "needs_background": "light"
     },
     "output_type": "display_data"
    },
    {
     "data": {
      "image/png": "[encoded data removed]",
      "text/plain": [
       "<Figure size 432x288 with 1 Axes>"
      ]
     },
     "metadata": {
      "needs_background": "light"
     },
     "output_type": "display_data"
    }
   ],
   "source": [
    "recoY = my_network.predict(testX)\n",
    "\n",
    "print('shape recoY = ', recoY.shape, '   shape testY = ', testY.shape)\n",
    "\n",
    "\n",
    "dTheta_vtx = recoY[:,1] - testY[:,1]\n",
    "print('ThetaMean_vtx = ',np.mean(dTheta_vtx))\n",
    "\n",
    "fig1 = plt.figure()\n",
    "plt.hist(dTheta_vtx, bins=40, range=(-20,20), histtype='step',ls='solid', alpha = 1.0, lw=3, color= 'r')\n",
    "\n",
    "fig_sinT = plt.figure()\n",
    "plt.hist(recoY[:,0], bins=20, range=(-50,50), histtype='step',ls='--', alpha = 1.0, lw=3, color= 'r')\n",
    "plt.hist(testY[:,0], bins=20, range=(-50,50), histtype='step',ls='solid', alpha = 1.0, lw=3, color= 'r')\n",
    "\n",
    "fig_cosT = plt.figure()\n",
    "plt.hist(recoY[:,1], bins=20, range=(-50,50), histtype='step',ls='--', alpha = 1.0, lw=3, color= 'g')\n",
    "plt.hist(testY[:,1], bins=20, range=(-50,50), histtype='step',ls='solid', alpha = 1.0, lw=3, color= 'g')\n",
    "\n",
    "fig_sinP = plt.figure()\n",
    "plt.hist(recoY[:,2], bins=20, range=(-50,50), histtype='step',ls='--', alpha = 1.0, lw=3, color= 'r')\n",
    "plt.hist(testY[:,2], bins=20, range=(-50,50), histtype='step',ls='solid', alpha = 1.0, lw=3, color= 'r')\n",
    "\n",
    "#fig_cosP = plt.figure()\n",
    "#plt.hist(recoY[:,3], bins=20, range=(-12,12), histtype='step',ls='--', alpha = 1.0, lw=3, color= 'g')\n",
    "#plt.hist(testY[:,3], bins=20, range=(-12,12), histtype='step',ls='solid', alpha = 1.0, lw=3, color= 'g')\n",
    "\n",
    "\n",
    "#fig_R = plt.figure()\n",
    "#plt.hist(np.abs(recoY[:,4]), bins=20, range=(0,60), histtype='step',ls='--', alpha = 1.0, lw=3, color= 'b')\n",
    "#plt.hist(testY[:,4], bins=20, range=(0,60), histtype='step',ls='solid', alpha = 1.0, lw=3, color= 'b')\n"
   ]
  },
  {
   "cell_type": "code",
   "execution_count": null,
   "metadata": {},
   "outputs": [],
   "source": [
    "my_network.summary()"
   ]
  }
 ],
 "metadata": {
  "kernelspec": {
   "display_name": "Python 3",
   "language": "python",
   "name": "python3"
  },
  "language_info": {
   "codemirror_mode": {
    "name": "ipython",
    "version": 3
   },
   "file_extension": ".py",
   "mimetype": "text/x-python",
   "name": "python",
   "nbconvert_exporter": "python",
   "pygments_lexer": "ipython3",
   "version": "3.8.5"
  }
 },
 "nbformat": 4,
 "nbformat_minor": 4
}
