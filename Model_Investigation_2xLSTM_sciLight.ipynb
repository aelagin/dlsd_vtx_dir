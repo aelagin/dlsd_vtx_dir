{
 "cells": [
  {
   "cell_type": "markdown",
   "metadata": {},
   "source": [
    "## Vertex reconstruction in a large Directional Liquid Scintillator Detector\n",
    "\n",
    "This is the same model as Model_Investigation_2xLSTM.ipynb, but looking at the data set with scintillation light only, i.e. cherenkov photons are explicitly excluded.\n",
    "\n",
    "Training data location: https://stash.osgconnect.net/public/elagin/vtx_dir_1el_sciLight_norm/\n",
    "\n",
    "Testing data location: https://stash.osgconnect.net/public/elagin/test_vtx_dir_1el_sciLight_norm/\n",
    "\n",
    "Data are .npz files with 3 numpy arrays. Where each row correspond to one event.\n",
    "\n",
    "\"x\" is a (1000,6300) array of \"independent variables\", photo-electron hits (theta, phi, and time). Hit coordinate encoding in each row is the folowing: \\\n",
    "theta = x[:,0::3] \\\n",
    "phi = x[:,1::3] \\\n",
    "time = x[:,2::3] \\\n",
    "All data is normalized as theta = theta/pi, phi = phi/(2pi), time = time/maxT (currently maxT=150). \\\n",
    "Each row in \"x\" is padded with -1 to make it a length of 6300 \n",
    "\n",
    "\"y_vtx\" is a (1000,3) array of \"dependent variable\", true x-,y-,z- coordinates of the event vertex to be reconstructed \\\n",
    "\"y_dir\" is a (1000,3) array of \"dependent variable\", true x-,y-,z- coordinates of the unit vector along the original direction of the electron\n",
    "\n",
    "See checking_inputs.ipynb and checking_inputs_norm.ipynb for more details on the data"
   ]
  },
  {
   "cell_type": "code",
   "execution_count": 1,
   "metadata": {},
   "outputs": [],
   "source": [
    "import os\n",
    "import math\n",
    "\n",
    "import matplotlib.pyplot as plt \n",
    "\n",
    "import numpy as np\n",
    "import pandas as pd\n",
    "import random"
   ]
  },
  {
   "cell_type": "code",
   "execution_count": 2,
   "metadata": {},
   "outputs": [],
   "source": [
    "\n",
    "from keras.models import Sequential, Model\n",
    "from keras.layers import Dense, Activation, Flatten, Reshape, Lambda, Input, Concatenate, concatenate\n",
    "from keras.layers import Conv1D, Conv2D, Conv2DTranspose, UpSampling2D, MaxPooling1D, MaxPooling2D, LocallyConnected2D, LocallyConnected1D\n",
    "from keras.layers import LSTM, Bidirectional\n",
    "from keras.layers import Masking\n",
    "from keras.layers import LeakyReLU, Dropout\n",
    "from keras.layers import BatchNormalization\n",
    "from keras.optimizers import Adam, RMSprop\n",
    "from keras.utils import to_categorical\n",
    "import keras.backend as K"
   ]
  },
  {
   "cell_type": "code",
   "execution_count": 3,
   "metadata": {},
   "outputs": [],
   "source": [
    "#global variables\n",
    "maxT = 37\n",
    "maxLambda = 800\n",
    "PAD_VALUE = -1\n",
    "NEvts = 1000\n",
    "pi = 3.141592653589793\n",
    "NFiles = 100"
   ]
  },
  {
   "cell_type": "markdown",
   "metadata": {},
   "source": [
    "### Custom generator to load large datasets"
   ]
  },
  {
   "cell_type": "code",
   "execution_count": 4,
   "metadata": {},
   "outputs": [],
   "source": [
    "from keras.utils import Sequence\n",
    "from keras.preprocessing.sequence import pad_sequences\n",
    "\n",
    "class MyGenerator(Sequence):\n",
    "    def __init__(self, x_dir, batch_size):\n",
    "        self.x_dir = x_dir\n",
    "        self.x = os.listdir(x_dir)\n",
    "        self.batch_size = batch_size\n",
    "        print('Generator init complete')\n",
    "        \n",
    "    def __len__(self):\n",
    "        nf = self.batch_size/(NEvts) # calculate number of files\n",
    "        return math.ceil(len(self.x) / nf)\n",
    "\n",
    "    def __getitem__(self, idx):\n",
    "        batch_data = np.load(os.path.join(self.x_dir, self.x[idx]))\n",
    "        Y = np.array(batch_data['y_vtx'])\n",
    "        return np.array(batch_data['x']), Y"
   ]
  },
  {
   "cell_type": "code",
   "execution_count": 5,
   "metadata": {},
   "outputs": [
    {
     "name": "stdout",
     "output_type": "stream",
     "text": [
      "Generator init complete\n"
     ]
    }
   ],
   "source": [
    "training_generator = MyGenerator('/data/Elagin/vtx_dir_1el_sciLight_norm', NEvts)\n",
    "\n",
    "#testing_generator = MyGenerator('/data/Elagin/test_vtx_dir_1el_color_norm', NEvts)"
   ]
  },
  {
   "cell_type": "markdown",
   "metadata": {},
   "source": [
    "### Loading data that can fit into RAM"
   ]
  },
  {
   "cell_type": "code",
   "execution_count": 6,
   "metadata": {},
   "outputs": [],
   "source": [
    "# Load data from x_dir, stop after loading fn_max files\n",
    "# Returns X, Y, Dir\n",
    "# X - independent variables\n",
    "# Y - dependend variables (x-, y-, z- of the vertex in this implementation)\n",
    "# Dir - direction vector (x-, y-, z- componenets), could be made dependent variable\n",
    "def load_test_data_to_memory(x_dir, fn_max=2000) :\n",
    "    X, Y, Dir = np.array([]), np.array([]), np.array([])\n",
    "    f_list = os.listdir(x_dir)\n",
    "    f_list.sort()\n",
    "    i=0\n",
    "    for x in f_list :\n",
    "        batch_data = np.load(os.path.join(x_dir, x))\n",
    "        \n",
    "        X = np.vstack([X, np.array(batch_data['x'])]) if X.size else np.array(batch_data['x'])\n",
    "        Y = np.vstack([Y, np.array(batch_data['y_vtx'])]) if Y.size else np.array(batch_data['y_vtx'])\n",
    "        Dir = np.vstack([Dir, np.array(batch_data['y_dir'])]) if Dir.size else np.array(batch_data['y_dir'])\n",
    "\n",
    "        i+=1\n",
    "        if i%10 == 0:\n",
    "            print(x)\n",
    "            print('i = ', i, '   ', X.shape, '   ', Y.shape, '   ', Dir.shape)\n",
    "        if i>=fn_max:\n",
    "            break\n",
    "    print(X.shape, '   ', Y.shape, '   ', Dir.shape)\n",
    "    return X, Y, Dir"
   ]
  },
  {
   "cell_type": "code",
   "execution_count": 7,
   "metadata": {},
   "outputs": [
    {
     "name": "stdout",
     "output_type": "stream",
     "text": [
      "f_batch_1020.npz\n",
      "i =  10     (10000, 6300)     (10000, 3)     (10000, 3)\n",
      "f_batch_1030.npz\n",
      "i =  20     (20000, 6300)     (20000, 3)     (20000, 3)\n",
      "f_batch_1500.npz\n",
      "i =  30     (30000, 6300)     (30000, 3)     (30000, 3)\n",
      "f_batch_1510.npz\n",
      "i =  40     (40000, 6300)     (40000, 3)     (40000, 3)\n",
      "f_batch_1520.npz\n",
      "i =  50     (50000, 6300)     (50000, 3)     (50000, 3)\n",
      "f_batch_1530.npz\n",
      "i =  60     (60000, 6300)     (60000, 3)     (60000, 3)\n",
      "(69000, 6300)     (69000, 3)     (69000, 3)\n"
     ]
    }
   ],
   "source": [
    "testX, testY, trueDir = load_test_data_to_memory('/data/Elagin/test_vtx_dir_1el_sciLight_norm/')"
   ]
  },
  {
   "cell_type": "code",
   "execution_count": 8,
   "metadata": {},
   "outputs": [],
   "source": [
    "#trainX, trainY, trueDir_training = load_test_data_to_memory('/data/Elagin/vtx_dir_1el_norm/',200)"
   ]
  },
  {
   "cell_type": "markdown",
   "metadata": {},
   "source": [
    "### Defining various activation functions"
   ]
  },
  {
   "cell_type": "code",
   "execution_count": 9,
   "metadata": {},
   "outputs": [],
   "source": [
    "def mapping_to_pmOne(x) :\n",
    "    return 2*K.sigmoid(x) - 1\n",
    "\n",
    "def mapping_to_pm50(x) :\n",
    "    return mapping_to_pmOne(x)*50\n",
    "\n",
    "def mapping_to_pm300(x) :\n",
    "    return mapping_to_pmOne(x)*300\n",
    "\n",
    "def mapping_to_0_50(x) :\n",
    "    return 50*K.sigmoid(x)\n",
    "\n",
    "\n",
    "def mapping_to_target_range_all( x, target_min=-0.02*pi, target_max=2.02*pi ) :\n",
    "    x02 = K.tanh(x) + 1 # x in range(0,2)\n",
    "    scale = ( target_max-target_min )/2.\n",
    "    return  x02 * scale + target_min\n",
    "\n",
    "def mapping_to_target_range_2pi( x, target_min=-0.00*pi, target_max=2.00*pi ) :\n",
    "    x02 = K.tanh(x) + 1 # x in range(0,2)\n",
    "    scale = ( target_max-target_min )/2.\n",
    "    return  x02 * scale + target_min\n",
    "    #return K.sigmoid(x)*target_max\n",
    "\n",
    "def mapping_to_target_range_pi( x, target_min=-0.00*pi, target_max=1.00*pi ) :\n",
    "    x02 = K.tanh(x) + 1 # x in range(0,2)\n",
    "    scale = ( target_max-target_min )/2.\n",
    "    return  x02 * scale + target_min\n",
    "    #return K.sigmoid(x)*target_max\n",
    "\n",
    "def mapping_to_target_range_phi( x, target_min=0, target_max=2*pi ) :\n",
    "    print('is x keras tensor:', K.is_keras_tensor(x))\n",
    "    print('x shape = ',K.int_shape(x))\n",
    "    print('x shape = ',K.shape(x))\n",
    "    #phi = K.placeholder(shape=(None,1))\n",
    "    phi = Input([1])\n",
    "    #theta = K.placeholder(shape=(None,1))\n",
    "    theta = Input([1])\n",
    "    #r = K.placeholder(shape=(None,1))\n",
    "    r = Input([1])\n",
    "    print('phi shape = ',K.int_shape(phi))\n",
    "    print('is phi keras tensor:', K.is_keras_tensor(phi))\n",
    "    phi = K.concatenate([phi, [K.tanh(x[:,1]) + 1]], axis=0) # x in range(0,2)\n",
    "    #phi = K.tanh(x[:,1]) + 1\n",
    "    theta = K.concatenate([theta, [x[:,0]]], axis=0)\n",
    "    #theta = x[:,0]\n",
    "    r = K.concatenate([r, [x[:,2]]], axis=0)\n",
    "    #r = x[:,2]\n",
    "    print('phi shape = ',K.int_shape(phi))\n",
    "    print('is phi keras tensor:', K.is_keras_tensor(phi))\n",
    "    print('theta shape = ',K.int_shape(theta))\n",
    "    print('r shape = ',K.int_shape(r))\n",
    "    scale = ( target_max-target_min )/2.\n",
    "    phi =  phi * scale + target_min\n",
    "    #phi = K.cast(phi, dtype='int32')\n",
    "    #phi = K.reshape(phi, (,1))\n",
    "    print('phi shape = ',K.int_shape(phi))\n",
    "    \n",
    "    res = K.concatenate([theta, phi, r], axis=1)\n",
    "    print('res shape = ',K.int_shape(res))\n",
    "    print('res shape = ',K.shape(res))\n",
    "    print('is res keras tensor:', K.is_keras_tensor(res))\n",
    "    x[:,1].assign(phi)\n",
    "    return x\n",
    "\n",
    "def mapping_to_target_range_phi2( x, target_min=0, target_max=2*pi ) :\n",
    "    scale = ( target_max-target_min )/2.\n",
    "    phi = K.placeholder(shape=(None,1))\n",
    "    #phi = Input([1])\n",
    "    #phi = (K.tanh(x[:,1]) + 1)*scale + target_min\n",
    "    phi = K.concatenate([phi, [(K.tanh(x[:,1]) + 1)*scale + target_min]], axis=0)\n",
    "    x[:,1].assign(phi)\n",
    "    return x"
   ]
  },
  {
   "cell_type": "markdown",
   "metadata": {},
   "source": [
    "### The model"
   ]
  },
  {
   "cell_type": "code",
   "execution_count": 10,
   "metadata": {},
   "outputs": [],
   "source": [
    "def createModel():\n",
    "    N=6300\n",
    "    lstm_seq = 300\n",
    "    lstm_steps = int(N/lstm_seq)\n",
    "    model = Sequential()\n",
    "    \n",
    "    model.add(Reshape(input_shape=(N,), target_shape=(lstm_steps,lstm_seq)))\n",
    "    \n",
    "    model.add(Masking(mask_value=-1, input_shape=(lstm_steps, lstm_seq)))\n",
    "    \n",
    "    model.add(LSTM(75, return_sequences=True, input_shape=(lstm_steps,lstm_seq), dropout=0.0))\n",
    "#     model.add(LSTM(75, return_sequences=True, input_shape=(lstm_steps,lstm_seq), dropout=0.0))\n",
    "#     model.add(LSTM(75, return_sequences=True, input_shape=(lstm_steps,lstm_seq), dropout=0.0))\n",
    "#     model.add(LSTM(75, return_sequences=True, input_shape=(lstm_steps,lstm_seq), dropout=0.0))\n",
    "#     model.add(LSTM(75, return_sequences=True, input_shape=(lstm_steps,lstm_seq), dropout=0.0))\n",
    "#     model.add(LSTM(75, return_sequences=True, input_shape=(lstm_steps,lstm_seq), dropout=0.0))\n",
    "    model.add(LSTM(75, input_shape=(lstm_steps,lstm_seq), dropout=0.0))\n",
    "    \n",
    "    model.add(Dense(256, activation='relu'))\n",
    "    #model.add(Dropout(0.1))\n",
    "    model.add(Dense(256, activation='relu'))\n",
    "    #model.add(Dropout(0.1))\n",
    "    model.add(Dense(3, activation=mapping_to_pm300))\n",
    "#    model.add(Dense(3, activation=None))\n",
    "    \n",
    "    return model"
   ]
  },
  {
   "cell_type": "code",
   "execution_count": 11,
   "metadata": {},
   "outputs": [],
   "source": [
    "my_network=createModel()"
   ]
  },
  {
   "cell_type": "code",
   "execution_count": 12,
   "metadata": {},
   "outputs": [
    {
     "name": "stdout",
     "output_type": "stream",
     "text": [
      "Model: \"sequential\"\n",
      "_________________________________________________________________\n",
      "Layer (type)                 Output Shape              Param #   \n",
      "=================================================================\n",
      "reshape (Reshape)            (None, 21, 300)           0         \n",
      "_________________________________________________________________\n",
      "masking (Masking)            (None, 21, 300)           0         \n",
      "_________________________________________________________________\n",
      "lstm (LSTM)                  (None, 21, 75)            112800    \n",
      "_________________________________________________________________\n",
      "lstm_1 (LSTM)                (None, 75)                45300     \n",
      "_________________________________________________________________\n",
      "dense (Dense)                (None, 256)               19456     \n",
      "_________________________________________________________________\n",
      "dense_1 (Dense)              (None, 256)               65792     \n",
      "_________________________________________________________________\n",
      "dense_2 (Dense)              (None, 3)                 771       \n",
      "=================================================================\n",
      "Total params: 244,119\n",
      "Trainable params: 244,119\n",
      "Non-trainable params: 0\n",
      "_________________________________________________________________\n"
     ]
    }
   ],
   "source": [
    "my_network.summary()"
   ]
  },
  {
   "cell_type": "markdown",
   "metadata": {},
   "source": [
    "### Run the model"
   ]
  },
  {
   "cell_type": "code",
   "execution_count": 13,
   "metadata": {},
   "outputs": [
    {
     "name": "stdout",
     "output_type": "stream",
     "text": [
      "WARNING:tensorflow:From <ipython-input-13-dbd70a7df2d9>:29: Model.fit_generator (from tensorflow.python.keras.engine.training) is deprecated and will be removed in a future version.\n",
      "Instructions for updating:\n",
      "Please use Model.fit, which supports generators.\n",
      "Epoch 1/100\n",
      "1930/1930 [==============================] - 381s 197ms/step - loss: 21.3570 - val_loss: 21.6131\n",
      "Epoch 2/100\n",
      "1930/1930 [==============================] - 419s 217ms/step - loss: 21.3428 - val_loss: 21.5854\n",
      "Epoch 3/100\n",
      "1930/1930 [==============================] - 409s 212ms/step - loss: 21.3435 - val_loss: 21.5339\n",
      "Epoch 4/100\n",
      "1930/1930 [==============================] - 405s 210ms/step - loss: 21.3416 - val_loss: 21.9385\n",
      "Epoch 5/100\n",
      "1930/1930 [==============================] - 423s 219ms/step - loss: 21.3384 - val_loss: 21.5935\n",
      "Epoch 6/100\n",
      "1930/1930 [==============================] - 404s 209ms/step - loss: 21.3282 - val_loss: 21.5365\n",
      "Epoch 7/100\n",
      "1930/1930 [==============================] - 420s 217ms/step - loss: 21.3367 - val_loss: 21.4586\n",
      "Epoch 8/100\n",
      "1930/1930 [==============================] - 432s 224ms/step - loss: 21.3339 - val_loss: 21.6467\n",
      "Epoch 9/100\n",
      "1930/1930 [==============================] - 426s 221ms/step - loss: 21.3272 - val_loss: 21.5113\n",
      "Epoch 10/100\n",
      "1930/1930 [==============================] - 420s 217ms/step - loss: 21.3191 - val_loss: 21.5495\n",
      "Epoch 11/100\n",
      "1930/1930 [==============================] - 416s 215ms/step - loss: 21.3175 - val_loss: 21.4742\n",
      "Epoch 12/100\n",
      "1930/1930 [==============================] - 410s 213ms/step - loss: 21.3177 - val_loss: 21.5724\n",
      "Epoch 13/100\n",
      "1930/1930 [==============================] - 427s 221ms/step - loss: 21.3116 - val_loss: 21.5474\n",
      "Epoch 14/100\n",
      "1930/1930 [==============================] - 424s 220ms/step - loss: 21.3177 - val_loss: 21.5718\n",
      "Epoch 15/100\n",
      "1930/1930 [==============================] - 398s 206ms/step - loss: 21.3063 - val_loss: 21.8215\n",
      "Epoch 16/100\n",
      "1930/1930 [==============================] - 413s 214ms/step - loss: 21.3094 - val_loss: 21.4469\n",
      "Epoch 17/100\n",
      "1930/1930 [==============================] - 392s 203ms/step - loss: 21.2951 - val_loss: 21.4587\n",
      "Epoch 18/100\n",
      "1930/1930 [==============================] - 380s 197ms/step - loss: 21.2983 - val_loss: 21.4884\n",
      "Epoch 19/100\n",
      "1930/1930 [==============================] - 386s 200ms/step - loss: 21.2979 - val_loss: 21.4589\n",
      "Epoch 20/100\n",
      "1930/1930 [==============================] - 380s 197ms/step - loss: 21.2892 - val_loss: 21.7861\n",
      "Epoch 21/100\n",
      "1930/1930 [==============================] - 388s 201ms/step - loss: 21.2966 - val_loss: 21.4587\n",
      "Epoch 22/100\n",
      "1930/1930 [==============================] - 413s 214ms/step - loss: 21.2824 - val_loss: 21.4451\n",
      "Epoch 23/100\n",
      "1930/1930 [==============================] - 411s 213ms/step - loss: 21.2849 - val_loss: 21.5520\n",
      "Epoch 24/100\n",
      "1930/1930 [==============================] - 411s 213ms/step - loss: 21.2831 - val_loss: 21.4728\n",
      "Epoch 25/100\n",
      "1930/1930 [==============================] - 425s 220ms/step - loss: 21.2773 - val_loss: 21.5447\n",
      "Epoch 26/100\n",
      "1930/1930 [==============================] - 417s 216ms/step - loss: 21.2640 - val_loss: 21.4083\n",
      "Epoch 27/100\n",
      "1930/1930 [==============================] - 425s 220ms/step - loss: 21.2754 - val_loss: 21.4830\n",
      "Epoch 28/100\n",
      "1930/1930 [==============================] - 424s 220ms/step - loss: 21.2691 - val_loss: 21.4487\n",
      "Epoch 29/100\n",
      "1930/1930 [==============================] - 423s 219ms/step - loss: 21.2672 - val_loss: 21.4663\n",
      "Epoch 30/100\n",
      "1930/1930 [==============================] - 421s 218ms/step - loss: 21.2567 - val_loss: 21.4239\n",
      "Epoch 31/100\n",
      "1930/1930 [==============================] - 425s 220ms/step - loss: 21.2694 - val_loss: 21.7220\n",
      "Epoch 32/100\n",
      "1930/1930 [==============================] - 426s 221ms/step - loss: 21.2560 - val_loss: 21.4844\n",
      "Epoch 33/100\n",
      "1930/1930 [==============================] - 423s 219ms/step - loss: 21.2612 - val_loss: 21.4485\n",
      "Epoch 34/100\n",
      "1930/1930 [==============================] - 427s 221ms/step - loss: 21.2515 - val_loss: 21.4146\n",
      "Epoch 35/100\n",
      "1930/1930 [==============================] - 420s 217ms/step - loss: 21.2541 - val_loss: 21.4998\n",
      "Epoch 36/100\n",
      "1930/1930 [==============================] - 409s 212ms/step - loss: 21.2426 - val_loss: 21.5812\n",
      "Epoch 37/100\n",
      "1930/1930 [==============================] - 426s 221ms/step - loss: 21.2403 - val_loss: 21.9164\n",
      "Epoch 38/100\n",
      "1930/1930 [==============================] - 423s 219ms/step - loss: 21.2434 - val_loss: 21.4097\n",
      "Epoch 39/100\n",
      "1930/1930 [==============================] - 421s 218ms/step - loss: 21.2340 - val_loss: 21.3893\n",
      "Epoch 40/100\n",
      "1930/1930 [==============================] - 419s 217ms/step - loss: 21.2386 - val_loss: 21.4207\n",
      "Epoch 41/100\n",
      "1930/1930 [==============================] - 412s 213ms/step - loss: 21.2338 - val_loss: 21.4543\n",
      "Epoch 42/100\n",
      "1930/1930 [==============================] - 418s 217ms/step - loss: 21.2288 - val_loss: 21.5086\n",
      "Epoch 43/100\n",
      "1930/1930 [==============================] - 429s 222ms/step - loss: 21.2261 - val_loss: 21.4395\n",
      "Epoch 44/100\n",
      "1930/1930 [==============================] - 415s 215ms/step - loss: 21.2251 - val_loss: 21.4260\n",
      "Epoch 45/100\n",
      "1930/1930 [==============================] - 418s 217ms/step - loss: 21.2210 - val_loss: 21.4773\n",
      "Epoch 46/100\n",
      "1930/1930 [==============================] - 412s 213ms/step - loss: 21.2232 - val_loss: 21.7982\n",
      "Epoch 47/100\n",
      "1930/1930 [==============================] - 413s 214ms/step - loss: 21.2161 - val_loss: 21.5001\n",
      "Epoch 48/100\n",
      "1930/1930 [==============================] - 422s 219ms/step - loss: 21.2117 - val_loss: 21.4002\n",
      "Epoch 49/100\n",
      "1930/1930 [==============================] - 424s 220ms/step - loss: 21.2201 - val_loss: 21.4421\n",
      "Epoch 50/100\n",
      "1930/1930 [==============================] - 415s 215ms/step - loss: 21.2107 - val_loss: 21.3944\n",
      "Epoch 51/100\n",
      "1930/1930 [==============================] - 416s 215ms/step - loss: 21.2064 - val_loss: 21.4210\n",
      "Epoch 52/100\n",
      "1930/1930 [==============================] - 412s 213ms/step - loss: 21.2049 - val_loss: 21.4491\n",
      "Epoch 53/100\n",
      "1930/1930 [==============================] - 411s 213ms/step - loss: 21.2030 - val_loss: 22.0117\n",
      "Epoch 54/100\n",
      "1930/1930 [==============================] - 415s 215ms/step - loss: 21.1947 - val_loss: 21.5211\n",
      "Epoch 55/100\n",
      "1930/1930 [==============================] - 421s 218ms/step - loss: 21.1887 - val_loss: 21.4360\n",
      "Epoch 56/100\n",
      "1930/1930 [==============================] - 421s 218ms/step - loss: 21.1923 - val_loss: 21.3960\n",
      "Epoch 57/100\n",
      "1930/1930 [==============================] - 415s 215ms/step - loss: 21.1893 - val_loss: 21.4533\n",
      "Epoch 58/100\n",
      "1930/1930 [==============================] - 416s 215ms/step - loss: 21.1830 - val_loss: 21.4222\n",
      "Epoch 59/100\n",
      "1930/1930 [==============================] - 413s 214ms/step - loss: 21.1874 - val_loss: 21.3290\n",
      "Epoch 60/100\n",
      "1930/1930 [==============================] - 416s 216ms/step - loss: 21.1803 - val_loss: 21.4935\n",
      "Epoch 61/100\n",
      "1930/1930 [==============================] - 413s 214ms/step - loss: 21.1812 - val_loss: 21.6381\n",
      "Epoch 62/100\n",
      "1930/1930 [==============================] - 421s 218ms/step - loss: 21.1842 - val_loss: 21.4187\n",
      "Epoch 63/100\n",
      "1930/1930 [==============================] - 419s 217ms/step - loss: 21.1671 - val_loss: 21.3880\n",
      "Epoch 64/100\n",
      "1930/1930 [==============================] - 414s 215ms/step - loss: 21.1699 - val_loss: 21.3327\n",
      "Epoch 65/100\n",
      "1930/1930 [==============================] - 421s 218ms/step - loss: 21.1716 - val_loss: 21.3396\n",
      "Epoch 66/100\n",
      "1930/1930 [==============================] - 422s 219ms/step - loss: 21.1766 - val_loss: 21.3516\n",
      "Epoch 67/100\n",
      "1930/1930 [==============================] - 431s 223ms/step - loss: 21.1616 - val_loss: 21.3780\n",
      "Epoch 68/100\n",
      "1930/1930 [==============================] - 431s 223ms/step - loss: 21.1632 - val_loss: 21.3292\n",
      "Epoch 69/100\n",
      "1930/1930 [==============================] - 413s 214ms/step - loss: 21.1645 - val_loss: 21.4123\n",
      "Epoch 70/100\n",
      "1930/1930 [==============================] - 418s 217ms/step - loss: 21.1519 - val_loss: 21.3157\n",
      "Epoch 71/100\n",
      "1930/1930 [==============================] - 418s 216ms/step - loss: 21.1493 - val_loss: 21.3044\n",
      "Epoch 72/100\n",
      "1930/1930 [==============================] - 414s 214ms/step - loss: 21.1536 - val_loss: 21.7653\n",
      "Epoch 73/100\n",
      "1930/1930 [==============================] - 411s 213ms/step - loss: 21.1624 - val_loss: 21.3118\n",
      "Epoch 74/100\n",
      "1930/1930 [==============================] - 420s 218ms/step - loss: 21.1439 - val_loss: 21.3019\n",
      "Epoch 75/100\n",
      "1930/1930 [==============================] - 360s 186ms/step - loss: 21.1456 - val_loss: 21.2953\n",
      "Epoch 76/100\n",
      "1930/1930 [==============================] - 360s 187ms/step - loss: 21.1345 - val_loss: 21.5186\n",
      "Epoch 77/100\n",
      "1930/1930 [==============================] - 396s 205ms/step - loss: 21.1400 - val_loss: 21.3371\n",
      "Epoch 78/100\n",
      "1930/1930 [==============================] - 417s 216ms/step - loss: 21.1361 - val_loss: 21.3041\n",
      "Epoch 79/100\n",
      "1930/1930 [==============================] - 394s 204ms/step - loss: 21.1276 - val_loss: 21.6029\n",
      "Epoch 80/100\n",
      "1930/1930 [==============================] - 366s 190ms/step - loss: 21.1342 - val_loss: 21.3912\n",
      "Epoch 81/100\n",
      "1930/1930 [==============================] - 372s 193ms/step - loss: 21.1278 - val_loss: 21.3176\n",
      "Epoch 82/100\n",
      "1930/1930 [==============================] - 332s 172ms/step - loss: 21.1309 - val_loss: 21.3571\n",
      "Epoch 83/100\n",
      "1930/1930 [==============================] - 334s 173ms/step - loss: 21.1243 - val_loss: 21.3043\n",
      "Epoch 84/100\n",
      "1930/1930 [==============================] - 327s 169ms/step - loss: 21.1217 - val_loss: 21.3182\n",
      "Epoch 85/100\n",
      "1930/1930 [==============================] - 372s 193ms/step - loss: 21.1175 - val_loss: 21.3703\n",
      "Epoch 86/100\n",
      "1930/1930 [==============================] - 347s 180ms/step - loss: 21.1141 - val_loss: 21.3402\n",
      "Epoch 87/100\n",
      "1930/1930 [==============================] - 323s 167ms/step - loss: 21.1081 - val_loss: 21.3585\n",
      "Epoch 88/100\n",
      "1930/1930 [==============================] - 323s 167ms/step - loss: 21.1094 - val_loss: 21.4498\n",
      "Epoch 89/100\n",
      "1930/1930 [==============================] - 319s 165ms/step - loss: 21.1102 - val_loss: 21.5375\n",
      "Epoch 90/100\n",
      "1930/1930 [==============================] - 347s 180ms/step - loss: 21.1177 - val_loss: 21.3148\n",
      "Epoch 91/100\n",
      "1930/1930 [==============================] - 343s 178ms/step - loss: 21.0991 - val_loss: 21.3052\n",
      "Epoch 92/100\n",
      "1930/1930 [==============================] - 330s 171ms/step - loss: 21.1025 - val_loss: 21.5830\n",
      "Epoch 93/100\n",
      "1930/1930 [==============================] - 336s 174ms/step - loss: 21.0980 - val_loss: 21.3097\n",
      "Epoch 94/100\n",
      "1930/1930 [==============================] - 339s 176ms/step - loss: 21.0960 - val_loss: 21.3378\n",
      "Epoch 95/100\n",
      "1930/1930 [==============================] - 348s 180ms/step - loss: 21.0983 - val_loss: 21.2529\n",
      "Epoch 96/100\n",
      "1930/1930 [==============================] - 329s 170ms/step - loss: 21.0860 - val_loss: 21.2615\n",
      "Epoch 97/100\n",
      "1930/1930 [==============================] - 328s 170ms/step - loss: 21.0931 - val_loss: 21.2774\n",
      "Epoch 98/100\n",
      "1930/1930 [==============================] - 322s 167ms/step - loss: 21.0873 - val_loss: 21.3163\n",
      "Epoch 99/100\n",
      "1930/1930 [==============================] - 318s 165ms/step - loss: 21.0854 - val_loss: 21.3944\n",
      "Epoch 100/100\n",
      "1930/1930 [==============================] - 324s 168ms/step - loss: 21.0767 - val_loss: 21.2725\n"
     ]
    }
   ],
   "source": [
    "batch_size = NEvts\n",
    "epochs = 100\n",
    "\n",
    "def mean_abs_theta_vtx(y_true, y_pred):\n",
    "    return K.mean(K.abs(y_true[:,0] - y_pred[:,0]))\n",
    "def mean_abs_phi_vtx(y_true, y_pred):\n",
    "    return K.mean(K.abs(y_true[:,1] - y_pred[:,1]))\n",
    "def mean_abs_r_vtx(y_true, y_pred):\n",
    "    return K.mean(K.abs(y_true[:,2] - y_pred[:,2]))\n",
    "def mean_abs_theta_dir(y_true, y_pred):\n",
    "    return K.mean(K.abs(y_true[:,3] - y_pred[:,3]))\n",
    "def mean_abs_phi_dir(y_true, y_pred):\n",
    "    return K.mean(K.abs(y_true[:,4] - y_pred[:,4]))\n",
    "\n",
    "def loss_by_R_square(y_true, y_pred):\n",
    "    return K.mean(K.square(y_true[:,0] - y_pred[:,0])+\n",
    "                  K.square(y_true[:,1] - y_pred[:,1])+\n",
    "                  K.square(y_true[:,2] - y_pred[:,2]) )\n",
    "\n",
    "my_network.compile(optimizer=Adam(lr=1e-5), loss='mean_squared_error')#, \n",
    "                                            #loss = loss_by_R_square)\n",
    "                   #metrics=['mean_squared_error', mean_abs_theta_vtx, mean_abs_phi_vtx, mean_abs_r_vtx])#, \n",
    "                                                  #mean_abs_theta_dir, mean_abs_phi_dir])\n",
    "\n",
    "my_network.load_weights(\"weights_vtx_dir_1el_sciLight_2xLSTM75_6300_300_f1930_lr1e-5_N10.h5\")\n",
    "#my_network.load_weights(\"weights_vtx_dir_1el_2xLSTM75_6300_300_f1930_lr1e-5_N9.h5\")\n",
    "\n",
    "\n",
    "history = my_network.fit_generator(generator=training_generator, epochs=epochs, validation_data=(testX, testY)) \n",
    "\n",
    "#history = my_network.fit(trainX, trainY, batch_size=1000, epochs=epochs, verbose=1, validation_data=(testX, testY))\n"
   ]
  },
  {
   "cell_type": "code",
   "execution_count": 14,
   "metadata": {},
   "outputs": [],
   "source": [
    "#my_network.save_weights(\"weights_vtx_dir_1el_color_2xLSTM75_8400_400_f250_lr1e-5_N5.h5\")\n",
    "my_network.save_weights(\"weights_vtx_dir_1el_sciLight_2xLSTM75_6300_300_f1930_lr1e-5_N11.h5\")"
   ]
  },
  {
   "cell_type": "code",
   "execution_count": 15,
   "metadata": {},
   "outputs": [
    {
     "data": {
      "text/plain": [
       "Text(0.5, 1.0, 'Loss Curves')"
      ]
     },
     "execution_count": 15,
     "metadata": {},
     "output_type": "execute_result"
    },
    {
     "data": {
      "image/png": "[encoded data removed]",
      "text/plain": [
       "<Figure size 576x432 with 1 Axes>"
      ]
     },
     "metadata": {
      "needs_background": "light"
     },
     "output_type": "display_data"
    }
   ],
   "source": [
    "# Loss Curves\n",
    "plt.figure(figsize=[8,6])\n",
    "plt.plot(history.history['loss'],'r',linewidth=3.0)\n",
    "plt.plot(history.history['val_loss'],'b',linewidth=3.0)\n",
    "plt.legend(['Training loss', 'Validation Loss'],fontsize=18)\n",
    "plt.xlabel('Epochs ',fontsize=16)\n",
    "plt.ylabel('Loss',fontsize=16)\n",
    "plt.title('Loss Curves',fontsize=16)\n",
    " "
   ]
  },
  {
   "cell_type": "code",
   "execution_count": 16,
   "metadata": {},
   "outputs": [
    {
     "name": "stdout",
     "output_type": "stream",
     "text": [
      "shape recoY =  (69000, 3)    shape testY =  (69000, 3)\n",
      "(69000,)   dR_mean =  7.198381781933713\n",
      "(69000,)\n",
      "(69000, 3)\n",
      "dY:  [[ 3.0942544   5.43854004 -4.55833237]\n",
      " [ 4.05872612  5.46041325  0.72032704]\n",
      " [-2.78837925 -0.7914742   4.34864141]]\n",
      "dY_norm:  [[ 0.39969801  0.70251936 -0.58881919]\n",
      " [ 0.59323748  0.79811293  0.1052855 ]\n",
      " [-0.53354827 -0.15144629  0.83209991]]\n",
      "(69000,)\n"
     ]
    }
   ],
   "source": [
    "recoY = my_network.predict(testX)\n",
    "\n",
    "print('shape recoY = ', recoY.shape, '   shape testY = ', testY.shape)\n",
    "\n",
    "dY = recoY - testY\n",
    "dY0 = recoY[:,0] - testY[:,0]\n",
    "dY1 = recoY[:,1] - testY[:,1]\n",
    "dY2 = recoY[:,2] - testY[:,2]\n",
    "dR = np.sqrt((recoY[:,0] - testY[:,0])*(recoY[:,0] - testY[:,0]) + (recoY[:,1] - testY[:,1])*(recoY[:,1] - testY[:,1]) + (recoY[:,2] - testY[:,2])*(recoY[:,2] - testY[:,2]) )\n",
    "print(dR.shape, '  dR_mean = ', np.mean(dR))\n",
    "R_true = np.sqrt(testY[:,0]*testY[:,0] + testY[:,1]*testY[:,1] + testY[:,2]*testY[:,2])\n",
    "print(R_true.shape)\n",
    "print(testY.shape)\n",
    "\n",
    "print('dY: ',dY[0:3,:])\n",
    "dRb = dR.reshape(dR.shape[0],1)\n",
    "dY = dY/dRb\n",
    "print('dY_norm: ',dY[0:3,:])\n",
    "#np.random.shuffle(trueDir)\n",
    "vtx_dot_dir = np.sum(dY*trueDir, axis=1)\n",
    "print(vtx_dot_dir.shape)"
   ]
  },
  {
   "cell_type": "code",
   "execution_count": 17,
   "metadata": {},
   "outputs": [
    {
     "data": {
      "text/plain": [
       "Text(0.5, 0, 'Dot product between Vtx(bias) and Dir(el)')"
      ]
     },
     "execution_count": 17,
     "metadata": {},
     "output_type": "execute_result"
    },
    {
     "data": {
      "image/png": "[encoded data removed]",
      "text/plain": [
       "<Figure size 720x576 with 1 Axes>"
      ]
     },
     "metadata": {
      "needs_background": "light"
     },
     "output_type": "display_data"
    }
   ],
   "source": [
    "plt.figure(figsize=[10,8])\n",
    "plt.hist(vtx_dot_dir, bins=60, range=(-1.5,1.5), histtype='step',ls='solid', alpha = 1.0, lw=3, color= 'b')\n",
    "plt.title('Correlation between the bias in vertex reconstruction and initial direction of the electron', fontsize=18)\n",
    "plt.xlabel('Dot product between Vtx(bias) and Dir(el)', fontsize=16)"
   ]
  },
  {
   "cell_type": "code",
   "execution_count": 18,
   "metadata": {},
   "outputs": [
    {
     "name": "stdout",
     "output_type": "stream",
     "text": [
      "MSE =  21.27249459631581\n",
      "MSE2 =  21.27249459631581\n",
      "dY0_Mean_vtx =  0.20464821487698642    dY1_Mean_vtx =  0.11935504548879444    dY2_Mean_vtx =  -0.06322898825120948\n",
      "dY0_Rms_vtx =  5.066269194651981     dY1_Rms_vtx =  4.815049391219353     dY2_Rms_vtx =  3.8685526487804114\n",
      "resolution_vtx =  7.9885845923384595\n",
      "reco_Y1_vtx =  [ -36.768436 -115.22278   150.4573   ...  147.66205  -110.65727\n",
      "   22.265697]\n",
      "test_Y1_vtx =  [ -42.20697647 -120.68319157  151.2487801  ...  150.84137945 -105.75714266\n",
      "   19.15414046]\n",
      "\n",
      "\n",
      "Mean_true_vtx_0 =  -0.03924136904477009    Mean_true_vtx_1 =  -0.277431267804873 Mean_true_vtx_2 =  0.09408320874518973\n",
      "RMS_true_vtx_0 =  134.23231190540426    RMS_true_vtx_1 =  134.00812668103674   RMS_true_vtx_2 =  134.30609403629518\n"
     ]
    },
    {
     "data": {
      "image/png": "[encoded data removed]",
      "text/plain": [
       "<Figure size 720x576 with 1 Axes>"
      ]
     },
     "metadata": {
      "needs_background": "light"
     },
     "output_type": "display_data"
    },
    {
     "data": {
      "image/png": "[encoded data removed]",
      "text/plain": [
       "<Figure size 432x288 with 1 Axes>"
      ]
     },
     "metadata": {
      "needs_background": "light"
     },
     "output_type": "display_data"
    },
    {
     "data": {
      "image/png": "[encoded data removed]",
      "text/plain": [
       "<Figure size 432x288 with 1 Axes>"
      ]
     },
     "metadata": {
      "needs_background": "light"
     },
     "output_type": "display_data"
    },
    {
     "data": {
      "image/png": "[encoded data removed]",
      "text/plain": [
       "<Figure size 432x288 with 1 Axes>"
      ]
     },
     "metadata": {
      "needs_background": "light"
     },
     "output_type": "display_data"
    }
   ],
   "source": [
    "MSE = np.mean( (recoY.flatten()[:] - testY.flatten()[:])*(recoY.flatten()[:] - testY.flatten()[:]) )\n",
    "print('MSE = ', MSE)\n",
    "\n",
    "#MSE2 = np.mean(np.square(recoY - testY), axis=-1)\n",
    "MSE2 = np.mean(np.square(recoY.flatten()[:] - testY.flatten()[:]), axis=-1)\n",
    "print('MSE2 = ', MSE2)\n",
    "\n",
    "#dTheta_dir = recoY[:,3] - testY[:,3]\n",
    "#dPhi_dir = recoY[:,4] - testY[:,4]\n",
    "print('dY0_Mean_vtx = ' ,np.mean(dY0), '   dY1_Mean_vtx = ', np.mean(dY1), '   dY2_Mean_vtx = ' ,np.mean(dY2))\n",
    "print('dY0_Rms_vtx = ',np.sqrt(np.mean(np.square(dY0))), '    dY1_Rms_vtx = ',np.sqrt(np.mean(np.square(dY1))), '    dY2_Rms_vtx = ',np.sqrt(np.mean(np.square(dY2))))\n",
    "print('resolution_vtx = ', np.sqrt(np.mean(np.square(dY0)) + np.mean(np.square(dY1)) + np.mean(np.square(dY2)) ) )\n",
    "#print('ThetaMean_dir = ',np.mean(dTheta_dir),'   PhiMean_dir = ',np.mean(dPhi_dir))\n",
    "#print('ThetaRms_dir = ',np.sqrt(np.mean(np.square(dTheta_dir))), '   PhiRms_dir = ',np.sqrt(np.mean(np.square(dPhi_dir))))\n",
    "\n",
    "print('reco_Y1_vtx = ',recoY[:,1])\n",
    "print('test_Y1_vtx = ',testY[:,1])\n",
    "print('')\n",
    "print('')\n",
    "\n",
    "\n",
    "#fig_scatt = plt.figure()\n",
    "#plt.scatter(R_true, dR)\n",
    "\n",
    "fig_dYs = plt.figure(figsize=[10,8])\n",
    "plt.hist(dY0, bins=40, range=(-20,20), histtype='step',ls='solid', alpha = 1.0, lw=3, color= 'r')\n",
    "plt.hist(dY1, bins=40, range=(-20,20), histtype='step',ls='solid', alpha = 1.0, lw=3, color= 'g')\n",
    "plt.hist(dY2, bins=40, range=(-20,20), histtype='step',ls='solid', alpha = 1.0, lw=3, color= 'b')\n",
    "plt.title('Vertex Reconstruction',fontsize=18)\n",
    "plt.xlabel('Vtx(reco) - Vtx(true) [cm]',fontsize=16)\n",
    "\n",
    "fig_Y0s = plt.figure()\n",
    "plt.hist(recoY[:,0], bins=50, range=(-500,500), histtype='step',ls='--', alpha = 1.0, lw=3, color= 'r')\n",
    "plt.hist(testY[:,0], bins=50, range=(-500,500), histtype='step',ls='solid', alpha = 1.0, lw=3, color= 'r')\n",
    "fig_Y1s = plt.figure()\n",
    "plt.hist(recoY[:,1], bins=50, range=(-500,500), histtype='step',ls='--', alpha = 1.0, lw=3, color= 'g')\n",
    "plt.hist(testY[:,1], bins=50, range=(-500,500), histtype='step',ls='solid', alpha = 1.0, lw=3, color= 'g')\n",
    "fig_Y2s = plt.figure()\n",
    "plt.hist(recoY[:,2], bins=50, range=(-500,500), histtype='step',ls='--', alpha = 1.0, lw=3, color= 'b')\n",
    "plt.hist(testY[:,2], bins=50, range=(-500,500), histtype='step',ls='solid', alpha = 1.0, lw=3, color= 'b')\n",
    "\n",
    "print('Mean_true_vtx_0 = ', np.mean(testY[:,0]), '   Mean_true_vtx_1 = ' , np.mean(testY[:,1]), 'Mean_true_vtx_2 = ', np.mean(testY[:,2]))\n",
    "print('RMS_true_vtx_0 = ' , np.sqrt(np.mean(np.square(testY[:,0]))), '   RMS_true_vtx_1 = ' , np.sqrt(np.mean(np.square(testY[:,1]))), '  RMS_true_vtx_2 = ', np.sqrt(np.mean(np.square(testY[:,2]))) )"
   ]
  },
  {
   "cell_type": "code",
   "execution_count": null,
   "metadata": {},
   "outputs": [],
   "source": [
    "my_network.summary()"
   ]
  }
 ],
 "metadata": {
  "kernelspec": {
   "display_name": "Python 3",
   "language": "python",
   "name": "python3"
  },
  "language_info": {
   "codemirror_mode": {
    "name": "ipython",
    "version": 3
   },
   "file_extension": ".py",
   "mimetype": "text/x-python",
   "name": "python",
   "nbconvert_exporter": "python",
   "pygments_lexer": "ipython3",
   "version": "3.8.5"
  }
 },
 "nbformat": 4,
 "nbformat_minor": 4
}
