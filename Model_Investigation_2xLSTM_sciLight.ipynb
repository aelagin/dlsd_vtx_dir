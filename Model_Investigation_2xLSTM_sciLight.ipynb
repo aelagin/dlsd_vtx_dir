{
 "cells": [
  {
   "cell_type": "markdown",
   "metadata": {},
   "source": [
    "## Vertex reconstruction in a large Directional Liquid Scintillator Detector\n",
    "\n",
    "This is the same model as Model_Investigation_2xLSTM.ipynb, but looking at the data set with scintillation light only, i.e. cherenkov photons are explicitly excluded.\n",
    "\n",
    "Training data location: https://stash.osgconnect.net/public/elagin/vtx_dir_1el_sciLight_norm/\n",
    "\n",
    "Testing data location: https://stash.osgconnect.net/public/elagin/test_vtx_dir_1el_sciLight_norm/\n",
    "\n",
    "Data are .npz files with 3 numpy arrays. Where each row correspond to one event.\n",
    "\n",
    "\"x\" is a (1000,6300) array of \"independent variables\", photo-electron hits (theta, phi, and time). Hit coordinate encoding in each row is the folowing: \\\n",
    "theta = x[:,0::3] \\\n",
    "phi = x[:,1::3] \\\n",
    "time = x[:,2::3] \\\n",
    "All data is normalized as theta = theta/pi, phi = phi/(2pi), time = time/maxT (currently maxT=150). \\\n",
    "Each row in \"x\" is padded with -1 to make it a length of 6300 \n",
    "\n",
    "\"y_vtx\" is a (1000,3) array of \"dependent variable\", true x-,y-,z- coordinates of the event vertex to be reconstructed \\\n",
    "\"y_dir\" is a (1000,3) array of \"dependent variable\", true x-,y-,z- coordinates of the unit vector along the original direction of the electron\n",
    "\n",
    "See checking_inputs.ipynb and checking_inputs_norm.ipynb for more details on the data"
   ]
  },
  {
   "cell_type": "code",
   "execution_count": 2,
   "metadata": {},
   "outputs": [],
   "source": [
    "import os\n",
    "import math\n",
    "\n",
    "import matplotlib.pyplot as plt \n",
    "\n",
    "import numpy as np\n",
    "import pandas as pd\n",
    "import random"
   ]
  },
  {
   "cell_type": "code",
   "execution_count": 3,
   "metadata": {},
   "outputs": [],
   "source": [
    "\n",
    "from keras.models import Sequential, Model\n",
    "from keras.layers import Dense, Activation, Flatten, Reshape, Lambda, Input, Concatenate, concatenate\n",
    "from keras.layers import Conv1D, Conv2D, Conv2DTranspose, UpSampling2D, MaxPooling1D, MaxPooling2D, LocallyConnected2D, LocallyConnected1D\n",
    "from keras.layers import LSTM, Bidirectional\n",
    "from keras.layers import Masking\n",
    "from keras.layers import LeakyReLU, Dropout\n",
    "from keras.layers import BatchNormalization\n",
    "from keras.optimizers import Adam, RMSprop\n",
    "from keras.utils import to_categorical\n",
    "import keras.backend as K"
   ]
  },
  {
   "cell_type": "code",
   "execution_count": null,
   "metadata": {},
   "outputs": [],
   "source": [
    "#global variables\n",
    "maxT = 37\n",
    "maxLambda = 800\n",
    "PAD_VALUE = -1\n",
    "NEvts = 1000\n",
    "pi = 3.141592653589793\n",
    "NFiles = 100"
   ]
  },
  {
   "cell_type": "markdown",
   "metadata": {},
   "source": [
    "### Custom generator to load large datasets"
   ]
  },
  {
   "cell_type": "code",
   "execution_count": 4,
   "metadata": {},
   "outputs": [],
   "source": [
    "from keras.utils import Sequence\n",
    "from keras.preprocessing.sequence import pad_sequences\n",
    "\n",
    "class MyGenerator(Sequence):\n",
    "    def __init__(self, x_dir, batch_size):\n",
    "        self.x_dir = x_dir\n",
    "        self.x = os.listdir(x_dir)\n",
    "        self.batch_size = batch_size\n",
    "        print('Generator init complete')\n",
    "        \n",
    "    def __len__(self):\n",
    "        nf = self.batch_size/(NEvts) # calculate number of files\n",
    "        return math.ceil(len(self.x) / nf)\n",
    "\n",
    "    def __getitem__(self, idx):\n",
    "        batch_data = np.load(os.path.join(self.x_dir, self.x[idx]))\n",
    "        Y = np.array(batch_data['y_vtx'])\n",
    "        return np.array(batch_data['x']), Y"
   ]
  },
  {
   "cell_type": "code",
   "execution_count": 5,
   "metadata": {},
   "outputs": [
    {
     "name": "stdout",
     "output_type": "stream",
     "text": [
      "Generator init complete\n"
     ]
    }
   ],
   "source": [
    "training_generator = MyGenerator('/data/Elagin/vtx_dir_1el_sciLight_norm', NEvts)\n",
    "\n",
    "#testing_generator = MyGenerator('/data/Elagin/test_vtx_dir_1el_color_norm', NEvts)"
   ]
  },
  {
   "cell_type": "markdown",
   "metadata": {},
   "source": [
    "### Loading data that can fit into RAM"
   ]
  },
  {
   "cell_type": "code",
   "execution_count": 6,
   "metadata": {},
   "outputs": [],
   "source": [
    "# Load data from x_dir, stop after loading fn_max files\n",
    "# Returns X, Y, Dir\n",
    "# X - independent variables\n",
    "# Y - dependend variables (x-, y-, z- of the vertex in this implementation)\n",
    "# Dir - direction vector (x-, y-, z- componenets), could be made dependent variable\n",
    "def load_test_data_to_memory(x_dir, fn_max=2000) :\n",
    "    X, Y, Dir = np.array([]), np.array([]), np.array([])\n",
    "    f_list = os.listdir(x_dir)\n",
    "    f_list.sort()\n",
    "    i=0\n",
    "    for x in f_list :\n",
    "        batch_data = np.load(os.path.join(x_dir, x))\n",
    "        \n",
    "        X = np.vstack([X, np.array(batch_data['x'])]) if X.size else np.array(batch_data['x'])\n",
    "        Y = np.vstack([Y, np.array(batch_data['y_vtx'])]) if Y.size else np.array(batch_data['y_vtx'])\n",
    "        Dir = np.vstack([Dir, np.array(batch_data['y_dir'])]) if Dir.size else np.array(batch_data['y_dir'])\n",
    "\n",
    "        i+=1\n",
    "        if i%10 == 0:\n",
    "            print(x)\n",
    "            print('i = ', i, '   ', X.shape, '   ', Y.shape, '   ', Dir.shape)\n",
    "        if i>=fn_max:\n",
    "            break\n",
    "    print(X.shape, '   ', Y.shape, '   ', Dir.shape)\n",
    "    return X, Y, Dir"
   ]
  },
  {
   "cell_type": "code",
   "execution_count": 7,
   "metadata": {},
   "outputs": [
    {
     "name": "stdout",
     "output_type": "stream",
     "text": [
      "f_batch_1020.npz\n",
      "i =  10     (10000, 6300)     (10000, 3)     (10000, 3)\n",
      "f_batch_1030.npz\n",
      "i =  20     (20000, 6300)     (20000, 3)     (20000, 3)\n",
      "f_batch_1500.npz\n",
      "i =  30     (30000, 6300)     (30000, 3)     (30000, 3)\n",
      "f_batch_1510.npz\n",
      "i =  40     (40000, 6300)     (40000, 3)     (40000, 3)\n",
      "f_batch_1520.npz\n",
      "i =  50     (50000, 6300)     (50000, 3)     (50000, 3)\n",
      "f_batch_1530.npz\n",
      "i =  60     (60000, 6300)     (60000, 3)     (60000, 3)\n",
      "(69000, 6300)     (69000, 3)     (69000, 3)\n"
     ]
    }
   ],
   "source": [
    "testX, testY, trueDir = load_test_data_to_memory('/data/Elagin/test_vtx_dir_1el_sciLight_norm/')"
   ]
  },
  {
   "cell_type": "code",
   "execution_count": 9,
   "metadata": {},
   "outputs": [],
   "source": [
    "#trainX, trainY, trueDir_training = load_test_data_to_memory('/data/Elagin/vtx_dir_1el_norm/',200)"
   ]
  },
  {
   "cell_type": "markdown",
   "metadata": {},
   "source": [
    "### Defining various activation functions"
   ]
  },
  {
   "cell_type": "code",
   "execution_count": 8,
   "metadata": {},
   "outputs": [],
   "source": [
    "def mapping_to_pmOne(x) :\n",
    "    return 2*K.sigmoid(x) - 1\n",
    "\n",
    "def mapping_to_pm50(x) :\n",
    "    return mapping_to_pmOne(x)*50\n",
    "\n",
    "def mapping_to_pm300(x) :\n",
    "    return mapping_to_pmOne(x)*300\n",
    "\n",
    "def mapping_to_0_50(x) :\n",
    "    return 50*K.sigmoid(x)\n",
    "\n",
    "\n",
    "def mapping_to_target_range_all( x, target_min=-0.02*pi, target_max=2.02*pi ) :\n",
    "    x02 = K.tanh(x) + 1 # x in range(0,2)\n",
    "    scale = ( target_max-target_min )/2.\n",
    "    return  x02 * scale + target_min\n",
    "\n",
    "def mapping_to_target_range_2pi( x, target_min=-0.00*pi, target_max=2.00*pi ) :\n",
    "    x02 = K.tanh(x) + 1 # x in range(0,2)\n",
    "    scale = ( target_max-target_min )/2.\n",
    "    return  x02 * scale + target_min\n",
    "    #return K.sigmoid(x)*target_max\n",
    "\n",
    "def mapping_to_target_range_pi( x, target_min=-0.00*pi, target_max=1.00*pi ) :\n",
    "    x02 = K.tanh(x) + 1 # x in range(0,2)\n",
    "    scale = ( target_max-target_min )/2.\n",
    "    return  x02 * scale + target_min\n",
    "    #return K.sigmoid(x)*target_max\n",
    "\n",
    "def mapping_to_target_range_phi( x, target_min=0, target_max=2*pi ) :\n",
    "    print('is x keras tensor:', K.is_keras_tensor(x))\n",
    "    print('x shape = ',K.int_shape(x))\n",
    "    print('x shape = ',K.shape(x))\n",
    "    #phi = K.placeholder(shape=(None,1))\n",
    "    phi = Input([1])\n",
    "    #theta = K.placeholder(shape=(None,1))\n",
    "    theta = Input([1])\n",
    "    #r = K.placeholder(shape=(None,1))\n",
    "    r = Input([1])\n",
    "    print('phi shape = ',K.int_shape(phi))\n",
    "    print('is phi keras tensor:', K.is_keras_tensor(phi))\n",
    "    phi = K.concatenate([phi, [K.tanh(x[:,1]) + 1]], axis=0) # x in range(0,2)\n",
    "    #phi = K.tanh(x[:,1]) + 1\n",
    "    theta = K.concatenate([theta, [x[:,0]]], axis=0)\n",
    "    #theta = x[:,0]\n",
    "    r = K.concatenate([r, [x[:,2]]], axis=0)\n",
    "    #r = x[:,2]\n",
    "    print('phi shape = ',K.int_shape(phi))\n",
    "    print('is phi keras tensor:', K.is_keras_tensor(phi))\n",
    "    print('theta shape = ',K.int_shape(theta))\n",
    "    print('r shape = ',K.int_shape(r))\n",
    "    scale = ( target_max-target_min )/2.\n",
    "    phi =  phi * scale + target_min\n",
    "    #phi = K.cast(phi, dtype='int32')\n",
    "    #phi = K.reshape(phi, (,1))\n",
    "    print('phi shape = ',K.int_shape(phi))\n",
    "    \n",
    "    res = K.concatenate([theta, phi, r], axis=1)\n",
    "    print('res shape = ',K.int_shape(res))\n",
    "    print('res shape = ',K.shape(res))\n",
    "    print('is res keras tensor:', K.is_keras_tensor(res))\n",
    "    x[:,1].assign(phi)\n",
    "    return x\n",
    "\n",
    "def mapping_to_target_range_phi2( x, target_min=0, target_max=2*pi ) :\n",
    "    scale = ( target_max-target_min )/2.\n",
    "    phi = K.placeholder(shape=(None,1))\n",
    "    #phi = Input([1])\n",
    "    #phi = (K.tanh(x[:,1]) + 1)*scale + target_min\n",
    "    phi = K.concatenate([phi, [(K.tanh(x[:,1]) + 1)*scale + target_min]], axis=0)\n",
    "    x[:,1].assign(phi)\n",
    "    return x"
   ]
  },
  {
   "cell_type": "markdown",
   "metadata": {},
   "source": [
    "### The model"
   ]
  },
  {
   "cell_type": "code",
   "execution_count": 9,
   "metadata": {},
   "outputs": [],
   "source": [
    "def createModel():\n",
    "    N=6300\n",
    "    lstm_seq = 300\n",
    "    lstm_steps = int(N/lstm_seq)\n",
    "    model = Sequential()\n",
    "    \n",
    "    model.add(Reshape(input_shape=(N,), target_shape=(lstm_steps,lstm_seq)))\n",
    "    \n",
    "    model.add(Masking(mask_value=-1, input_shape=(lstm_steps, lstm_seq)))\n",
    "    \n",
    "    model.add(LSTM(75, return_sequences=True, input_shape=(lstm_steps,lstm_seq), dropout=0.0))\n",
    "#     model.add(LSTM(75, return_sequences=True, input_shape=(lstm_steps,lstm_seq), dropout=0.0))\n",
    "#     model.add(LSTM(75, return_sequences=True, input_shape=(lstm_steps,lstm_seq), dropout=0.0))\n",
    "#     model.add(LSTM(75, return_sequences=True, input_shape=(lstm_steps,lstm_seq), dropout=0.0))\n",
    "#     model.add(LSTM(75, return_sequences=True, input_shape=(lstm_steps,lstm_seq), dropout=0.0))\n",
    "#     model.add(LSTM(75, return_sequences=True, input_shape=(lstm_steps,lstm_seq), dropout=0.0))\n",
    "    model.add(LSTM(75, input_shape=(lstm_steps,lstm_seq), dropout=0.0))\n",
    "    \n",
    "    model.add(Dense(256, activation='relu'))\n",
    "    #model.add(Dropout(0.1))\n",
    "    model.add(Dense(256, activation='relu'))\n",
    "    #model.add(Dropout(0.1))\n",
    "    model.add(Dense(3, activation=mapping_to_pm300))\n",
    "#    model.add(Dense(3, activation=None))\n",
    "    \n",
    "    return model"
   ]
  },
  {
   "cell_type": "code",
   "execution_count": 10,
   "metadata": {},
   "outputs": [],
   "source": [
    "my_network=createModel()"
   ]
  },
  {
   "cell_type": "code",
   "execution_count": 11,
   "metadata": {},
   "outputs": [
    {
     "name": "stdout",
     "output_type": "stream",
     "text": [
      "Model: \"sequential\"\n",
      "_________________________________________________________________\n",
      "Layer (type)                 Output Shape              Param #   \n",
      "=================================================================\n",
      "reshape (Reshape)            (None, 21, 300)           0         \n",
      "_________________________________________________________________\n",
      "masking (Masking)            (None, 21, 300)           0         \n",
      "_________________________________________________________________\n",
      "lstm (LSTM)                  (None, 21, 75)            112800    \n",
      "_________________________________________________________________\n",
      "lstm_1 (LSTM)                (None, 75)                45300     \n",
      "_________________________________________________________________\n",
      "dense (Dense)                (None, 256)               19456     \n",
      "_________________________________________________________________\n",
      "dense_1 (Dense)              (None, 256)               65792     \n",
      "_________________________________________________________________\n",
      "dense_2 (Dense)              (None, 3)                 771       \n",
      "=================================================================\n",
      "Total params: 244,119\n",
      "Trainable params: 244,119\n",
      "Non-trainable params: 0\n",
      "_________________________________________________________________\n"
     ]
    }
   ],
   "source": [
    "my_network.summary()"
   ]
  },
  {
   "cell_type": "markdown",
   "metadata": {},
   "source": [
    "### Run the model"
   ]
  },
  {
   "cell_type": "code",
   "execution_count": 12,
   "metadata": {},
   "outputs": [
    {
     "name": "stdout",
     "output_type": "stream",
     "text": [
      "WARNING:tensorflow:From <ipython-input-12-3d781cf8c884>:29: Model.fit_generator (from tensorflow.python.keras.engine.training) is deprecated and will be removed in a future version.\n",
      "Instructions for updating:\n",
      "Please use Model.fit, which supports generators.\n",
      "Epoch 1/100\n",
      "1930/1930 [==============================] - 425s 220ms/step - loss: 22.2484 - val_loss: 22.3425\n",
      "Epoch 2/100\n",
      "1930/1930 [==============================] - 422s 218ms/step - loss: 22.2363 - val_loss: 22.3091\n",
      "Epoch 3/100\n",
      "1930/1930 [==============================] - 405s 210ms/step - loss: 22.2287 - val_loss: 22.2661\n",
      "Epoch 4/100\n",
      "1930/1930 [==============================] - 416s 216ms/step - loss: 22.2279 - val_loss: 22.2648\n",
      "Epoch 5/100\n",
      "1930/1930 [==============================] - 414s 214ms/step - loss: 22.2046 - val_loss: 22.4278\n",
      "Epoch 6/100\n",
      "1930/1930 [==============================] - 405s 210ms/step - loss: 22.2067 - val_loss: 22.2338\n",
      "Epoch 7/100\n",
      "1930/1930 [==============================] - 393s 204ms/step - loss: 22.2000 - val_loss: 22.4313\n",
      "Epoch 8/100\n",
      "1930/1930 [==============================] - 400s 207ms/step - loss: 22.1900 - val_loss: 22.3013\n",
      "Epoch 9/100\n",
      "1930/1930 [==============================] - 393s 203ms/step - loss: 22.1823 - val_loss: 22.2591\n",
      "Epoch 10/100\n",
      "1930/1930 [==============================] - 411s 213ms/step - loss: 22.1763 - val_loss: 22.2421\n",
      "Epoch 11/100\n",
      "1930/1930 [==============================] - 407s 211ms/step - loss: 22.1686 - val_loss: 22.2559\n",
      "Epoch 12/100\n",
      "1930/1930 [==============================] - 428s 222ms/step - loss: 22.1694 - val_loss: 22.4254\n",
      "Epoch 13/100\n",
      "1930/1930 [==============================] - 424s 220ms/step - loss: 22.1560 - val_loss: 22.3727\n",
      "Epoch 14/100\n",
      "1930/1930 [==============================] - 385s 199ms/step - loss: 22.1516 - val_loss: 22.2599\n",
      "Epoch 15/100\n",
      "1930/1930 [==============================] - 389s 201ms/step - loss: 22.1384 - val_loss: 22.3150\n",
      "Epoch 16/100\n",
      "1930/1930 [==============================] - 386s 200ms/step - loss: 22.1445 - val_loss: 22.1914\n",
      "Epoch 17/100\n",
      "1930/1930 [==============================] - 380s 197ms/step - loss: 22.1215 - val_loss: 22.2739\n",
      "Epoch 18/100\n",
      "1930/1930 [==============================] - 400s 207ms/step - loss: 22.1218 - val_loss: 22.2216\n",
      "Epoch 19/100\n",
      "1930/1930 [==============================] - 407s 211ms/step - loss: 22.1149 - val_loss: 22.5079\n",
      "Epoch 20/100\n",
      "1930/1930 [==============================] - 397s 206ms/step - loss: 22.1168 - val_loss: 22.1617\n",
      "Epoch 21/100\n",
      "1930/1930 [==============================] - 423s 219ms/step - loss: 22.0998 - val_loss: 22.1408\n",
      "Epoch 22/100\n",
      "1930/1930 [==============================] - 393s 204ms/step - loss: 22.1005 - val_loss: 22.2312\n",
      "Epoch 23/100\n",
      "1930/1930 [==============================] - 399s 207ms/step - loss: 22.0926 - val_loss: 22.1889\n",
      "Epoch 24/100\n",
      "1930/1930 [==============================] - 389s 202ms/step - loss: 22.0806 - val_loss: 22.1576\n",
      "Epoch 25/100\n",
      "1930/1930 [==============================] - 402s 208ms/step - loss: 22.0708 - val_loss: 22.1314\n",
      "Epoch 26/100\n",
      "1930/1930 [==============================] - 397s 206ms/step - loss: 22.0723 - val_loss: 22.1610\n",
      "Epoch 27/100\n",
      "1930/1930 [==============================] - 385s 200ms/step - loss: 22.0628 - val_loss: 22.3943\n",
      "Epoch 28/100\n",
      "1930/1930 [==============================] - 388s 201ms/step - loss: 22.0614 - val_loss: 22.2069\n",
      "Epoch 29/100\n",
      "1930/1930 [==============================] - 407s 211ms/step - loss: 22.0626 - val_loss: 22.1320\n",
      "Epoch 30/100\n",
      "1930/1930 [==============================] - 398s 206ms/step - loss: 22.0530 - val_loss: 22.6042\n",
      "Epoch 31/100\n",
      "1930/1930 [==============================] - 387s 200ms/step - loss: 22.0355 - val_loss: 22.1426\n",
      "Epoch 32/100\n",
      "1930/1930 [==============================] - 415s 215ms/step - loss: 22.0393 - val_loss: 22.1796\n",
      "Epoch 33/100\n",
      "1930/1930 [==============================] - 408s 211ms/step - loss: 22.0389 - val_loss: 22.1434\n",
      "Epoch 34/100\n",
      "1930/1930 [==============================] - 403s 209ms/step - loss: 22.0243 - val_loss: 22.1271\n",
      "Epoch 35/100\n",
      "1930/1930 [==============================] - 385s 200ms/step - loss: 22.0056 - val_loss: 22.0979\n",
      "Epoch 36/100\n",
      "1930/1930 [==============================] - 422s 219ms/step - loss: 22.0092 - val_loss: 22.0566\n",
      "Epoch 37/100\n",
      "1930/1930 [==============================] - 423s 219ms/step - loss: 22.0100 - val_loss: 22.1258\n",
      "Epoch 38/100\n",
      "1930/1930 [==============================] - 414s 214ms/step - loss: 22.0000 - val_loss: 22.3584\n",
      "Epoch 39/100\n",
      "1930/1930 [==============================] - 428s 222ms/step - loss: 21.9873 - val_loss: 22.1118\n",
      "Epoch 40/100\n",
      "1930/1930 [==============================] - 463s 240ms/step - loss: 21.9862 - val_loss: 22.0908\n",
      "Epoch 41/100\n",
      "1930/1930 [==============================] - 444s 230ms/step - loss: 21.9848 - val_loss: 22.0455\n",
      "Epoch 42/100\n",
      "1930/1930 [==============================] - 454s 235ms/step - loss: 21.9742 - val_loss: 22.2685\n",
      "Epoch 43/100\n",
      "1930/1930 [==============================] - 462s 240ms/step - loss: 21.9721 - val_loss: 22.0922\n",
      "Epoch 44/100\n",
      "1930/1930 [==============================] - 467s 242ms/step - loss: 21.9687 - val_loss: 22.2020\n",
      "Epoch 45/100\n",
      "1930/1930 [==============================] - 444s 230ms/step - loss: 21.9537 - val_loss: 22.0504\n",
      "Epoch 46/100\n",
      "1930/1930 [==============================] - 437s 226ms/step - loss: 21.9501 - val_loss: 22.0187\n",
      "Epoch 47/100\n",
      "1930/1930 [==============================] - 443s 230ms/step - loss: 21.9487 - val_loss: 22.1009\n",
      "Epoch 48/100\n",
      "1930/1930 [==============================] - 465s 241ms/step - loss: 21.9380 - val_loss: 22.0603\n",
      "Epoch 49/100\n",
      "1930/1930 [==============================] - 454s 235ms/step - loss: 21.9348 - val_loss: 22.1094\n",
      "Epoch 50/100\n",
      "1930/1930 [==============================] - 473s 245ms/step - loss: 21.9260 - val_loss: 22.0139\n",
      "Epoch 51/100\n",
      "1930/1930 [==============================] - 448s 232ms/step - loss: 21.9380 - val_loss: 22.0526\n",
      "Epoch 52/100\n",
      "1930/1930 [==============================] - 449s 233ms/step - loss: 21.9143 - val_loss: 22.1089\n",
      "Epoch 53/100\n",
      "1930/1930 [==============================] - 457s 237ms/step - loss: 21.9169 - val_loss: 21.9993\n",
      "Epoch 54/100\n",
      "1930/1930 [==============================] - 447s 232ms/step - loss: 21.9195 - val_loss: 22.1765\n",
      "Epoch 55/100\n",
      "1930/1930 [==============================] - 452s 234ms/step - loss: 21.8986 - val_loss: 21.9882\n",
      "Epoch 56/100\n",
      "1930/1930 [==============================] - 437s 227ms/step - loss: 21.8996 - val_loss: 22.0244\n",
      "Epoch 57/100\n",
      "1930/1930 [==============================] - 467s 242ms/step - loss: 21.8871 - val_loss: 22.0416\n",
      "Epoch 58/100\n",
      "1930/1930 [==============================] - 452s 234ms/step - loss: 21.8960 - val_loss: 21.9862\n",
      "Epoch 59/100\n",
      "1930/1930 [==============================] - 452s 234ms/step - loss: 21.8881 - val_loss: 22.0680\n",
      "Epoch 60/100\n",
      "1930/1930 [==============================] - 461s 239ms/step - loss: 21.8796 - val_loss: 21.9864\n",
      "Epoch 61/100\n",
      "1930/1930 [==============================] - 466s 241ms/step - loss: 21.8732 - val_loss: 21.9960\n",
      "Epoch 62/100\n",
      "1930/1930 [==============================] - 438s 227ms/step - loss: 21.8741 - val_loss: 22.0208\n",
      "Epoch 63/100\n",
      "1930/1930 [==============================] - 411s 213ms/step - loss: 21.8635 - val_loss: 21.9763\n",
      "Epoch 64/100\n",
      "1930/1930 [==============================] - 408s 211ms/step - loss: 21.8585 - val_loss: 22.0001\n",
      "Epoch 65/100\n",
      "1930/1930 [==============================] - 409s 212ms/step - loss: 21.8468 - val_loss: 22.0255\n",
      "Epoch 66/100\n",
      "1930/1930 [==============================] - 430s 223ms/step - loss: 21.8528 - val_loss: 22.0273\n",
      "Epoch 67/100\n",
      "1930/1930 [==============================] - 438s 227ms/step - loss: 21.8449 - val_loss: 21.9665\n",
      "Epoch 68/100\n",
      "1930/1930 [==============================] - 445s 230ms/step - loss: 21.8482 - val_loss: 22.0424\n",
      "Epoch 69/100\n",
      "1930/1930 [==============================] - 453s 235ms/step - loss: 21.8382 - val_loss: 22.0421\n",
      "Epoch 70/100\n",
      "1930/1930 [==============================] - 436s 226ms/step - loss: 21.8329 - val_loss: 22.2818\n",
      "Epoch 71/100\n",
      "1930/1930 [==============================] - 470s 243ms/step - loss: 21.8288 - val_loss: 21.9681\n",
      "Epoch 72/100\n",
      "1930/1930 [==============================] - 443s 230ms/step - loss: 21.8257 - val_loss: 21.9262\n",
      "Epoch 73/100\n",
      "1930/1930 [==============================] - 466s 242ms/step - loss: 21.8300 - val_loss: 21.9791\n",
      "Epoch 74/100\n",
      "1930/1930 [==============================] - 470s 243ms/step - loss: 21.8157 - val_loss: 21.9590\n",
      "Epoch 75/100\n",
      "1930/1930 [==============================] - 454s 235ms/step - loss: 21.8003 - val_loss: 21.9714\n",
      "Epoch 76/100\n",
      "1930/1930 [==============================] - 467s 242ms/step - loss: 21.8009 - val_loss: 22.2207\n",
      "Epoch 77/100\n",
      "1930/1930 [==============================] - 444s 230ms/step - loss: 21.7989 - val_loss: 21.9221\n",
      "Epoch 78/100\n",
      "1930/1930 [==============================] - 442s 229ms/step - loss: 21.8061 - val_loss: 21.9418\n",
      "Epoch 79/100\n",
      "1930/1930 [==============================] - 441s 229ms/step - loss: 21.7904 - val_loss: 21.9523\n",
      "Epoch 80/100\n",
      "1930/1930 [==============================] - 444s 230ms/step - loss: 21.7810 - val_loss: 22.1367\n",
      "Epoch 81/100\n",
      "1930/1930 [==============================] - 463s 240ms/step - loss: 21.7815 - val_loss: 21.9132\n",
      "Epoch 82/100\n",
      "1930/1930 [==============================] - 473s 245ms/step - loss: 21.7794 - val_loss: 21.8913\n",
      "Epoch 83/100\n",
      "1930/1930 [==============================] - 463s 240ms/step - loss: 21.7674 - val_loss: 21.9949\n",
      "Epoch 84/100\n",
      "1930/1930 [==============================] - 461s 239ms/step - loss: 21.7723 - val_loss: 21.8658\n",
      "Epoch 85/100\n",
      "1930/1930 [==============================] - 476s 247ms/step - loss: 21.7524 - val_loss: 21.8876\n",
      "Epoch 86/100\n",
      "1930/1930 [==============================] - 471s 244ms/step - loss: 21.7562 - val_loss: 21.8528\n",
      "Epoch 87/100\n",
      "1930/1930 [==============================] - 455s 236ms/step - loss: 21.7559 - val_loss: 21.8503\n",
      "Epoch 88/100\n",
      "1930/1930 [==============================] - 457s 237ms/step - loss: 21.7432 - val_loss: 21.9294\n",
      "Epoch 89/100\n",
      "1930/1930 [==============================] - 438s 227ms/step - loss: 21.7456 - val_loss: 21.9216\n",
      "Epoch 90/100\n",
      "1930/1930 [==============================] - 440s 228ms/step - loss: 21.7479 - val_loss: 21.9312\n",
      "Epoch 91/100\n",
      "1930/1930 [==============================] - 460s 238ms/step - loss: 21.7388 - val_loss: 21.9878\n",
      "Epoch 92/100\n",
      "1930/1930 [==============================] - 450s 233ms/step - loss: 21.7314 - val_loss: 21.9425\n",
      "Epoch 93/100\n",
      "1930/1930 [==============================] - 438s 227ms/step - loss: 21.7318 - val_loss: 21.8457\n",
      "Epoch 94/100\n",
      "1930/1930 [==============================] - 444s 230ms/step - loss: 21.7228 - val_loss: 21.8857\n",
      "Epoch 95/100\n",
      "1930/1930 [==============================] - 441s 228ms/step - loss: 21.7166 - val_loss: 21.8913\n",
      "Epoch 96/100\n",
      "1930/1930 [==============================] - 467s 242ms/step - loss: 21.7185 - val_loss: 21.9631\n",
      "Epoch 97/100\n",
      "1930/1930 [==============================] - 449s 233ms/step - loss: 21.7150 - val_loss: 21.8424\n",
      "Epoch 98/100\n",
      "1930/1930 [==============================] - 448s 232ms/step - loss: 21.7116 - val_loss: 21.9316\n",
      "Epoch 99/100\n",
      "1930/1930 [==============================] - 466s 241ms/step - loss: 21.7069 - val_loss: 22.0716\n",
      "Epoch 100/100\n",
      "1930/1930 [==============================] - 452s 234ms/step - loss: 21.7068 - val_loss: 21.9065\n"
     ]
    }
   ],
   "source": [
    "batch_size = NEvts\n",
    "epochs = 100\n",
    "\n",
    "def mean_abs_theta_vtx(y_true, y_pred):\n",
    "    return K.mean(K.abs(y_true[:,0] - y_pred[:,0]))\n",
    "def mean_abs_phi_vtx(y_true, y_pred):\n",
    "    return K.mean(K.abs(y_true[:,1] - y_pred[:,1]))\n",
    "def mean_abs_r_vtx(y_true, y_pred):\n",
    "    return K.mean(K.abs(y_true[:,2] - y_pred[:,2]))\n",
    "def mean_abs_theta_dir(y_true, y_pred):\n",
    "    return K.mean(K.abs(y_true[:,3] - y_pred[:,3]))\n",
    "def mean_abs_phi_dir(y_true, y_pred):\n",
    "    return K.mean(K.abs(y_true[:,4] - y_pred[:,4]))\n",
    "\n",
    "def loss_by_R_square(y_true, y_pred):\n",
    "    return K.mean(K.square(y_true[:,0] - y_pred[:,0])+\n",
    "                  K.square(y_true[:,1] - y_pred[:,1])+\n",
    "                  K.square(y_true[:,2] - y_pred[:,2]) )\n",
    "\n",
    "my_network.compile(optimizer=Adam(lr=1e-5), loss='mean_squared_error')#, \n",
    "                                            #loss = loss_by_R_square)\n",
    "                   #metrics=['mean_squared_error', mean_abs_theta_vtx, mean_abs_phi_vtx, mean_abs_r_vtx])#, \n",
    "                                                  #mean_abs_theta_dir, mean_abs_phi_dir])\n",
    "\n",
    "my_network.load_weights(\"weights_vtx_dir_1el_sciLight_2xLSTM75_6300_300_f1054_lr1e-5_N8.h5\")\n",
    "#my_network.load_weights(\"weights_vtx_dir_1el_2xLSTM75_6300_300_f1930_lr1e-5_N9.h5\")\n",
    "\n",
    "\n",
    "history = my_network.fit_generator(generator=training_generator, epochs=epochs, validation_data=(testX, testY)) \n",
    "\n",
    "#history = my_network.fit(trainX, trainY, batch_size=1000, epochs=epochs, verbose=1, validation_data=(testX, testY))\n"
   ]
  },
  {
   "cell_type": "code",
   "execution_count": 13,
   "metadata": {},
   "outputs": [],
   "source": [
    "#my_network.save_weights(\"weights_vtx_dir_1el_color_2xLSTM75_8400_400_f250_lr1e-5_N5.h5\")\n",
    "my_network.save_weights(\"weights_vtx_dir_1el_sciLight_2xLSTM75_6300_300_f1930_lr1e-5_N9.h5\")"
   ]
  },
  {
   "cell_type": "code",
   "execution_count": 14,
   "metadata": {},
   "outputs": [
    {
     "data": {
      "text/plain": [
       "Text(0.5, 1.0, 'Loss Curves')"
      ]
     },
     "execution_count": 14,
     "metadata": {},
     "output_type": "execute_result"
    },
    {
     "data": {
      "image/png": "[encoded data removed]",
      "text/plain": [
       "<Figure size 576x432 with 1 Axes>"
      ]
     },
     "metadata": {
      "needs_background": "light"
     },
     "output_type": "display_data"
    }
   ],
   "source": [
    "# Loss Curves\n",
    "plt.figure(figsize=[8,6])\n",
    "plt.plot(history.history['loss'],'r',linewidth=3.0)\n",
    "plt.plot(history.history['val_loss'],'b',linewidth=3.0)\n",
    "plt.legend(['Training loss', 'Validation Loss'],fontsize=18)\n",
    "plt.xlabel('Epochs ',fontsize=16)\n",
    "plt.ylabel('Loss',fontsize=16)\n",
    "plt.title('Loss Curves',fontsize=16)\n",
    " "
   ]
  },
  {
   "cell_type": "code",
   "execution_count": 15,
   "metadata": {},
   "outputs": [
    {
     "name": "stdout",
     "output_type": "stream",
     "text": [
      "shape recoY =  (69000, 3)    shape testY =  (69000, 3)\n",
      "(69000,)   dR_mean =  7.297686706722529\n",
      "(69000,)\n",
      "(69000, 3)\n",
      "dY:  [[ 2.55526819  5.55964905 -4.94402878]\n",
      " [ 3.84850959  5.05337742  0.13829579]\n",
      " [-3.56613499 -1.15315327  4.00955297]]\n",
      "dY_norm:  [[ 0.3248273   0.70674607 -0.62848804]\n",
      " [ 0.60573204  0.79537092  0.02176692]\n",
      " [-0.64974713 -0.21010366  0.73053755]]\n",
      "(69000,)\n"
     ]
    }
   ],
   "source": [
    "recoY = my_network.predict(testX)\n",
    "\n",
    "print('shape recoY = ', recoY.shape, '   shape testY = ', testY.shape)\n",
    "\n",
    "dY = recoY - testY\n",
    "dY0 = recoY[:,0] - testY[:,0]\n",
    "dY1 = recoY[:,1] - testY[:,1]\n",
    "dY2 = recoY[:,2] - testY[:,2]\n",
    "dR = np.sqrt((recoY[:,0] - testY[:,0])*(recoY[:,0] - testY[:,0]) + (recoY[:,1] - testY[:,1])*(recoY[:,1] - testY[:,1]) + (recoY[:,2] - testY[:,2])*(recoY[:,2] - testY[:,2]) )\n",
    "print(dR.shape, '  dR_mean = ', np.mean(dR))\n",
    "R_true = np.sqrt(testY[:,0]*testY[:,0] + testY[:,1]*testY[:,1] + testY[:,2]*testY[:,2])\n",
    "print(R_true.shape)\n",
    "print(testY.shape)\n",
    "\n",
    "print('dY: ',dY[0:3,:])\n",
    "dRb = dR.reshape(dR.shape[0],1)\n",
    "dY = dY/dRb\n",
    "print('dY_norm: ',dY[0:3,:])\n",
    "#np.random.shuffle(trueDir)\n",
    "vtx_dot_dir = np.sum(dY*trueDir, axis=1)\n",
    "print(vtx_dot_dir.shape)"
   ]
  },
  {
   "cell_type": "code",
   "execution_count": 16,
   "metadata": {},
   "outputs": [
    {
     "data": {
      "text/plain": [
       "Text(0.5, 0, 'Dot product between Vtx(bias) and Dir(el)')"
      ]
     },
     "execution_count": 16,
     "metadata": {},
     "output_type": "execute_result"
    },
    {
     "data": {
      "image/png": "[encoded data removed]",
      "text/plain": [
       "<Figure size 720x576 with 1 Axes>"
      ]
     },
     "metadata": {
      "needs_background": "light"
     },
     "output_type": "display_data"
    }
   ],
   "source": [
    "plt.figure(figsize=[10,8])\n",
    "plt.hist(vtx_dot_dir, bins=60, range=(-1.5,1.5), histtype='step',ls='solid', alpha = 1.0, lw=3, color= 'b')\n",
    "plt.title('Correlation between the bias in vertex reconstruction and initial direction of the electron', fontsize=18)\n",
    "plt.xlabel('Dot product between Vtx(bias) and Dir(el)', fontsize=16)"
   ]
  },
  {
   "cell_type": "code",
   "execution_count": 17,
   "metadata": {},
   "outputs": [
    {
     "name": "stdout",
     "output_type": "stream",
     "text": [
      "MSE =  21.906467299515906\n",
      "MSE2 =  21.906467299515906\n",
      "dY0_Mean_vtx =  -0.518699141998751    dY1_Mean_vtx =  -0.31018862627812244    dY2_Mean_vtx =  -0.12872669513440502\n",
      "dY0_Rms_vtx =  5.183933011193519     dY1_Rms_vtx =  4.861320093019029     dY2_Rms_vtx =  3.900488096022764\n",
      "resolution_vtx =  8.106750390788392\n",
      "reco_Y1_vtx =  [ -36.647327 -115.629814  150.09563  ...  146.07018  -110.357025\n",
      "   22.191166]\n",
      "test_Y1_vtx =  [ -42.20697647 -120.68319157  151.2487801  ...  150.84137945 -105.75714266\n",
      "   19.15414046]\n",
      "\n",
      "\n",
      "Mean_true_vtx_0 =  -0.03924136904477009    Mean_true_vtx_1 =  -0.277431267804873 Mean_true_vtx_2 =  0.09408320874518973\n",
      "RMS_true_vtx_0 =  134.23231190540426    RMS_true_vtx_1 =  134.00812668103674   RMS_true_vtx_2 =  134.30609403629518\n"
     ]
    },
    {
     "data": {
      "image/png": "[encoded data removed]",
      "text/plain": [
       "<Figure size 720x576 with 1 Axes>"
      ]
     },
     "metadata": {
      "needs_background": "light"
     },
     "output_type": "display_data"
    },
    {
     "data": {
      "image/png": "[encoded data removed]",
      "text/plain": [
       "<Figure size 432x288 with 1 Axes>"
      ]
     },
     "metadata": {
      "needs_background": "light"
     },
     "output_type": "display_data"
    },
    {
     "data": {
      "image/png": "[encoded data removed]",
      "text/plain": [
       "<Figure size 432x288 with 1 Axes>"
      ]
     },
     "metadata": {
      "needs_background": "light"
     },
     "output_type": "display_data"
    },
    {
     "data": {
      "image/png": "[encoded data removed]",
      "text/plain": [
       "<Figure size 432x288 with 1 Axes>"
      ]
     },
     "metadata": {
      "needs_background": "light"
     },
     "output_type": "display_data"
    }
   ],
   "source": [
    "MSE = np.mean( (recoY.flatten()[:] - testY.flatten()[:])*(recoY.flatten()[:] - testY.flatten()[:]) )\n",
    "print('MSE = ', MSE)\n",
    "\n",
    "#MSE2 = np.mean(np.square(recoY - testY), axis=-1)\n",
    "MSE2 = np.mean(np.square(recoY.flatten()[:] - testY.flatten()[:]), axis=-1)\n",
    "print('MSE2 = ', MSE2)\n",
    "\n",
    "#dTheta_dir = recoY[:,3] - testY[:,3]\n",
    "#dPhi_dir = recoY[:,4] - testY[:,4]\n",
    "print('dY0_Mean_vtx = ' ,np.mean(dY0), '   dY1_Mean_vtx = ', np.mean(dY1), '   dY2_Mean_vtx = ' ,np.mean(dY2))\n",
    "print('dY0_Rms_vtx = ',np.sqrt(np.mean(np.square(dY0))), '    dY1_Rms_vtx = ',np.sqrt(np.mean(np.square(dY1))), '    dY2_Rms_vtx = ',np.sqrt(np.mean(np.square(dY2))))\n",
    "print('resolution_vtx = ', np.sqrt(np.mean(np.square(dY0)) + np.mean(np.square(dY1)) + np.mean(np.square(dY2)) ) )\n",
    "#print('ThetaMean_dir = ',np.mean(dTheta_dir),'   PhiMean_dir = ',np.mean(dPhi_dir))\n",
    "#print('ThetaRms_dir = ',np.sqrt(np.mean(np.square(dTheta_dir))), '   PhiRms_dir = ',np.sqrt(np.mean(np.square(dPhi_dir))))\n",
    "\n",
    "print('reco_Y1_vtx = ',recoY[:,1])\n",
    "print('test_Y1_vtx = ',testY[:,1])\n",
    "print('')\n",
    "print('')\n",
    "\n",
    "\n",
    "#fig_scatt = plt.figure()\n",
    "#plt.scatter(R_true, dR)\n",
    "\n",
    "fig_dYs = plt.figure(figsize=[10,8])\n",
    "plt.hist(dY0, bins=40, range=(-20,20), histtype='step',ls='solid', alpha = 1.0, lw=3, color= 'r')\n",
    "plt.hist(dY1, bins=40, range=(-20,20), histtype='step',ls='solid', alpha = 1.0, lw=3, color= 'g')\n",
    "plt.hist(dY2, bins=40, range=(-20,20), histtype='step',ls='solid', alpha = 1.0, lw=3, color= 'b')\n",
    "plt.title('Vertex Reconstruction',fontsize=18)\n",
    "plt.xlabel('Vtx(reco) - Vtx(true) [cm]',fontsize=16)\n",
    "\n",
    "fig_Y0s = plt.figure()\n",
    "plt.hist(recoY[:,0], bins=50, range=(-500,500), histtype='step',ls='--', alpha = 1.0, lw=3, color= 'r')\n",
    "plt.hist(testY[:,0], bins=50, range=(-500,500), histtype='step',ls='solid', alpha = 1.0, lw=3, color= 'r')\n",
    "fig_Y1s = plt.figure()\n",
    "plt.hist(recoY[:,1], bins=50, range=(-500,500), histtype='step',ls='--', alpha = 1.0, lw=3, color= 'g')\n",
    "plt.hist(testY[:,1], bins=50, range=(-500,500), histtype='step',ls='solid', alpha = 1.0, lw=3, color= 'g')\n",
    "fig_Y2s = plt.figure()\n",
    "plt.hist(recoY[:,2], bins=50, range=(-500,500), histtype='step',ls='--', alpha = 1.0, lw=3, color= 'b')\n",
    "plt.hist(testY[:,2], bins=50, range=(-500,500), histtype='step',ls='solid', alpha = 1.0, lw=3, color= 'b')\n",
    "\n",
    "print('Mean_true_vtx_0 = ', np.mean(testY[:,0]), '   Mean_true_vtx_1 = ' , np.mean(testY[:,1]), 'Mean_true_vtx_2 = ', np.mean(testY[:,2]))\n",
    "print('RMS_true_vtx_0 = ' , np.sqrt(np.mean(np.square(testY[:,0]))), '   RMS_true_vtx_1 = ' , np.sqrt(np.mean(np.square(testY[:,1]))), '  RMS_true_vtx_2 = ', np.sqrt(np.mean(np.square(testY[:,2]))) )"
   ]
  },
  {
   "cell_type": "code",
   "execution_count": null,
   "metadata": {},
   "outputs": [],
   "source": [
    "my_network.summary()"
   ]
  }
 ],
 "metadata": {
  "kernelspec": {
   "display_name": "Python 3",
   "language": "python",
   "name": "python3"
  },
  "language_info": {
   "codemirror_mode": {
    "name": "ipython",
    "version": 3
   },
   "file_extension": ".py",
   "mimetype": "text/x-python",
   "name": "python",
   "nbconvert_exporter": "python",
   "pygments_lexer": "ipython3",
   "version": "3.8.5"
  }
 },
 "nbformat": 4,
 "nbformat_minor": 4
}
