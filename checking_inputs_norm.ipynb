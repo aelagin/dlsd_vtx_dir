{
 "cells": [
  {
   "cell_type": "code",
   "execution_count": 1,
   "metadata": {},
   "outputs": [],
   "source": [
    "import os\n",
    "import numpy as np\n",
    "import matplotlib.pyplot as plt"
   ]
  },
  {
   "cell_type": "code",
   "execution_count": 29,
   "metadata": {},
   "outputs": [],
   "source": [
    "def load_test_data_to_memory(x_dir, fn_max=2000) :\n",
    "    X, Y, Dir = np.array([]), np.array([]), np.array([])\n",
    "    f_list = os.listdir(x_dir)\n",
    "    f_list.sort()\n",
    "    i=0\n",
    "    for x in f_list :\n",
    "        batch_data = np.load(os.path.join(x_dir, x))\n",
    "#         print(np.array(batch_data['x']).shape)\n",
    "#         print(np.array(batch_data['y_vtx']).shape)\n",
    "#         print(np.array(batch_data['y_vtx']))\n",
    "        \n",
    "        X = np.vstack([X, np.array(batch_data['x'])]) if X.size else np.array(batch_data['x'])\n",
    "        Y = np.vstack([Y, np.array(batch_data['y_vtx'])]) if Y.size else np.array(batch_data['y_vtx'])\n",
    "        Dir = np.vstack([Dir, np.array(batch_data['y_dir'])]) if Dir.size else np.array(batch_data['y_dir'])\n",
    "        i+=1\n",
    "        if i%10 == 0:\n",
    "            print(x)\n",
    "            print('i = ', i, '   ', X.shape, '   ', Y.shape, '   ', Dir.shape)\n",
    "        if i>=fn_max:\n",
    "            break\n",
    "    print(X.shape, '   ', Y.shape, '   ', Dir.shape)\n",
    "    return X, Y, Dir"
   ]
  },
  {
   "cell_type": "code",
   "execution_count": 30,
   "metadata": {},
   "outputs": [
    {
     "name": "stdout",
     "output_type": "stream",
     "text": [
      "f_batch_1062.npz\n",
      "i =  10     (10000, 6300)     (10000, 3)     (10000, 3)\n",
      "f_batch_1074.npz\n",
      "i =  20     (20000, 6300)     (20000, 3)     (20000, 3)\n",
      "f_batch_1086.npz\n",
      "i =  30     (30000, 6300)     (30000, 3)     (30000, 3)\n",
      "f_batch_1096.npz\n",
      "i =  40     (40000, 6300)     (40000, 3)     (40000, 3)\n",
      "f_batch_1105.npz\n",
      "i =  50     (50000, 6300)     (50000, 3)     (50000, 3)\n",
      "f_batch_1116.npz\n",
      "i =  60     (60000, 6300)     (60000, 3)     (60000, 3)\n",
      "f_batch_1126.npz\n",
      "i =  70     (70000, 6300)     (70000, 3)     (70000, 3)\n",
      "f_batch_1138.npz\n",
      "i =  80     (80000, 6300)     (80000, 3)     (80000, 3)\n",
      "f_batch_115.npz\n",
      "i =  90     (90000, 6300)     (90000, 3)     (90000, 3)\n",
      "f_batch_1159.npz\n",
      "i =  100     (100000, 6300)     (100000, 3)     (100000, 3)\n",
      "f_batch_1171.npz\n",
      "i =  110     (110000, 6300)     (110000, 3)     (110000, 3)\n",
      "f_batch_1180.npz\n",
      "i =  120     (120000, 6300)     (120000, 3)     (120000, 3)\n",
      "f_batch_1191.npz\n",
      "i =  130     (130000, 6300)     (130000, 3)     (130000, 3)\n",
      "f_batch_1201.npz\n",
      "i =  140     (140000, 6300)     (140000, 3)     (140000, 3)\n",
      "f_batch_1213.npz\n",
      "i =  150     (150000, 6300)     (150000, 3)     (150000, 3)\n",
      "f_batch_1227.npz\n",
      "i =  160     (160000, 6300)     (160000, 3)     (160000, 3)\n",
      "f_batch_1237.npz\n",
      "i =  170     (170000, 6300)     (170000, 3)     (170000, 3)\n",
      "f_batch_1249.npz\n",
      "i =  180     (180000, 6300)     (180000, 3)     (180000, 3)\n",
      "f_batch_1261.npz\n",
      "i =  190     (190000, 6300)     (190000, 3)     (190000, 3)\n",
      "f_batch_1274.npz\n",
      "i =  200     (200000, 6300)     (200000, 3)     (200000, 3)\n",
      "(200000, 6300)     (200000, 3)     (200000, 3)\n",
      "(200000, 6300)\n",
      "(200000, 3)\n",
      "(200000, 3)\n"
     ]
    }
   ],
   "source": [
    "X, vtx1, dir1 = load_test_data_to_memory('/data/Elagin/vtx_dir_1el_norm',200)\n",
    "print(X.shape)\n",
    "print(vtx1.shape)\n",
    "print(dir1.shape)"
   ]
  },
  {
   "cell_type": "code",
   "execution_count": 4,
   "metadata": {},
   "outputs": [
    {
     "data": {
      "text/plain": [
       "array([[4.57776473e-01, 1.53273855e-01, 0.00000000e+00, 4.00088752e-01,\n",
       "        1.69407760e-01, 3.93667857e-03, 4.27048361e-01, 2.35695393e-01,\n",
       "        5.54195404e-03, 3.78006024e-01, 2.10456024e-01, 6.86695099e-03,\n",
       "        4.57121994e-01, 1.67615643e-01, 6.96731567e-03, 4.44483745e-01,\n",
       "        1.81996554e-01, 7.50264486e-03, 4.52861692e-01, 1.35186140e-01,\n",
       "        7.77233124e-03, 4.16557293e-01],\n",
       "       [6.75992177e-01, 5.76361007e-01, 0.00000000e+00, 6.59135647e-01,\n",
       "        6.48351236e-01, 2.03450521e-06, 6.76402197e-01, 6.09100532e-01,\n",
       "        2.07459768e-03, 7.09660808e-01, 5.68135107e-01, 2.11510976e-03,\n",
       "        6.32465012e-01, 5.95081251e-01, 3.33301544e-03, 6.52372718e-01,\n",
       "        5.83530123e-01, 4.92364248e-03, 6.30845936e-01, 6.30508632e-01,\n",
       "        5.50676982e-03, 6.98627671e-01]])"
      ]
     },
     "execution_count": 4,
     "metadata": {},
     "output_type": "execute_result"
    }
   ],
   "source": [
    "X[0:2,0:22]"
   ]
  },
  {
   "cell_type": "code",
   "execution_count": 31,
   "metadata": {},
   "outputs": [],
   "source": [
    "theta = X[:,0::3].flatten()\n",
    "phi = X[:,1::3].flatten()\n",
    "time = X[:,2::3].flatten()\n",
    "X = []"
   ]
  },
  {
   "cell_type": "code",
   "execution_count": null,
   "metadata": {},
   "outputs": [],
   "source": []
  },
  {
   "cell_type": "code",
   "execution_count": 32,
   "metadata": {},
   "outputs": [
    {
     "data": {
      "image/png": "[encoded data removed]",
      "text/plain": [
       "<Figure size 432x288 with 1 Axes>"
      ]
     },
     "metadata": {
      "needs_background": "light"
     },
     "output_type": "display_data"
    },
    {
     "name": "stdout",
     "output_type": "stream",
     "text": [
      "-0.005901934031918964\n",
      "t_min =  -1.0    t_max =  1.074779624938965\n"
     ]
    }
   ],
   "source": [
    "plt.hist(time, bins=50, range=(-1.2,1.2), histtype='step',ls='solid', alpha = 1.0, lw=3, color= 'r')\n",
    "plt.yscale('log')\n",
    "plt.show()\n",
    "print(np.mean(time))\n",
    "print('t_min = ', np.min(time), '   t_max = ', np.max(time))"
   ]
  },
  {
   "cell_type": "code",
   "execution_count": 33,
   "metadata": {},
   "outputs": [
    {
     "data": {
      "image/png": "[encoded data removed]",
      "text/plain": [
       "<Figure size 432x288 with 1 Axes>"
      ]
     },
     "metadata": {
      "needs_background": "light"
     },
     "output_type": "display_data"
    },
    {
     "name": "stdout",
     "output_type": "stream",
     "text": [
      "theta_min =  -1.0    theta_max =  0.9999973058882281    theta_mean =  0.3364739623576761\n",
      "phi_min =  -1.0    phi_max =  0.9999999946543262    phi_mean =  0.3365346503943384\n"
     ]
    }
   ],
   "source": [
    "plt.hist(theta, bins=50, range=(-1.1, 1.1), histtype='step',ls='solid', alpha = 1.0, lw=3, color= 'r')\n",
    "plt.hist(phi, bins=50, range=(-1.1, 1.1), histtype='step',ls='solid', alpha = 1.0, lw=3, color= 'b')\n",
    "plt.show()\n",
    "print('theta_min = ', np.min(theta), '   theta_max = ', np.max(theta), '   theta_mean = ', np.mean(theta) )\n",
    "print('phi_min = ', np.min(phi), '   phi_max = ', np.max(phi), '   phi_mean = ', np.mean(phi) )"
   ]
  },
  {
   "cell_type": "code",
   "execution_count": 34,
   "metadata": {},
   "outputs": [
    {
     "name": "stdout",
     "output_type": "stream",
     "text": [
      "200000\n",
      "447.21359549995793\n",
      "mean_vtx_x =  -0.015829414411344896    sem_vtx_x =  0.30000705193473015    rms_vtx_x =  134.16723330487193\n",
      "mean_vtx_y =  0.1690833137213726    sem_vtx_y =  0.29966629971118486    rms_vtx_y =  134.01495000814538\n",
      "mean_vtx_z =  0.32198892935342505    sem_vtx_z =  0.3001483258150981    rms_vtx_z =  134.23079816045154\n"
     ]
    },
    {
     "data": {
      "image/png": "[encoded data removed]",
      "text/plain": [
       "<Figure size 432x288 with 1 Axes>"
      ]
     },
     "metadata": {
      "needs_background": "light"
     },
     "output_type": "display_data"
    }
   ],
   "source": [
    "print(vtx1.shape[0])\n",
    "sqrt_n = np.sqrt(vtx1.shape[0])\n",
    "print(sqrt_n)\n",
    "plt.hist(vtx1[:,0], bins=35, range=(-350,350), histtype='step',ls='solid', alpha = 1.0, lw=3, color= 'r')\n",
    "plt.hist(vtx1[:,1], bins=35, range=(-350,350), histtype='step',ls='solid', alpha = 1.0, lw=3, color= 'b')\n",
    "plt.hist(vtx1[:,2], bins=35, range=(-350,350), histtype='step',ls='solid', alpha = 1.0, lw=3, color= 'g')\n",
    "print('mean_vtx_x = ',np.mean(vtx1[:,0]), '   sem_vtx_x = ',np.std(vtx1[:,0])/sqrt_n, '   rms_vtx_x = ',np.sqrt(np.mean(np.square(vtx1[:,0]))) )\n",
    "print('mean_vtx_y = ',np.mean(vtx1[:,1]), '   sem_vtx_y = ',np.std(vtx1[:,1])/sqrt_n, '   rms_vtx_y = ',np.sqrt(np.mean(np.square(vtx1[:,1]))) )\n",
    "print('mean_vtx_z = ',np.mean(vtx1[:,2]), '   sem_vtx_z = ',np.std(vtx1[:,2])/sqrt_n, '   rms_vtx_z = ',np.sqrt(np.mean(np.square(vtx1[:,2]))) )"
   ]
  },
  {
   "cell_type": "code",
   "execution_count": 35,
   "metadata": {},
   "outputs": [
    {
     "name": "stdout",
     "output_type": "stream",
     "text": [
      "200000\n",
      "447.21359549995793\n",
      "mean_dir_x =  0.0011258161572378818    sem_dir_x =  0.001291420250391971    rms_dir_x =  0.5775417907706005\n",
      "mean_dir_y =  -9.09638823036147e-06    sem_dir_y =  0.001291167058926386    rms_dir_y =  0.5774274628852242\n",
      "mean_dir_z =  -0.0002095459472377085    sem_dir_z =  0.00129039327553641    rms_dir_z =  0.5770814544060666\n"
     ]
    },
    {
     "data": {
      "image/png": "[encoded data removed]",
      "text/plain": [
       "<Figure size 432x288 with 1 Axes>"
      ]
     },
     "metadata": {
      "needs_background": "light"
     },
     "output_type": "display_data"
    }
   ],
   "source": [
    "print(dir1.shape[0])\n",
    "sqrt_n = np.sqrt(vtx1.shape[0])\n",
    "print(sqrt_n)\n",
    "plt.hist(dir1[:,0], bins=22, range=(-1.1,1.1), histtype='step',ls='solid', alpha = 1.0, lw=3, color= 'r')\n",
    "plt.hist(dir1[:,1], bins=22, range=(-1.1,1.1), histtype='step',ls='solid', alpha = 1.0, lw=3, color= 'b')\n",
    "plt.hist(dir1[:,2], bins=22, range=(-1.1,1.1), histtype='step',ls='solid', alpha = 1.0, lw=3, color= 'g')\n",
    "print('mean_dir_x = ',np.mean(dir1[:,0]), '   sem_dir_x = ',np.std(dir1[:,0])/sqrt_n, '   rms_dir_x = ',np.sqrt(np.mean(np.square(dir1[:,0]))) )\n",
    "print('mean_dir_y = ',np.mean(dir1[:,1]), '   sem_dir_y = ',np.std(dir1[:,1])/sqrt_n, '   rms_dir_y = ',np.sqrt(np.mean(np.square(dir1[:,1]))) )\n",
    "print('mean_dir_z = ',np.mean(dir1[:,2]), '   sem_dir_z = ',np.std(dir1[:,2])/sqrt_n, '   rms_dir_z = ',np.sqrt(np.mean(np.square(dir1[:,2]))) )"
   ]
  },
  {
   "cell_type": "code",
   "execution_count": null,
   "metadata": {},
   "outputs": [],
   "source": []
  },
  {
   "cell_type": "code",
   "execution_count": 65,
   "metadata": {},
   "outputs": [
    {
     "data": {
      "text/plain": [
       "134.25331932004127"
      ]
     },
     "execution_count": 65,
     "metadata": {},
     "output_type": "execute_result"
    }
   ],
   "source": [
    "np.std(vtx1[:,0]) - np.sqrt(np.mean(np.square(vtx1[:,0])))\n",
    "np.std(vtx1[:,0], ddof=1)"
   ]
  },
  {
   "cell_type": "code",
   "execution_count": 66,
   "metadata": {},
   "outputs": [
    {
     "data": {
      "text/plain": [
       "134.25309556432262"
      ]
     },
     "execution_count": 66,
     "metadata": {},
     "output_type": "execute_result"
    }
   ],
   "source": [
    "np.std(vtx1[:,0])"
   ]
  },
  {
   "cell_type": "code",
   "execution_count": 67,
   "metadata": {},
   "outputs": [
    {
     "data": {
      "text/plain": [
       "134.25310408901424"
      ]
     },
     "execution_count": 67,
     "metadata": {},
     "output_type": "execute_result"
    }
   ],
   "source": [
    "np.sqrt(np.mean(np.square(vtx1[:,0])))"
   ]
  },
  {
   "cell_type": "code",
   "execution_count": null,
   "metadata": {},
   "outputs": [],
   "source": []
  }
 ],
 "metadata": {
  "kernelspec": {
   "display_name": "Python 3",
   "language": "python",
   "name": "python3"
  },
  "language_info": {
   "codemirror_mode": {
    "name": "ipython",
    "version": 3
   },
   "file_extension": ".py",
   "mimetype": "text/x-python",
   "name": "python",
   "nbconvert_exporter": "python",
   "pygments_lexer": "ipython3",
   "version": "3.8.5"
  }
 },
 "nbformat": 4,
 "nbformat_minor": 4
}
