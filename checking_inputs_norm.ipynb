{
 "cells": [
  {
   "cell_type": "code",
   "execution_count": 14,
   "metadata": {},
   "outputs": [],
   "source": [
    "import os\n",
    "import numpy as np\n",
    "import matplotlib.pyplot as plt"
   ]
  },
  {
   "cell_type": "code",
   "execution_count": 15,
   "metadata": {},
   "outputs": [],
   "source": [
    "# Load data from x_dir, stop after loading fn_max files\n",
    "# Returns X, Y, Dir\n",
    "# X - independent variables\n",
    "# Y - dependend variables (x-, y-, z- of the vertex in this implementation)\n",
    "# Dir - direction vector (x-, y-, z- componenets), could be made dependent variable\n",
    "def load_test_data_to_memory(x_dir, fn_max=2000) :\n",
    "    X, Y, Dir = np.array([]), np.array([]), np.array([])\n",
    "    f_list = os.listdir(x_dir)\n",
    "    f_list.sort()\n",
    "    i=0\n",
    "    for x in f_list :\n",
    "        batch_data = np.load(os.path.join(x_dir, x))\n",
    "        \n",
    "        X = np.vstack([X, np.array(batch_data['x'])]) if X.size else np.array(batch_data['x'])\n",
    "        Y = np.vstack([Y, np.array(batch_data['y_vtx'])]) if Y.size else np.array(batch_data['y_vtx'])\n",
    "        Dir = np.vstack([Dir, np.array(batch_data['y_dir'])]) if Dir.size else np.array(batch_data['y_dir'])\n",
    "\n",
    "        i+=1\n",
    "        if i%10 == 0:\n",
    "            print(x)\n",
    "            print('i = ', i, '   ', X.shape, '   ', Y.shape, '   ', Dir.shape)\n",
    "        if i>=fn_max:\n",
    "            break\n",
    "    print(X.shape, '   ', Y.shape, '   ', Dir.shape)\n",
    "    return X, Y, Dir"
   ]
  },
  {
   "cell_type": "code",
   "execution_count": 16,
   "metadata": {},
   "outputs": [
    {
     "name": "stdout",
     "output_type": "stream",
     "text": [
      "f_batch_1061.npz\n",
      "i =  10     (10000, 6300)     (10000, 3)     (10000, 3)\n",
      "f_batch_1070.npz\n",
      "i =  20     (20000, 6300)     (20000, 3)     (20000, 3)\n",
      "f_batch_108.npz\n",
      "i =  30     (30000, 6300)     (30000, 3)     (30000, 3)\n",
      "f_batch_1089.npz\n",
      "i =  40     (40000, 6300)     (40000, 3)     (40000, 3)\n",
      "f_batch_1098.npz\n",
      "i =  50     (50000, 6300)     (50000, 3)     (50000, 3)\n",
      "(50000, 6300)     (50000, 3)     (50000, 3)\n",
      "(50000, 6300)\n",
      "(50000, 3)\n",
      "(50000, 3)\n"
     ]
    }
   ],
   "source": [
    "X, vtx1, dir1 = load_test_data_to_memory('/data/Elagin/vtx_dir_1el_norm',50)\n",
    "print(X.shape)\n",
    "print(vtx1.shape)\n",
    "print(dir1.shape)"
   ]
  },
  {
   "cell_type": "code",
   "execution_count": 25,
   "metadata": {},
   "outputs": [
    {
     "data": {
      "text/plain": [
       "array([0.01331957, 0.01135269, 0.00779742, 0.00609713, 0.00926931,\n",
       "       0.0101217 , 0.00920053, 0.0075174 , 0.0134119 , 0.00796715,\n",
       "       0.00930653, 0.00566925, 0.01087143, 0.01068817, 0.01093004,\n",
       "       0.0064893 , 0.01192176, 0.00763463, 0.00947428, 0.01057545])"
      ]
     },
     "execution_count": 25,
     "metadata": {},
     "output_type": "execute_result"
    }
   ],
   "source": [
    "X[0:20,32]"
   ]
  },
  {
   "cell_type": "code",
   "execution_count": 5,
   "metadata": {},
   "outputs": [],
   "source": [
    "theta = X[:,0::3].flatten()\n",
    "phi = X[:,1::3].flatten()\n",
    "time = X[:,2::3].flatten()\n",
    "X = []"
   ]
  },
  {
   "cell_type": "code",
   "execution_count": null,
   "metadata": {},
   "outputs": [],
   "source": []
  },
  {
   "cell_type": "code",
   "execution_count": 6,
   "metadata": {},
   "outputs": [
    {
     "data": {
      "image/png": "[encoded data removed]",
      "text/plain": [
       "<Figure size 432x288 with 1 Axes>"
      ]
     },
     "metadata": {
      "needs_background": "light"
     },
     "output_type": "display_data"
    },
    {
     "name": "stdout",
     "output_type": "stream",
     "text": [
      "-0.005717047856592808\n",
      "t_min =  -1.0    t_max =  1.098804931640625\n"
     ]
    }
   ],
   "source": [
    "plt.hist(time, bins=50, range=(-1.2,1.2), histtype='step',ls='solid', alpha = 1.0, lw=3, color= 'r')\n",
    "plt.yscale('log')\n",
    "plt.show()\n",
    "print(np.mean(time))\n",
    "print('t_min = ', np.min(time), '   t_max = ', np.max(time))"
   ]
  },
  {
   "cell_type": "code",
   "execution_count": 7,
   "metadata": {},
   "outputs": [
    {
     "data": {
      "image/png": "[encoded data removed]",
      "text/plain": [
       "<Figure size 432x288 with 1 Axes>"
      ]
     },
     "metadata": {
      "needs_background": "light"
     },
     "output_type": "display_data"
    },
    {
     "name": "stdout",
     "output_type": "stream",
     "text": [
      "theta_min =  -1.0    theta_max =  0.9999825350192801    theta_mean =  0.3362933746234073\n",
      "phi_min =  -1.0    phi_max =  0.9999999938626885    phi_mean =  0.33678890678727236\n"
     ]
    }
   ],
   "source": [
    "plt.hist(theta, bins=50, range=(-1.1, 1.1), histtype='step',ls='solid', alpha = 1.0, lw=3, color= 'r')\n",
    "plt.hist(phi, bins=50, range=(-1.1, 1.1), histtype='step',ls='solid', alpha = 1.0, lw=3, color= 'b')\n",
    "plt.show()\n",
    "print('theta_min = ', np.min(theta), '   theta_max = ', np.max(theta), '   theta_mean = ', np.mean(theta) )\n",
    "print('phi_min = ', np.min(phi), '   phi_max = ', np.max(phi), '   phi_mean = ', np.mean(phi) )"
   ]
  },
  {
   "cell_type": "code",
   "execution_count": 8,
   "metadata": {},
   "outputs": [
    {
     "name": "stdout",
     "output_type": "stream",
     "text": [
      "50000\n",
      "223.60679774997897\n",
      "mean_vtx_x =  0.3612966008241403    sem_vtx_x =  0.5992386739889386    rms_vtx_x =  133.99432807188083\n",
      "mean_vtx_y =  -0.09357984278465073    sem_vtx_y =  0.6017962134098914    rms_vtx_y =  134.56575671734302\n",
      "mean_vtx_z =  0.9704215112098193    sem_vtx_z =  0.6010798853047378    rms_vtx_z =  134.40905156948045\n"
     ]
    },
    {
     "data": {
      "image/png": "[encoded data removed]",
      "text/plain": [
       "<Figure size 432x288 with 1 Axes>"
      ]
     },
     "metadata": {
      "needs_background": "light"
     },
     "output_type": "display_data"
    }
   ],
   "source": [
    "print(vtx1.shape[0])\n",
    "sqrt_n = np.sqrt(vtx1.shape[0])\n",
    "print(sqrt_n)\n",
    "plt.hist(vtx1[:,0], bins=35, range=(-350,350), histtype='step',ls='solid', alpha = 1.0, lw=3, color= 'r')\n",
    "plt.hist(vtx1[:,1], bins=35, range=(-350,350), histtype='step',ls='solid', alpha = 1.0, lw=3, color= 'b')\n",
    "plt.hist(vtx1[:,2], bins=35, range=(-350,350), histtype='step',ls='solid', alpha = 1.0, lw=3, color= 'g')\n",
    "print('mean_vtx_x = ',np.mean(vtx1[:,0]), '   sem_vtx_x = ',np.std(vtx1[:,0])/sqrt_n, '   rms_vtx_x = ',np.sqrt(np.mean(np.square(vtx1[:,0]))) )\n",
    "print('mean_vtx_y = ',np.mean(vtx1[:,1]), '   sem_vtx_y = ',np.std(vtx1[:,1])/sqrt_n, '   rms_vtx_y = ',np.sqrt(np.mean(np.square(vtx1[:,1]))) )\n",
    "print('mean_vtx_z = ',np.mean(vtx1[:,2]), '   sem_vtx_z = ',np.std(vtx1[:,2])/sqrt_n, '   rms_vtx_z = ',np.sqrt(np.mean(np.square(vtx1[:,2]))) )"
   ]
  },
  {
   "cell_type": "code",
   "execution_count": 9,
   "metadata": {},
   "outputs": [
    {
     "name": "stdout",
     "output_type": "stream",
     "text": [
      "50000\n",
      "223.60679774997897\n",
      "mean_dir_x =  0.0006450840376906905    sem_dir_x =  0.0025823042612341095    rms_dir_x =  0.5774211470086695\n",
      "mean_dir_y =  0.00021284000461731502    sem_dir_y =  0.002583542626069583    rms_dir_y =  0.577697732674098\n",
      "mean_dir_z =  0.0019864996187451394    sem_dir_z =  0.0025801015579610957    rms_dir_z =  0.5769316672279299\n"
     ]
    },
    {
     "data": {
      "image/png": "[encoded data removed]",
      "text/plain": [
       "<Figure size 432x288 with 1 Axes>"
      ]
     },
     "metadata": {
      "needs_background": "light"
     },
     "output_type": "display_data"
    }
   ],
   "source": [
    "print(dir1.shape[0])\n",
    "sqrt_n = np.sqrt(vtx1.shape[0])\n",
    "print(sqrt_n)\n",
    "plt.hist(dir1[:,0], bins=22, range=(-1.1,1.1), histtype='step',ls='solid', alpha = 1.0, lw=3, color= 'r')\n",
    "plt.hist(dir1[:,1], bins=22, range=(-1.1,1.1), histtype='step',ls='solid', alpha = 1.0, lw=3, color= 'b')\n",
    "plt.hist(dir1[:,2], bins=22, range=(-1.1,1.1), histtype='step',ls='solid', alpha = 1.0, lw=3, color= 'g')\n",
    "print('mean_dir_x = ',np.mean(dir1[:,0]), '   sem_dir_x = ',np.std(dir1[:,0])/sqrt_n, '   rms_dir_x = ',np.sqrt(np.mean(np.square(dir1[:,0]))) )\n",
    "print('mean_dir_y = ',np.mean(dir1[:,1]), '   sem_dir_y = ',np.std(dir1[:,1])/sqrt_n, '   rms_dir_y = ',np.sqrt(np.mean(np.square(dir1[:,1]))) )\n",
    "print('mean_dir_z = ',np.mean(dir1[:,2]), '   sem_dir_z = ',np.std(dir1[:,2])/sqrt_n, '   rms_dir_z = ',np.sqrt(np.mean(np.square(dir1[:,2]))) )"
   ]
  },
  {
   "cell_type": "code",
   "execution_count": 10,
   "metadata": {},
   "outputs": [
    {
     "data": {
      "text/plain": [
       "(50000,)"
      ]
     },
     "execution_count": 10,
     "metadata": {},
     "output_type": "execute_result"
    }
   ],
   "source": [
    "Rvtx1 = np.sqrt(vtx1[:,0]*vtx1[:,0] + vtx1[:,1]*vtx1[:,1] + vtx1[:,2]*vtx1[:,2]) # calculating length of each vertex point vectors\n",
    "Rvtx1.shape"
   ]
  },
  {
   "cell_type": "code",
   "execution_count": 11,
   "metadata": {},
   "outputs": [
    {
     "data": {
      "text/plain": [
       "(50000, 1)"
      ]
     },
     "execution_count": 11,
     "metadata": {},
     "output_type": "execute_result"
    }
   ],
   "source": [
    "Rvtx1 = Rvtx1.reshape(Rvtx1.shape[0],1) # reshaping for matrix division\n",
    "Rvtx1.shape"
   ]
  },
  {
   "cell_type": "code",
   "execution_count": 12,
   "metadata": {},
   "outputs": [],
   "source": [
    "vtx1 = vtx1/Rvtx1 # normalizing vertex point vectors\n",
    "vtx_dot_dir = np.sum(vtx1*dir1, axis=1) # row-wise dot product"
   ]
  },
  {
   "cell_type": "code",
   "execution_count": 13,
   "metadata": {},
   "outputs": [
    {
     "data": {
      "text/plain": [
       "(array([   0.,    0.,    0.,    0.,    0.,    0.,    0.,    0.,    0.,\n",
       "           0., 2544., 2502., 2527., 2527., 2465., 2540., 2470., 2468.,\n",
       "        2575., 2495., 2389., 2516., 2456., 2468., 2543., 2439., 2477.,\n",
       "        2545., 2638., 2416.,    0.,    0.,    0.,    0.,    0.,    0.,\n",
       "           0.,    0.,    0.,    0.]),\n",
       " array([-2. , -1.9, -1.8, -1.7, -1.6, -1.5, -1.4, -1.3, -1.2, -1.1, -1. ,\n",
       "        -0.9, -0.8, -0.7, -0.6, -0.5, -0.4, -0.3, -0.2, -0.1,  0. ,  0.1,\n",
       "         0.2,  0.3,  0.4,  0.5,  0.6,  0.7,  0.8,  0.9,  1. ,  1.1,  1.2,\n",
       "         1.3,  1.4,  1.5,  1.6,  1.7,  1.8,  1.9,  2. ]),\n",
       " [<matplotlib.patches.Polygon at 0x7f449a443ca0>])"
      ]
     },
     "execution_count": 13,
     "metadata": {},
     "output_type": "execute_result"
    },
    {
     "data": {
      "image/png": "[encoded data removed]",
      "text/plain": [
       "<Figure size 576x432 with 1 Axes>"
      ]
     },
     "metadata": {
      "needs_background": "light"
     },
     "output_type": "display_data"
    }
   ],
   "source": [
    "plt.figure(figsize=[8,6])\n",
    "plt.hist(vtx_dot_dir, bins=40, range=(-2,2), histtype='step',ls='solid', alpha = 1.0, lw=3, color= 'b')"
   ]
  },
  {
   "cell_type": "code",
   "execution_count": 65,
   "metadata": {},
   "outputs": [
    {
     "data": {
      "text/plain": [
       "134.25331932004127"
      ]
     },
     "execution_count": 65,
     "metadata": {},
     "output_type": "execute_result"
    }
   ],
   "source": [
    "np.std(vtx1[:,0]) - np.sqrt(np.mean(np.square(vtx1[:,0])))\n",
    "np.std(vtx1[:,0], ddof=1)"
   ]
  },
  {
   "cell_type": "code",
   "execution_count": null,
   "metadata": {},
   "outputs": [],
   "source": []
  },
  {
   "cell_type": "code",
   "execution_count": 66,
   "metadata": {},
   "outputs": [
    {
     "data": {
      "text/plain": [
       "134.25309556432262"
      ]
     },
     "execution_count": 66,
     "metadata": {},
     "output_type": "execute_result"
    }
   ],
   "source": [
    "np.std(vtx1[:,0])"
   ]
  },
  {
   "cell_type": "code",
   "execution_count": 67,
   "metadata": {},
   "outputs": [
    {
     "data": {
      "text/plain": [
       "134.25310408901424"
      ]
     },
     "execution_count": 67,
     "metadata": {},
     "output_type": "execute_result"
    }
   ],
   "source": [
    "np.sqrt(np.mean(np.square(vtx1[:,0])))"
   ]
  },
  {
   "cell_type": "code",
   "execution_count": null,
   "metadata": {},
   "outputs": [],
   "source": []
  }
 ],
 "metadata": {
  "kernelspec": {
   "display_name": "Python 3",
   "language": "python",
   "name": "python3"
  },
  "language_info": {
   "codemirror_mode": {
    "name": "ipython",
    "version": 3
   },
   "file_extension": ".py",
   "mimetype": "text/x-python",
   "name": "python",
   "nbconvert_exporter": "python",
   "pygments_lexer": "ipython3",
   "version": "3.8.5"
  }
 },
 "nbformat": 4,
 "nbformat_minor": 4
}
