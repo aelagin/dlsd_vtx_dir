{
 "cells": [
  {
   "cell_type": "code",
   "execution_count": 1,
   "metadata": {},
   "outputs": [],
   "source": [
    "import os\n",
    "import numpy as np\n",
    "import matplotlib.pyplot as plt"
   ]
  },
  {
   "cell_type": "code",
   "execution_count": 2,
   "metadata": {},
   "outputs": [],
   "source": [
    "# Load data from x_dir, stop after loading fn_max files\n",
    "# Returns X, Y, Dir\n",
    "# X - independent variables\n",
    "# Y - dependend variables (x-, y-, z- of the vertex in this implementation)\n",
    "# Dir - direction vector (x-, y-, z- componenets), could be made dependent variable\n",
    "def load_test_data_to_memory(x_dir, fn_max=2000) :\n",
    "    X, Y, Dir = np.array([]), np.array([]), np.array([])\n",
    "    f_list = os.listdir(x_dir)\n",
    "    f_list.sort()\n",
    "    i=0\n",
    "    for x in f_list :\n",
    "        batch_data = np.load(os.path.join(x_dir, x))\n",
    "        \n",
    "        X = np.vstack([X, np.array(batch_data['x'])]) if X.size else np.array(batch_data['x'])\n",
    "        Y = np.vstack([Y, np.array(batch_data['y_vtx'])]) if Y.size else np.array(batch_data['y_vtx'])\n",
    "        Dir = np.vstack([Dir, np.array(batch_data['y_dir'])]) if Dir.size else np.array(batch_data['y_dir'])\n",
    "\n",
    "        i+=1\n",
    "        if i%10 == 0:\n",
    "            print(x)\n",
    "            print('i = ', i, '   ', X.shape, '   ', Y.shape, '   ', Dir.shape)\n",
    "        if i>=fn_max:\n",
    "            break\n",
    "    print(X.shape, '   ', Y.shape, '   ', Dir.shape)\n",
    "    return X, Y, Dir"
   ]
  },
  {
   "cell_type": "code",
   "execution_count": 3,
   "metadata": {},
   "outputs": [
    {
     "name": "stdout",
     "output_type": "stream",
     "text": [
      "(9000, 6300)     (9000, 3)     (9000, 3)\n",
      "(9000, 6300)\n",
      "(9000, 3)\n",
      "(9000, 3)\n"
     ]
    }
   ],
   "source": [
    "X, vtx1, dir1 = load_test_data_to_memory('/data/Elagin/data_vtx_dir_1el_test_norm',50)\n",
    "print(X.shape)\n",
    "print(vtx1.shape)\n",
    "print(dir1.shape)"
   ]
  },
  {
   "cell_type": "code",
   "execution_count": 5,
   "metadata": {},
   "outputs": [
    {
     "data": {
      "text/plain": [
       "array([0.00041634, 0.        , 0.00331483, 0.00213947, 0.        ,\n",
       "       0.00261099, 0.        , 0.        , 0.        , 0.        ,\n",
       "       0.        , 0.        , 0.        , 0.        , 0.        ,\n",
       "       0.        , 0.        , 0.        , 0.        , 0.        ])"
      ]
     },
     "execution_count": 5,
     "metadata": {},
     "output_type": "execute_result"
    }
   ],
   "source": [
    "X[0:20,2]"
   ]
  },
  {
   "cell_type": "code",
   "execution_count": 6,
   "metadata": {},
   "outputs": [],
   "source": [
    "theta = X[:,0::3].flatten()\n",
    "phi = X[:,1::3].flatten()\n",
    "time = X[:,2::3].flatten()\n",
    "X = []"
   ]
  },
  {
   "cell_type": "code",
   "execution_count": null,
   "metadata": {},
   "outputs": [],
   "source": []
  },
  {
   "cell_type": "code",
   "execution_count": 7,
   "metadata": {},
   "outputs": [
    {
     "data": {
      "image/png": "[encoded data removed]",
      "text/plain": [
       "<Figure size 432x288 with 1 Axes>"
      ]
     },
     "metadata": {
      "needs_background": "light"
     },
     "output_type": "display_data"
    },
    {
     "name": "stdout",
     "output_type": "stream",
     "text": [
      "-0.005831324499210999\n",
      "t_min =  -1.0    t_max =  0.9400573603312175\n"
     ]
    }
   ],
   "source": [
    "plt.hist(time, bins=50, range=(-1.2,1.2), histtype='step',ls='solid', alpha = 1.0, lw=3, color= 'r')\n",
    "plt.yscale('log')\n",
    "plt.show()\n",
    "print(np.mean(time))\n",
    "print('t_min = ', np.min(time), '   t_max = ', np.max(time))"
   ]
  },
  {
   "cell_type": "code",
   "execution_count": 8,
   "metadata": {},
   "outputs": [
    {
     "data": {
      "image/png": "[encoded data removed]",
      "text/plain": [
       "<Figure size 432x288 with 1 Axes>"
      ]
     },
     "metadata": {
      "needs_background": "light"
     },
     "output_type": "display_data"
    },
    {
     "name": "stdout",
     "output_type": "stream",
     "text": [
      "theta_min =  -1.0    theta_max =  0.9998041353086622    theta_mean =  0.3358735294146783\n",
      "phi_min =  -1.0    phi_max =  0.9999999259511271    phi_mean =  0.3369297150869582\n"
     ]
    }
   ],
   "source": [
    "plt.hist(theta, bins=50, range=(-1.1, 1.1), histtype='step',ls='solid', alpha = 1.0, lw=3, color= 'r')\n",
    "plt.hist(phi, bins=50, range=(-1.1, 1.1), histtype='step',ls='solid', alpha = 1.0, lw=3, color= 'b')\n",
    "plt.show()\n",
    "print('theta_min = ', np.min(theta), '   theta_max = ', np.max(theta), '   theta_mean = ', np.mean(theta) )\n",
    "print('phi_min = ', np.min(phi), '   phi_max = ', np.max(phi), '   phi_mean = ', np.mean(phi) )"
   ]
  },
  {
   "cell_type": "code",
   "execution_count": 9,
   "metadata": {},
   "outputs": [
    {
     "name": "stdout",
     "output_type": "stream",
     "text": [
      "9000\n",
      "94.86832980505137\n",
      "mean_vtx_x =  0.4293926010719695    sem_vtx_x =  1.416010036510673    rms_vtx_x =  134.33519341370106\n",
      "mean_vtx_y =  -0.6453086455543802    sem_vtx_y =  1.41108165856487    rms_vtx_y =  133.86851551986254\n",
      "mean_vtx_z =  2.3591282301774763    sem_vtx_z =  1.404158510718172    rms_vtx_z =  133.2310609242713\n"
     ]
    },
    {
     "data": {
      "image/png": "[encoded data removed]",
      "text/plain": [
       "<Figure size 432x288 with 1 Axes>"
      ]
     },
     "metadata": {
      "needs_background": "light"
     },
     "output_type": "display_data"
    }
   ],
   "source": [
    "print(vtx1.shape[0])\n",
    "sqrt_n = np.sqrt(vtx1.shape[0])\n",
    "print(sqrt_n)\n",
    "plt.hist(vtx1[:,0], bins=35, range=(-350,350), histtype='step',ls='solid', alpha = 1.0, lw=3, color= 'r')\n",
    "plt.hist(vtx1[:,1], bins=35, range=(-350,350), histtype='step',ls='solid', alpha = 1.0, lw=3, color= 'b')\n",
    "plt.hist(vtx1[:,2], bins=35, range=(-350,350), histtype='step',ls='solid', alpha = 1.0, lw=3, color= 'g')\n",
    "print('mean_vtx_x = ',np.mean(vtx1[:,0]), '   sem_vtx_x = ',np.std(vtx1[:,0])/sqrt_n, '   rms_vtx_x = ',np.sqrt(np.mean(np.square(vtx1[:,0]))) )\n",
    "print('mean_vtx_y = ',np.mean(vtx1[:,1]), '   sem_vtx_y = ',np.std(vtx1[:,1])/sqrt_n, '   rms_vtx_y = ',np.sqrt(np.mean(np.square(vtx1[:,1]))) )\n",
    "print('mean_vtx_z = ',np.mean(vtx1[:,2]), '   sem_vtx_z = ',np.std(vtx1[:,2])/sqrt_n, '   rms_vtx_z = ',np.sqrt(np.mean(np.square(vtx1[:,2]))) )"
   ]
  },
  {
   "cell_type": "code",
   "execution_count": 10,
   "metadata": {},
   "outputs": [
    {
     "name": "stdout",
     "output_type": "stream",
     "text": [
      "9000\n",
      "94.86832980505137\n",
      "mean_dir_x =  -0.007264888721299243    sem_dir_x =  0.006106679537474615    rms_dir_x =  0.5793760379657009\n",
      "mean_dir_y =  0.0019328721847240082    sem_dir_y =  0.006061494731017298    rms_dir_y =  0.5750471296878514\n",
      "mean_dir_z =  -0.006245012613573604    sem_dir_z =  0.0060882875268500995    rms_dir_z =  0.5776194294420248\n"
     ]
    },
    {
     "data": {
      "image/png": "[encoded data removed]",
      "text/plain": [
       "<Figure size 432x288 with 1 Axes>"
      ]
     },
     "metadata": {
      "needs_background": "light"
     },
     "output_type": "display_data"
    }
   ],
   "source": [
    "print(dir1.shape[0])\n",
    "sqrt_n = np.sqrt(vtx1.shape[0])\n",
    "print(sqrt_n)\n",
    "plt.hist(dir1[:,0], bins=22, range=(-1.1,1.1), histtype='step',ls='solid', alpha = 1.0, lw=3, color= 'r')\n",
    "plt.hist(dir1[:,1], bins=22, range=(-1.1,1.1), histtype='step',ls='solid', alpha = 1.0, lw=3, color= 'b')\n",
    "plt.hist(dir1[:,2], bins=22, range=(-1.1,1.1), histtype='step',ls='solid', alpha = 1.0, lw=3, color= 'g')\n",
    "print('mean_dir_x = ',np.mean(dir1[:,0]), '   sem_dir_x = ',np.std(dir1[:,0])/sqrt_n, '   rms_dir_x = ',np.sqrt(np.mean(np.square(dir1[:,0]))) )\n",
    "print('mean_dir_y = ',np.mean(dir1[:,1]), '   sem_dir_y = ',np.std(dir1[:,1])/sqrt_n, '   rms_dir_y = ',np.sqrt(np.mean(np.square(dir1[:,1]))) )\n",
    "print('mean_dir_z = ',np.mean(dir1[:,2]), '   sem_dir_z = ',np.std(dir1[:,2])/sqrt_n, '   rms_dir_z = ',np.sqrt(np.mean(np.square(dir1[:,2]))) )"
   ]
  },
  {
   "cell_type": "code",
   "execution_count": 11,
   "metadata": {},
   "outputs": [
    {
     "data": {
      "text/plain": [
       "(9000,)"
      ]
     },
     "execution_count": 11,
     "metadata": {},
     "output_type": "execute_result"
    }
   ],
   "source": [
    "Rvtx1 = np.sqrt(vtx1[:,0]*vtx1[:,0] + vtx1[:,1]*vtx1[:,1] + vtx1[:,2]*vtx1[:,2]) # calculating length of each vertex point vectors\n",
    "Rvtx1.shape"
   ]
  },
  {
   "cell_type": "code",
   "execution_count": 12,
   "metadata": {},
   "outputs": [
    {
     "data": {
      "text/plain": [
       "(9000, 1)"
      ]
     },
     "execution_count": 12,
     "metadata": {},
     "output_type": "execute_result"
    }
   ],
   "source": [
    "Rvtx1 = Rvtx1.reshape(Rvtx1.shape[0],1) # reshaping for matrix division\n",
    "Rvtx1.shape"
   ]
  },
  {
   "cell_type": "code",
   "execution_count": 13,
   "metadata": {},
   "outputs": [],
   "source": [
    "vtx1 = vtx1/Rvtx1 # normalizing vertex point vectors\n",
    "vtx_dot_dir = np.sum(vtx1*dir1, axis=1) # row-wise dot product"
   ]
  },
  {
   "cell_type": "code",
   "execution_count": 14,
   "metadata": {},
   "outputs": [
    {
     "data": {
      "text/plain": [
       "(array([  0.,   0.,   0.,   0.,   0.,   0.,   0.,   0.,   0.,   0., 442.,\n",
       "        453., 453., 448., 476., 413., 428., 425., 435., 428., 459., 475.,\n",
       "        481., 449., 461., 450., 454., 417., 495., 458.,   0.,   0.,   0.,\n",
       "          0.,   0.,   0.,   0.,   0.,   0.,   0.]),\n",
       " array([-2. , -1.9, -1.8, -1.7, -1.6, -1.5, -1.4, -1.3, -1.2, -1.1, -1. ,\n",
       "        -0.9, -0.8, -0.7, -0.6, -0.5, -0.4, -0.3, -0.2, -0.1,  0. ,  0.1,\n",
       "         0.2,  0.3,  0.4,  0.5,  0.6,  0.7,  0.8,  0.9,  1. ,  1.1,  1.2,\n",
       "         1.3,  1.4,  1.5,  1.6,  1.7,  1.8,  1.9,  2. ]),\n",
       " [<matplotlib.patches.Polygon at 0x7fdc8b4b03a0>])"
      ]
     },
     "execution_count": 14,
     "metadata": {},
     "output_type": "execute_result"
    },
    {
     "data": {
      "image/png": "[encoded data removed]",
      "text/plain": [
       "<Figure size 576x432 with 1 Axes>"
      ]
     },
     "metadata": {
      "needs_background": "light"
     },
     "output_type": "display_data"
    }
   ],
   "source": [
    "plt.figure(figsize=[8,6])\n",
    "plt.hist(vtx_dot_dir, bins=40, range=(-2,2), histtype='step',ls='solid', alpha = 1.0, lw=3, color= 'b')"
   ]
  },
  {
   "cell_type": "code",
   "execution_count": 65,
   "metadata": {},
   "outputs": [
    {
     "data": {
      "text/plain": [
       "134.25331932004127"
      ]
     },
     "execution_count": 65,
     "metadata": {},
     "output_type": "execute_result"
    }
   ],
   "source": [
    "np.std(vtx1[:,0]) - np.sqrt(np.mean(np.square(vtx1[:,0])))\n",
    "np.std(vtx1[:,0], ddof=1)"
   ]
  },
  {
   "cell_type": "code",
   "execution_count": null,
   "metadata": {},
   "outputs": [],
   "source": []
  },
  {
   "cell_type": "code",
   "execution_count": 66,
   "metadata": {},
   "outputs": [
    {
     "data": {
      "text/plain": [
       "134.25309556432262"
      ]
     },
     "execution_count": 66,
     "metadata": {},
     "output_type": "execute_result"
    }
   ],
   "source": [
    "np.std(vtx1[:,0])"
   ]
  },
  {
   "cell_type": "code",
   "execution_count": 67,
   "metadata": {},
   "outputs": [
    {
     "data": {
      "text/plain": [
       "134.25310408901424"
      ]
     },
     "execution_count": 67,
     "metadata": {},
     "output_type": "execute_result"
    }
   ],
   "source": [
    "np.sqrt(np.mean(np.square(vtx1[:,0])))"
   ]
  },
  {
   "cell_type": "code",
   "execution_count": null,
   "metadata": {},
   "outputs": [],
   "source": []
  }
 ],
 "metadata": {
  "kernelspec": {
   "display_name": "Python 3",
   "language": "python",
   "name": "python3"
  },
  "language_info": {
   "codemirror_mode": {
    "name": "ipython",
    "version": 3
   },
   "file_extension": ".py",
   "mimetype": "text/x-python",
   "name": "python",
   "nbconvert_exporter": "python",
   "pygments_lexer": "ipython3",
   "version": "3.8.5"
  }
 },
 "nbformat": 4,
 "nbformat_minor": 4
}
