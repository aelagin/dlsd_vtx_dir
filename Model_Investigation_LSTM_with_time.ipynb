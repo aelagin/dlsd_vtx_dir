{
 "cells": [
  {
   "cell_type": "markdown",
   "metadata": {},
   "source": [
    "## Vertex reconstruction in a large Directional Liquid Scintillator Detector\n",
    "Training data location: https://stash.osgconnect.net/public/elagin/vtx_dir_1el_norm/\n",
    "\n",
    "Testing data location: https://stash.osgconnect.net/public/elagin/test_vtx_dir_1el_norm/\n",
    "\n",
    "Data are .npz files with 3 numpy arrays. Where each row correspond to one event.\n",
    "\n",
    "\"x\" is a (1000,6300) array of \"independent variables\", photo-electron hits (theta, phi, and time). Hit coordinate encoding in each row is the folowing: \\\n",
    "theta = x[:,0::3] \\\n",
    "phi = x[:,1::3] \\\n",
    "time = x[:,2::3] \\\n",
    "All data is normalized as theta = theta/pi, phi = phi/(2pi), time = time/maxT (currently maxT=150). \\\n",
    "Each row in \"x\" is padded with -1 to make it a length of 6300 \n",
    "\n",
    "\"y_vtx\" is a (1000,3) array of \"dependent variable\", true x-,y-,z- coordinates of the event vertex to be reconstructed \\\n",
    "\"y_dir\" is a (1000,3) array of \"dependent variable\", true x-,y-,z- coordinates of the unit vector along the original direction of the electron\n",
    "\n",
    "See checking_inputs.ipynb and checking_inputs_norm.ipynb for more details on the data"
   ]
  },
  {
   "cell_type": "code",
   "execution_count": 1,
   "metadata": {},
   "outputs": [],
   "source": [
    "import os\n",
    "import math\n",
    "\n",
    "import matplotlib.pyplot as plt \n",
    "\n",
    "import numpy as np\n",
    "import pandas as pd\n",
    "import random"
   ]
  },
  {
   "cell_type": "code",
   "execution_count": 2,
   "metadata": {},
   "outputs": [],
   "source": [
    "\n",
    "from keras.models import Sequential, Model\n",
    "from keras.layers import Dense, Activation, Flatten, Reshape, Lambda, Input, Concatenate, concatenate\n",
    "from keras.layers import Conv1D, Conv2D, Conv2DTranspose, UpSampling2D, MaxPooling1D, MaxPooling2D, LocallyConnected2D, LocallyConnected1D\n",
    "from keras.layers import LSTM, Bidirectional\n",
    "from keras.layers import Masking\n",
    "from keras.layers import LeakyReLU, Dropout\n",
    "from keras.layers import BatchNormalization\n",
    "from keras.optimizers import Adam, RMSprop\n",
    "from keras.utils import to_categorical\n",
    "import keras.backend as K"
   ]
  },
  {
   "cell_type": "code",
   "execution_count": 3,
   "metadata": {},
   "outputs": [],
   "source": [
    "#global variables\n",
    "maxT = 37\n",
    "maxLambda = 800\n",
    "PAD_VALUE = -1\n",
    "NEvts = 1000\n",
    "pi = 3.141592653589793\n",
    "NFiles = 100"
   ]
  },
  {
   "cell_type": "markdown",
   "metadata": {},
   "source": [
    "### Custom generator to load large datasets"
   ]
  },
  {
   "cell_type": "code",
   "execution_count": 13,
   "metadata": {},
   "outputs": [],
   "source": [
    "from keras.utils import Sequence\n",
    "from keras.preprocessing.sequence import pad_sequences\n",
    "\n",
    "class MyGenerator(Sequence):\n",
    "    def __init__(self, x_dir, batch_size):\n",
    "        self.x_dir = x_dir\n",
    "        self.x = os.listdir(x_dir)\n",
    "        self.batch_size = batch_size\n",
    "        print('Generator init complete')\n",
    "        \n",
    "    def __len__(self):\n",
    "        nf = self.batch_size/(NEvts) # calculate number of files\n",
    "        return math.ceil(len(self.x) / nf)\n",
    "\n",
    "    def __getitem__(self, idx):\n",
    "        batch_data = np.load(os.path.join(self.x_dir, self.x[idx]))\n",
    "        Y = np.array(batch_data['y_vtx'])\n",
    "        return np.array(batch_data['x']), Y"
   ]
  },
  {
   "cell_type": "code",
   "execution_count": 14,
   "metadata": {},
   "outputs": [
    {
     "name": "stdout",
     "output_type": "stream",
     "text": [
      "Generator init complete\n"
     ]
    }
   ],
   "source": [
    "training_generator = MyGenerator('/data/Elagin/vtxT_dir_1el_norm', NEvts)\n",
    "\n",
    "#testing_generator = MyGenerator('/data/Elagin/test_vtx_dir_1el_color_norm', NEvts)"
   ]
  },
  {
   "cell_type": "markdown",
   "metadata": {},
   "source": [
    "### Loading data that can fit into RAM"
   ]
  },
  {
   "cell_type": "code",
   "execution_count": 4,
   "metadata": {},
   "outputs": [],
   "source": [
    "# Load data from x_dir, stop after loading fn_max files\n",
    "# Returns X, Y, Dir\n",
    "# X - independent variables\n",
    "# Y - dependend variables (x-, y-, z- of the vertex in this implementation)\n",
    "# Dir - direction vector (x-, y-, z- componenets), could be made dependent variable\n",
    "def load_test_data_to_memory(x_dir, fn_max=2000) :\n",
    "    X, Y, Dir = np.array([]), np.array([]), np.array([])\n",
    "    f_list = os.listdir(x_dir)\n",
    "    f_list.sort()\n",
    "    i=0\n",
    "    for x in f_list :\n",
    "        batch_data = np.load(os.path.join(x_dir, x))\n",
    "        \n",
    "        X = np.vstack([X, np.array(batch_data['x'])]) if X.size else np.array(batch_data['x'])\n",
    "        Y = np.vstack([Y, np.array(batch_data['y_vtx'])]) if Y.size else np.array(batch_data['y_vtx'])\n",
    "        Dir = np.vstack([Dir, np.array(batch_data['y_dir'])]) if Dir.size else np.array(batch_data['y_dir'])\n",
    "\n",
    "        i+=1\n",
    "        if i%10 == 0:\n",
    "            print(x)\n",
    "            print('i = ', i, '   ', X.shape, '   ', Y.shape, '   ', Dir.shape)\n",
    "        if i>=fn_max:\n",
    "            break\n",
    "    print(X.shape, '   ', Y.shape, '   ', Dir.shape)\n",
    "    return X, Y, Dir"
   ]
  },
  {
   "cell_type": "code",
   "execution_count": 5,
   "metadata": {},
   "outputs": [
    {
     "name": "stdout",
     "output_type": "stream",
     "text": [
      "(9000, 6300)     (9000, 4)     (9000, 3)\n"
     ]
    }
   ],
   "source": [
    "testX, testY, trueDir = load_test_data_to_memory('/data/Elagin/test_vtxT_dir_1el_norm/')"
   ]
  },
  {
   "cell_type": "code",
   "execution_count": 6,
   "metadata": {},
   "outputs": [
    {
     "name": "stdout",
     "output_type": "stream",
     "text": [
      "f_batch_108.npz\n",
      "i =  10     (10000, 6300)     (10000, 4)     (10000, 3)\n",
      "f_batch_117.npz\n",
      "i =  20     (20000, 6300)     (20000, 4)     (20000, 3)\n",
      "f_batch_126.npz\n",
      "i =  30     (30000, 6300)     (30000, 4)     (30000, 3)\n",
      "f_batch_135.npz\n",
      "i =  40     (40000, 6300)     (40000, 4)     (40000, 3)\n",
      "f_batch_144.npz\n",
      "i =  50     (50000, 6300)     (50000, 4)     (50000, 3)\n",
      "f_batch_153.npz\n",
      "i =  60     (60000, 6300)     (60000, 4)     (60000, 3)\n",
      "f_batch_162.npz\n",
      "i =  70     (70000, 6300)     (70000, 4)     (70000, 3)\n",
      "f_batch_171.npz\n",
      "i =  80     (80000, 6300)     (80000, 4)     (80000, 3)\n",
      "f_batch_180.npz\n",
      "i =  90     (90000, 6300)     (90000, 4)     (90000, 3)\n",
      "f_batch_19.npz\n",
      "i =  100     (100000, 6300)     (100000, 4)     (100000, 3)\n",
      "f_batch_199.npz\n",
      "i =  110     (110000, 6300)     (110000, 4)     (110000, 3)\n",
      "f_batch_29.npz\n",
      "i =  120     (120000, 6300)     (120000, 4)     (120000, 3)\n",
      "f_batch_39.npz\n",
      "i =  130     (130000, 6300)     (130000, 4)     (130000, 3)\n",
      "f_batch_49.npz\n",
      "i =  140     (140000, 6300)     (140000, 4)     (140000, 3)\n",
      "f_batch_59.npz\n",
      "i =  150     (150000, 6300)     (150000, 4)     (150000, 3)\n",
      "f_batch_69.npz\n",
      "i =  160     (160000, 6300)     (160000, 4)     (160000, 3)\n",
      "f_batch_79.npz\n",
      "i =  170     (170000, 6300)     (170000, 4)     (170000, 3)\n",
      "f_batch_89.npz\n",
      "i =  180     (180000, 6300)     (180000, 4)     (180000, 3)\n",
      "f_batch_99.npz\n",
      "i =  190     (190000, 6300)     (190000, 4)     (190000, 3)\n",
      "(190000, 6300)     (190000, 4)     (190000, 3)\n"
     ]
    }
   ],
   "source": [
    "trainX, trainY, trueDir_training = load_test_data_to_memory('/data/Elagin/vtxT_dir_1el_norm/',200)"
   ]
  },
  {
   "cell_type": "markdown",
   "metadata": {},
   "source": [
    "### Defining various activation functions"
   ]
  },
  {
   "cell_type": "code",
   "execution_count": 7,
   "metadata": {},
   "outputs": [],
   "source": [
    "def mapping_to_pmOne(x) :\n",
    "    return 2*K.sigmoid(x) - 1\n",
    "\n",
    "def mapping_to_pm50(x) :\n",
    "    return mapping_to_pmOne(x)*50\n",
    "\n",
    "def mapping_to_pm300(x) :\n",
    "    return mapping_to_pmOne(x)*300\n",
    "\n",
    "def mapping_to_0_50(x) :\n",
    "    return 50*K.sigmoid(x)\n",
    "\n",
    "\n",
    "def mapping_to_target_range_all( x, target_min=-0.02*pi, target_max=2.02*pi ) :\n",
    "    x02 = K.tanh(x) + 1 # x in range(0,2)\n",
    "    scale = ( target_max-target_min )/2.\n",
    "    return  x02 * scale + target_min\n",
    "\n",
    "def mapping_to_target_range_2pi( x, target_min=-0.00*pi, target_max=2.00*pi ) :\n",
    "    x02 = K.tanh(x) + 1 # x in range(0,2)\n",
    "    scale = ( target_max-target_min )/2.\n",
    "    return  x02 * scale + target_min\n",
    "    #return K.sigmoid(x)*target_max\n",
    "\n",
    "def mapping_to_target_range_pi( x, target_min=-0.00*pi, target_max=1.00*pi ) :\n",
    "    x02 = K.tanh(x) + 1 # x in range(0,2)\n",
    "    scale = ( target_max-target_min )/2.\n",
    "    return  x02 * scale + target_min\n",
    "    #return K.sigmoid(x)*target_max\n",
    "\n",
    "def mapping_to_target_range_phi( x, target_min=0, target_max=2*pi ) :\n",
    "    print('is x keras tensor:', K.is_keras_tensor(x))\n",
    "    print('x shape = ',K.int_shape(x))\n",
    "    print('x shape = ',K.shape(x))\n",
    "    #phi = K.placeholder(shape=(None,1))\n",
    "    phi = Input([1])\n",
    "    #theta = K.placeholder(shape=(None,1))\n",
    "    theta = Input([1])\n",
    "    #r = K.placeholder(shape=(None,1))\n",
    "    r = Input([1])\n",
    "    print('phi shape = ',K.int_shape(phi))\n",
    "    print('is phi keras tensor:', K.is_keras_tensor(phi))\n",
    "    phi = K.concatenate([phi, [K.tanh(x[:,1]) + 1]], axis=0) # x in range(0,2)\n",
    "    #phi = K.tanh(x[:,1]) + 1\n",
    "    theta = K.concatenate([theta, [x[:,0]]], axis=0)\n",
    "    #theta = x[:,0]\n",
    "    r = K.concatenate([r, [x[:,2]]], axis=0)\n",
    "    #r = x[:,2]\n",
    "    print('phi shape = ',K.int_shape(phi))\n",
    "    print('is phi keras tensor:', K.is_keras_tensor(phi))\n",
    "    print('theta shape = ',K.int_shape(theta))\n",
    "    print('r shape = ',K.int_shape(r))\n",
    "    scale = ( target_max-target_min )/2.\n",
    "    phi =  phi * scale + target_min\n",
    "    #phi = K.cast(phi, dtype='int32')\n",
    "    #phi = K.reshape(phi, (,1))\n",
    "    print('phi shape = ',K.int_shape(phi))\n",
    "    \n",
    "    res = K.concatenate([theta, phi, r], axis=1)\n",
    "    print('res shape = ',K.int_shape(res))\n",
    "    print('res shape = ',K.shape(res))\n",
    "    print('is res keras tensor:', K.is_keras_tensor(res))\n",
    "    x[:,1].assign(phi)\n",
    "    return x\n",
    "\n",
    "def mapping_to_target_range_phi2( x, target_min=0, target_max=2*pi ) :\n",
    "    scale = ( target_max-target_min )/2.\n",
    "    phi = K.placeholder(shape=(None,1))\n",
    "    #phi = Input([1])\n",
    "    #phi = (K.tanh(x[:,1]) + 1)*scale + target_min\n",
    "    phi = K.concatenate([phi, [(K.tanh(x[:,1]) + 1)*scale + target_min]], axis=0)\n",
    "    x[:,1].assign(phi)\n",
    "    return x"
   ]
  },
  {
   "cell_type": "markdown",
   "metadata": {},
   "source": [
    "### The model"
   ]
  },
  {
   "cell_type": "code",
   "execution_count": 15,
   "metadata": {},
   "outputs": [],
   "source": [
    "def createModel():\n",
    "    N=6300\n",
    "    lstm_seq = 300\n",
    "    lstm_steps = int(N/lstm_seq)\n",
    "    model = Sequential()\n",
    "    \n",
    "    model.add(Reshape(input_shape=(N,), target_shape=(lstm_steps,lstm_seq)))\n",
    "    \n",
    "    model.add(Masking(mask_value=-1, input_shape=(lstm_steps, lstm_seq)))\n",
    "    \n",
    "    model.add(LSTM(75, return_sequences=True, input_shape=(lstm_steps,lstm_seq), dropout=0.0))\n",
    "#     model.add(LSTM(75, return_sequences=True, input_shape=(lstm_steps,lstm_seq), dropout=0.0))\n",
    "#     model.add(LSTM(75, return_sequences=True, input_shape=(lstm_steps,lstm_seq), dropout=0.0))\n",
    "#     model.add(LSTM(75, return_sequences=True, input_shape=(lstm_steps,lstm_seq), dropout=0.0))\n",
    "#     model.add(LSTM(75, return_sequences=True, input_shape=(lstm_steps,lstm_seq), dropout=0.0))\n",
    "#     model.add(LSTM(75, return_sequences=True, input_shape=(lstm_steps,lstm_seq), dropout=0.0))\n",
    "    model.add(LSTM(75, input_shape=(lstm_steps,lstm_seq), dropout=0.0))\n",
    "    \n",
    "    model.add(Dense(256, activation='relu'))\n",
    "    #model.add(Dropout(0.1))\n",
    "    model.add(Dense(256, activation='relu'))\n",
    "    #model.add(Dropout(0.1))\n",
    "    model.add(Dense(4, activation=mapping_to_pm300)) # removing Z component from explicit reconstruction\n",
    "#    model.add(Dense(3, activation=None))\n",
    "    \n",
    "    return model"
   ]
  },
  {
   "cell_type": "code",
   "execution_count": 16,
   "metadata": {},
   "outputs": [],
   "source": [
    "my_network=createModel()"
   ]
  },
  {
   "cell_type": "code",
   "execution_count": 17,
   "metadata": {},
   "outputs": [
    {
     "name": "stdout",
     "output_type": "stream",
     "text": [
      "Model: \"sequential_1\"\n",
      "_________________________________________________________________\n",
      "Layer (type)                 Output Shape              Param #   \n",
      "=================================================================\n",
      "reshape_1 (Reshape)          (None, 21, 300)           0         \n",
      "_________________________________________________________________\n",
      "masking_1 (Masking)          (None, 21, 300)           0         \n",
      "_________________________________________________________________\n",
      "lstm_2 (LSTM)                (None, 21, 75)            112800    \n",
      "_________________________________________________________________\n",
      "lstm_3 (LSTM)                (None, 75)                45300     \n",
      "_________________________________________________________________\n",
      "dense_3 (Dense)              (None, 256)               19456     \n",
      "_________________________________________________________________\n",
      "dense_4 (Dense)              (None, 256)               65792     \n",
      "_________________________________________________________________\n",
      "dense_5 (Dense)              (None, 4)                 1028      \n",
      "=================================================================\n",
      "Total params: 244,376\n",
      "Trainable params: 244,376\n",
      "Non-trainable params: 0\n",
      "_________________________________________________________________\n"
     ]
    }
   ],
   "source": [
    "my_network.summary()"
   ]
  },
  {
   "cell_type": "markdown",
   "metadata": {},
   "source": [
    "### Run the model"
   ]
  },
  {
   "cell_type": "code",
   "execution_count": 45,
   "metadata": {},
   "outputs": [
    {
     "name": "stdout",
     "output_type": "stream",
     "text": [
      "Epoch 1/100\n",
      "190/190 [==============================] - 8s 44ms/step - loss: 38.3154 - val_loss: 39.3194\n",
      "Epoch 2/100\n",
      "190/190 [==============================] - 7s 36ms/step - loss: 35.3127 - val_loss: 39.4929\n",
      "Epoch 3/100\n",
      "190/190 [==============================] - 11s 57ms/step - loss: 35.4780 - val_loss: 39.0967\n",
      "Epoch 4/100\n",
      "190/190 [==============================] - 9s 46ms/step - loss: 35.6229 - val_loss: 39.2035\n",
      "Epoch 5/100\n",
      "190/190 [==============================] - 8s 40ms/step - loss: 35.6446 - val_loss: 39.2726\n",
      "Epoch 6/100\n",
      "190/190 [==============================] - 9s 46ms/step - loss: 35.6551 - val_loss: 39.6730\n",
      "Epoch 7/100\n",
      "190/190 [==============================] - 9s 46ms/step - loss: 35.9105 - val_loss: 39.6672\n",
      "Epoch 8/100\n",
      "190/190 [==============================] - 8s 45ms/step - loss: 35.7098 - val_loss: 40.3887\n",
      "Epoch 9/100\n",
      "190/190 [==============================] - 8s 44ms/step - loss: 35.8609 - val_loss: 39.6335\n",
      "Epoch 10/100\n",
      "190/190 [==============================] - 9s 45ms/step - loss: 35.6585 - val_loss: 41.8779\n",
      "Epoch 11/100\n",
      "190/190 [==============================] - 8s 43ms/step - loss: 35.8432 - val_loss: 40.4109\n",
      "Epoch 12/100\n",
      "190/190 [==============================] - 7s 38ms/step - loss: 35.6212 - val_loss: 39.3460\n",
      "Epoch 13/100\n",
      "190/190 [==============================] - 8s 43ms/step - loss: 35.5107 - val_loss: 39.5683\n",
      "Epoch 14/100\n",
      "190/190 [==============================] - 8s 42ms/step - loss: 35.8141 - val_loss: 39.3947\n",
      "Epoch 15/100\n",
      "190/190 [==============================] - 8s 43ms/step - loss: 36.1758 - val_loss: 39.1018\n",
      "Epoch 16/100\n",
      "190/190 [==============================] - 9s 47ms/step - loss: 35.4867 - val_loss: 39.2820\n",
      "Epoch 17/100\n",
      "190/190 [==============================] - 8s 43ms/step - loss: 35.4501 - val_loss: 39.2811\n",
      "Epoch 18/100\n",
      "190/190 [==============================] - 7s 39ms/step - loss: 35.6660 - val_loss: 40.0198\n",
      "Epoch 19/100\n",
      "190/190 [==============================] - 8s 44ms/step - loss: 35.6362 - val_loss: 39.6307\n",
      "Epoch 20/100\n",
      "190/190 [==============================] - 8s 44ms/step - loss: 35.5967 - val_loss: 39.3516\n",
      "Epoch 21/100\n",
      "190/190 [==============================] - 8s 41ms/step - loss: 35.5039 - val_loss: 38.8237\n",
      "Epoch 22/100\n",
      "190/190 [==============================] - 8s 40ms/step - loss: 35.5950 - val_loss: 38.5376\n",
      "Epoch 23/100\n",
      "190/190 [==============================] - 9s 46ms/step - loss: 35.3228 - val_loss: 40.1985\n",
      "Epoch 24/100\n",
      "190/190 [==============================] - 8s 43ms/step - loss: 35.3896 - val_loss: 39.2519\n",
      "Epoch 25/100\n",
      "190/190 [==============================] - 8s 42ms/step - loss: 35.4408 - val_loss: 40.9562\n",
      "Epoch 26/100\n",
      "190/190 [==============================] - 8s 42ms/step - loss: 35.7173 - val_loss: 39.8873\n",
      "Epoch 27/100\n",
      "190/190 [==============================] - 8s 44ms/step - loss: 35.5793 - val_loss: 39.1363\n",
      "Epoch 28/100\n",
      "190/190 [==============================] - 7s 38ms/step - loss: 35.2989 - val_loss: 38.6449\n",
      "Epoch 29/100\n",
      "190/190 [==============================] - 9s 46ms/step - loss: 35.4100 - val_loss: 40.5921\n",
      "Epoch 30/100\n",
      "190/190 [==============================] - 8s 41ms/step - loss: 35.2710 - val_loss: 38.7897\n",
      "Epoch 31/100\n",
      "190/190 [==============================] - 7s 37ms/step - loss: 35.3314 - val_loss: 38.5831\n",
      "Epoch 32/100\n",
      "190/190 [==============================] - 8s 44ms/step - loss: 35.3769 - val_loss: 39.1830\n",
      "Epoch 33/100\n",
      "190/190 [==============================] - 8s 40ms/step - loss: 35.0141 - val_loss: 38.8918\n",
      "Epoch 34/100\n",
      "190/190 [==============================] - 8s 41ms/step - loss: 35.0466 - val_loss: 39.0563\n",
      "Epoch 35/100\n",
      "190/190 [==============================] - 8s 44ms/step - loss: 35.1725 - val_loss: 40.5258\n",
      "Epoch 36/100\n",
      "190/190 [==============================] - 7s 37ms/step - loss: 35.2939 - val_loss: 39.0566\n",
      "Epoch 37/100\n",
      "190/190 [==============================] - 9s 45ms/step - loss: 35.3573 - val_loss: 39.1474\n",
      "Epoch 38/100\n",
      "190/190 [==============================] - 8s 40ms/step - loss: 35.3443 - val_loss: 38.2267\n",
      "Epoch 39/100\n",
      "190/190 [==============================] - 7s 38ms/step - loss: 35.1780 - val_loss: 38.6526\n",
      "Epoch 40/100\n",
      "190/190 [==============================] - 8s 41ms/step - loss: 34.9674 - val_loss: 38.6052\n",
      "Epoch 41/100\n",
      "190/190 [==============================] - 8s 40ms/step - loss: 35.1070 - val_loss: 39.6538\n",
      "Epoch 42/100\n",
      "190/190 [==============================] - 7s 37ms/step - loss: 35.0354 - val_loss: 38.2562\n",
      "Epoch 43/100\n",
      "190/190 [==============================] - 8s 43ms/step - loss: 34.9105 - val_loss: 38.5611\n",
      "Epoch 44/100\n",
      "190/190 [==============================] - 7s 39ms/step - loss: 34.9943 - val_loss: 38.6208\n",
      "Epoch 45/100\n",
      "190/190 [==============================] - 7s 38ms/step - loss: 35.0123 - val_loss: 38.3245\n",
      "Epoch 46/100\n",
      "190/190 [==============================] - 8s 42ms/step - loss: 35.0778 - val_loss: 38.5172\n",
      "Epoch 47/100\n",
      "190/190 [==============================] - 7s 38ms/step - loss: 35.0005 - val_loss: 40.1154\n",
      "Epoch 48/100\n",
      "190/190 [==============================] - 8s 41ms/step - loss: 35.3329 - val_loss: 39.1487\n",
      "Epoch 49/100\n",
      "190/190 [==============================] - 7s 38ms/step - loss: 34.8423 - val_loss: 38.4815\n",
      "Epoch 50/100\n",
      "190/190 [==============================] - 7s 39ms/step - loss: 34.7637 - val_loss: 39.3520\n",
      "Epoch 51/100\n",
      "190/190 [==============================] - 7s 38ms/step - loss: 34.8783 - val_loss: 39.5675\n",
      "Epoch 52/100\n",
      "190/190 [==============================] - 7s 38ms/step - loss: 34.7406 - val_loss: 40.2120\n",
      "Epoch 53/100\n",
      "190/190 [==============================] - 8s 42ms/step - loss: 34.9065 - val_loss: 39.1688\n",
      "Epoch 54/100\n",
      "190/190 [==============================] - 7s 36ms/step - loss: 34.5882 - val_loss: 38.5615\n",
      "Epoch 55/100\n",
      "190/190 [==============================] - 8s 40ms/step - loss: 34.9498 - val_loss: 38.4341\n",
      "Epoch 56/100\n",
      "190/190 [==============================] - 7s 37ms/step - loss: 34.8864 - val_loss: 38.3934\n",
      "Epoch 57/100\n",
      "190/190 [==============================] - 8s 41ms/step - loss: 34.9972 - val_loss: 38.7029\n",
      "Epoch 58/100\n",
      "190/190 [==============================] - 7s 38ms/step - loss: 34.5730 - val_loss: 39.7386\n",
      "Epoch 59/100\n",
      "190/190 [==============================] - 9s 45ms/step - loss: 34.8107 - val_loss: 39.1532\n",
      "Epoch 60/100\n",
      "190/190 [==============================] - 7s 38ms/step - loss: 34.6489 - val_loss: 39.1957\n",
      "Epoch 61/100\n",
      "190/190 [==============================] - 8s 41ms/step - loss: 34.8316 - val_loss: 38.7114\n",
      "Epoch 62/100\n",
      "190/190 [==============================] - 7s 38ms/step - loss: 34.5082 - val_loss: 39.0298\n",
      "Epoch 63/100\n",
      "190/190 [==============================] - 8s 40ms/step - loss: 34.6523 - val_loss: 38.9104\n",
      "Epoch 64/100\n",
      "190/190 [==============================] - 7s 39ms/step - loss: 34.5702 - val_loss: 38.0327\n",
      "Epoch 65/100\n",
      "190/190 [==============================] - 7s 39ms/step - loss: 34.6497 - val_loss: 38.4963\n",
      "Epoch 66/100\n",
      "190/190 [==============================] - 8s 40ms/step - loss: 34.9383 - val_loss: 38.1275\n",
      "Epoch 67/100\n",
      "190/190 [==============================] - 7s 38ms/step - loss: 34.4082 - val_loss: 38.2343\n",
      "Epoch 68/100\n",
      "190/190 [==============================] - 7s 39ms/step - loss: 34.3922 - val_loss: 38.3046\n",
      "Epoch 69/100\n",
      "190/190 [==============================] - 7s 36ms/step - loss: 34.6059 - val_loss: 39.0277\n",
      "Epoch 70/100\n",
      "190/190 [==============================] - 8s 41ms/step - loss: 34.8166 - val_loss: 37.8751\n",
      "Epoch 71/100\n",
      "190/190 [==============================] - 7s 37ms/step - loss: 34.5559 - val_loss: 39.1399\n",
      "Epoch 72/100\n",
      "190/190 [==============================] - 8s 41ms/step - loss: 34.3939 - val_loss: 38.4887\n",
      "Epoch 73/100\n",
      "190/190 [==============================] - 7s 37ms/step - loss: 34.4192 - val_loss: 38.2564\n",
      "Epoch 74/100\n",
      "190/190 [==============================] - 8s 41ms/step - loss: 34.4271 - val_loss: 38.3585\n",
      "Epoch 75/100\n",
      "190/190 [==============================] - 7s 37ms/step - loss: 34.2691 - val_loss: 38.2112\n",
      "Epoch 76/100\n",
      "190/190 [==============================] - 8s 43ms/step - loss: 34.3988 - val_loss: 38.0216\n",
      "Epoch 77/100\n",
      "190/190 [==============================] - 7s 36ms/step - loss: 34.5444 - val_loss: 38.6941\n",
      "Epoch 78/100\n",
      "190/190 [==============================] - 8s 41ms/step - loss: 34.3687 - val_loss: 38.8046\n",
      "Epoch 79/100\n",
      "190/190 [==============================] - 7s 39ms/step - loss: 34.4106 - val_loss: 38.1027\n",
      "Epoch 80/100\n",
      "190/190 [==============================] - 7s 38ms/step - loss: 34.7668 - val_loss: 38.4633\n",
      "Epoch 81/100\n",
      "190/190 [==============================] - 8s 40ms/step - loss: 34.1986 - val_loss: 39.4593\n",
      "Epoch 82/100\n",
      "190/190 [==============================] - 7s 37ms/step - loss: 34.1565 - val_loss: 38.4827\n",
      "Epoch 83/100\n",
      "190/190 [==============================] - 8s 43ms/step - loss: 34.7601 - val_loss: 38.0406\n",
      "Epoch 84/100\n",
      "190/190 [==============================] - 7s 39ms/step - loss: 34.2093 - val_loss: 38.4434\n",
      "Epoch 85/100\n",
      "190/190 [==============================] - 8s 40ms/step - loss: 34.0098 - val_loss: 37.6590\n",
      "Epoch 86/100\n",
      "190/190 [==============================] - 7s 38ms/step - loss: 34.0388 - val_loss: 38.2031\n",
      "Epoch 87/100\n",
      "190/190 [==============================] - 7s 39ms/step - loss: 34.3799 - val_loss: 38.8640\n",
      "Epoch 88/100\n",
      "190/190 [==============================] - 7s 38ms/step - loss: 34.1536 - val_loss: 38.1760\n",
      "Epoch 89/100\n",
      "190/190 [==============================] - 8s 40ms/step - loss: 34.5670 - val_loss: 38.4089\n",
      "Epoch 90/100\n",
      "190/190 [==============================] - 7s 39ms/step - loss: 34.1637 - val_loss: 37.7097\n",
      "Epoch 91/100\n",
      "190/190 [==============================] - 7s 38ms/step - loss: 34.1702 - val_loss: 39.0472\n",
      "Epoch 92/100\n",
      "190/190 [==============================] - 7s 36ms/step - loss: 33.9874 - val_loss: 37.7750\n",
      "Epoch 93/100\n",
      "190/190 [==============================] - 8s 40ms/step - loss: 34.3854 - val_loss: 38.2760\n",
      "Epoch 94/100\n",
      "190/190 [==============================] - 7s 36ms/step - loss: 34.1949 - val_loss: 37.7625\n",
      "Epoch 95/100\n",
      "190/190 [==============================] - 8s 42ms/step - loss: 33.9924 - val_loss: 39.1480\n",
      "Epoch 96/100\n",
      "190/190 [==============================] - 7s 37ms/step - loss: 34.3323 - val_loss: 39.5292\n",
      "Epoch 97/100\n",
      "190/190 [==============================] - 8s 41ms/step - loss: 33.9594 - val_loss: 38.5590\n",
      "Epoch 98/100\n",
      "190/190 [==============================] - 7s 37ms/step - loss: 34.0867 - val_loss: 37.8839\n",
      "Epoch 99/100\n",
      "190/190 [==============================] - 8s 43ms/step - loss: 34.1747 - val_loss: 38.1060\n",
      "Epoch 100/100\n",
      "190/190 [==============================] - 7s 37ms/step - loss: 33.9901 - val_loss: 37.8581\n"
     ]
    }
   ],
   "source": [
    "batch_size = NEvts\n",
    "epochs = 100\n",
    "\n",
    "def mean_abs_theta_vtx(y_true, y_pred):\n",
    "    return K.mean(K.abs(y_true[:,0] - y_pred[:,0]))\n",
    "def mean_abs_phi_vtx(y_true, y_pred):\n",
    "    return K.mean(K.abs(y_true[:,1] - y_pred[:,1]))\n",
    "def mean_abs_r_vtx(y_true, y_pred):\n",
    "    return K.mean(K.abs(y_true[:,2] - y_pred[:,2]))\n",
    "def mean_abs_theta_dir(y_true, y_pred):\n",
    "    return K.mean(K.abs(y_true[:,3] - y_pred[:,3]))\n",
    "def mean_abs_phi_dir(y_true, y_pred):\n",
    "    return K.mean(K.abs(y_true[:,4] - y_pred[:,4]))\n",
    "\n",
    "def loss_by_R_square(y_true, y_pred):\n",
    "    return K.mean(K.square(y_true[:,0] - y_pred[:,0])+\n",
    "                  K.square(y_true[:,1] - y_pred[:,1])+\n",
    "                  K.square(y_true[:,2] - y_pred[:,2]) )\n",
    "\n",
    "my_network.compile(optimizer=Adam(lr=1e-4), loss='mean_squared_error')#, \n",
    "                                            #loss = loss_by_R_square)\n",
    "                   #metrics=['mean_squared_error', mean_abs_theta_vtx, mean_abs_phi_vtx, mean_abs_r_vtx])#, \n",
    "                                                  #mean_abs_theta_dir, mean_abs_phi_dir])\n",
    "\n",
    "my_network.load_weights(\"weights_vtx_with_time_2LSTM75_6300_300_f190_lr1e-4_N3.h5\")\n",
    "#my_network.load_weights(\"weights_vtx_dir_1el_7xLSTM75_6300_300_f1930_lr1e-5_N10.h5\")\n",
    "\n",
    "\n",
    "#history = my_network.fit_generator(generator=training_generator, epochs=epochs, validation_data=(testX, testY)) \n",
    "\n",
    "history = my_network.fit(trainX, trainY, batch_size=1000, epochs=epochs, verbose=1, validation_data=(testX, testY))\n"
   ]
  },
  {
   "cell_type": "code",
   "execution_count": 46,
   "metadata": {},
   "outputs": [],
   "source": [
    "#my_network.save_weights(\"weights_vtx_dir_1el_color_2xLSTM75_8400_400_f250_lr1e-5_N5.h5\")\n",
    "my_network.save_weights(\"weights_vtx_with_time_2LSTM75_6300_300_f190_lr1e-4_N4.h5\")"
   ]
  },
  {
   "cell_type": "code",
   "execution_count": 47,
   "metadata": {},
   "outputs": [
    {
     "data": {
      "text/plain": [
       "Text(0.5, 1.0, 'Loss Curves')"
      ]
     },
     "execution_count": 47,
     "metadata": {},
     "output_type": "execute_result"
    },
    {
     "data": {
      "image/png": "[encoded data removed]",
      "text/plain": [
       "<Figure size 576x432 with 1 Axes>"
      ]
     },
     "metadata": {
      "needs_background": "light"
     },
     "output_type": "display_data"
    }
   ],
   "source": [
    "# Loss Curves\n",
    "plt.figure(figsize=[8,6])\n",
    "plt.plot(history.history['loss'],'r',linewidth=3.0)\n",
    "plt.plot(history.history['val_loss'],'b',linewidth=3.0)\n",
    "plt.legend(['Training loss', 'Validation Loss'],fontsize=18)\n",
    "plt.xlabel('Epochs ',fontsize=16)\n",
    "plt.ylabel('Loss',fontsize=16)\n",
    "plt.title('Loss Curves',fontsize=16)\n",
    " "
   ]
  },
  {
   "cell_type": "code",
   "execution_count": 48,
   "metadata": {},
   "outputs": [
    {
     "name": "stdout",
     "output_type": "stream",
     "text": [
      "shape recoY =  (9000, 4)    shape testY =  (9000, 4)\n",
      "(9000,)   dR_mean =  11.163185561463669\n",
      "(9000,)\n",
      "(9000, 4)\n",
      "dY:  [[-2.71651057  8.02308528 -2.10839115 -0.01707268]\n",
      " [10.96482649 -3.53853007 -5.52435745 -0.19876099]\n",
      " [ 2.2918874   0.1954381  -3.98419454  0.16851234]]\n",
      "dY_norm:  [[-0.31120688  0.91913477 -0.24153995 -0.00195587]\n",
      " [ 0.85812859 -0.27693223 -0.43234693 -0.01555542]\n",
      " [ 0.49818048  0.04248178 -0.86603205  0.03662901]]\n",
      "(9000,)\n"
     ]
    }
   ],
   "source": [
    "recoY = my_network.predict(testX)\n",
    "\n",
    "print('shape recoY = ', recoY.shape, '   shape testY = ', testY.shape)\n",
    "\n",
    "dY = recoY - testY\n",
    "dY0 = recoY[:,0] - testY[:,0]\n",
    "dY1 = recoY[:,1] - testY[:,1]\n",
    "dY2 = recoY[:,2] - testY[:,2]\n",
    "dY3 = recoY[:,3] - testY[:,3]\n",
    "dR = np.sqrt((recoY[:,0] - testY[:,0])*(recoY[:,0] - testY[:,0]) + (recoY[:,1] - testY[:,1])*(recoY[:,1] - testY[:,1]) + (recoY[:,2] - testY[:,2])*(recoY[:,2] - testY[:,2]) )\n",
    "print(dR.shape, '  dR_mean = ', np.mean(dR))\n",
    "R_true = np.sqrt(testY[:,0]*testY[:,0] + testY[:,1]*testY[:,1] + testY[:,2]*testY[:,2])\n",
    "print(R_true.shape)\n",
    "print(testY.shape)\n",
    "\n",
    "print('dY: ',dY[0:3,:])\n",
    "dRb = dR.reshape(dR.shape[0],1)\n",
    "dY = dY/dRb\n",
    "print('dY_norm: ',dY[0:3,:])\n",
    "#np.random.shuffle(trueDir)\n",
    "dYnoT = np.delete(dY,3,1) # CREATING a NEW dY1 VECTOR WITHOUT TIME COMPONENT \n",
    "vtx_dot_dir = np.sum(dYnoT*trueDir, axis=1)\n",
    "print(vtx_dot_dir.shape)"
   ]
  },
  {
   "cell_type": "code",
   "execution_count": 49,
   "metadata": {},
   "outputs": [
    {
     "data": {
      "text/plain": [
       "Text(0.5, 0, 'Dot product between Vtx(bias) and Dir(el)')"
      ]
     },
     "execution_count": 49,
     "metadata": {},
     "output_type": "execute_result"
    },
    {
     "data": {
      "image/png": "[encoded data removed]",
      "text/plain": [
       "<Figure size 720x576 with 1 Axes>"
      ]
     },
     "metadata": {
      "needs_background": "light"
     },
     "output_type": "display_data"
    }
   ],
   "source": [
    "plt.figure(figsize=[10,8])\n",
    "plt.hist(vtx_dot_dir, bins=60, range=(-1.5,1.5), histtype='step',ls='solid', alpha = 1.0, lw=3, color= 'b')\n",
    "plt.title('Correlation between the bias in vertex reconstruction and initial direction of the electron', fontsize=18)\n",
    "plt.xlabel('Dot product between Vtx(bias) and Dir(el)', fontsize=16)"
   ]
  },
  {
   "cell_type": "code",
   "execution_count": 52,
   "metadata": {},
   "outputs": [
    {
     "name": "stdout",
     "output_type": "stream",
     "text": [
      "MSE =  37.85806739391098\n",
      "MSE2 =  37.85806739391098\n",
      "dY0_Mean_vtx =  0.2587978279797474    dY1_Mean_vtx =  0.5687879392451676    dY2_Mean_vtx =  0.22888646525497486\n",
      "dY0_Rms_vtx =  8.223078469220289     dY1_Rms_vtx =  6.863267959098286     dY2_Rms_vtx =  6.0496745202227755\n",
      "resolution_vtx =  12.301301898172083\n",
      "reco_Y1_vtx =  [  96.41762    89.7166   -103.550735 ...  -92.92084   151.057\n",
      "  170.68634 ]\n",
      "test_Y1_vtx =  [  88.39453251   93.25512858 -103.74617358 ...  -95.89908356  147.26501423\n",
      "  174.45347208]\n",
      "\n",
      "\n",
      "Mean_true_vtx_0 =  0.4293926010719695    Mean_true_vtx_1 =  -0.6453086455543802 Mean_true_vtx_2 =  2.3591282301774763\n",
      "RMS_true_vtx_0 =  134.33519341370106    RMS_true_vtx_1 =  133.86851551986254   RMS_true_vtx_2 =  133.2310609242713\n"
     ]
    },
    {
     "data": {
      "image/png": "[encoded data removed]",
      "text/plain": [
       "<Figure size 720x576 with 1 Axes>"
      ]
     },
     "metadata": {
      "needs_background": "light"
     },
     "output_type": "display_data"
    },
    {
     "data": {
      "image/png": "[encoded data removed]",
      "text/plain": [
       "<Figure size 720x576 with 1 Axes>"
      ]
     },
     "metadata": {
      "needs_background": "light"
     },
     "output_type": "display_data"
    },
    {
     "data": {
      "image/png": "[encoded data removed]",
      "text/plain": [
       "<Figure size 432x288 with 1 Axes>"
      ]
     },
     "metadata": {
      "needs_background": "light"
     },
     "output_type": "display_data"
    },
    {
     "data": {
      "image/png": "[encoded data removed]",
      "text/plain": [
       "<Figure size 432x288 with 1 Axes>"
      ]
     },
     "metadata": {
      "needs_background": "light"
     },
     "output_type": "display_data"
    },
    {
     "data": {
      "image/png": "[encoded data removed]",
      "text/plain": [
       "<Figure size 432x288 with 1 Axes>"
      ]
     },
     "metadata": {
      "needs_background": "light"
     },
     "output_type": "display_data"
    },
    {
     "data": {
      "image/png": "[encoded data removed]",
      "text/plain": [
       "<Figure size 432x288 with 1 Axes>"
      ]
     },
     "metadata": {
      "needs_background": "light"
     },
     "output_type": "display_data"
    }
   ],
   "source": [
    "MSE = np.mean( (recoY.flatten()[:] - testY.flatten()[:])*(recoY.flatten()[:] - testY.flatten()[:]) )\n",
    "print('MSE = ', MSE)\n",
    "\n",
    "#MSE2 = np.mean(np.square(recoY - testY), axis=-1)\n",
    "MSE2 = np.mean(np.square(recoY.flatten()[:] - testY.flatten()[:]), axis=-1)\n",
    "print('MSE2 = ', MSE2)\n",
    "\n",
    "#dTheta_dir = recoY[:,3] - testY[:,3]\n",
    "#dPhi_dir = recoY[:,4] - testY[:,4]\n",
    "print('dY0_Mean_vtx = ' ,np.mean(dY0), '   dY1_Mean_vtx = ', np.mean(dY1), '   dY2_Mean_vtx = ' ,np.mean(dY2))\n",
    "print('dY0_Rms_vtx = ',np.sqrt(np.mean(np.square(dY0))), '    dY1_Rms_vtx = ',np.sqrt(np.mean(np.square(dY1))), '    dY2_Rms_vtx = ',np.sqrt(np.mean(np.square(dY2))))\n",
    "print('resolution_vtx = ', np.sqrt(np.mean(np.square(dY0)) + np.mean(np.square(dY1)) + np.mean(np.square(dY2)) ) )\n",
    "#print('ThetaMean_dir = ',np.mean(dTheta_dir),'   PhiMean_dir = ',np.mean(dPhi_dir))\n",
    "#print('ThetaRms_dir = ',np.sqrt(np.mean(np.square(dTheta_dir))), '   PhiRms_dir = ',np.sqrt(np.mean(np.square(dPhi_dir))))\n",
    "\n",
    "print('reco_Y1_vtx = ',recoY[:,1])\n",
    "print('test_Y1_vtx = ',testY[:,1])\n",
    "print('')\n",
    "print('')\n",
    "\n",
    "\n",
    "#fig_scatt = plt.figure()\n",
    "#plt.scatter(R_true, dR)\n",
    "\n",
    "fig_dYs = plt.figure(figsize=[10,8])\n",
    "plt.hist(dY0, bins=40, range=(-20,20), histtype='step',ls='solid', alpha = 1.0, lw=3, color= 'r')\n",
    "plt.hist(dY1, bins=40, range=(-20,20), histtype='step',ls='solid', alpha = 1.0, lw=3, color= 'g')\n",
    "plt.hist(dY2, bins=40, range=(-20,20), histtype='step',ls='solid', alpha = 1.0, lw=3, color= 'b')\n",
    "plt.title('Vertex Reconstruction',fontsize=18)\n",
    "plt.xlabel('Vtx(reco) - Vtx(true) [cm]',fontsize=16)\n",
    "\n",
    "fig_dT = plt.figure(figsize=[10,8])\n",
    "plt.hist(dY3, bins=40, range=(-2,2), histtype='step',ls='solid', alpha = 1.0, lw=3, color= 'b')\n",
    "plt.title('Time Reconstruction',fontsize=18)\n",
    "plt.xlabel('vtxTime(reco) - vtxTime(true) [ns]',fontsize=16)\n",
    "\n",
    "\n",
    "fig_Y0s = plt.figure()\n",
    "plt.hist(recoY[:,0], bins=50, range=(-500,500), histtype='step',ls='--', alpha = 1.0, lw=3, color= 'r')\n",
    "plt.hist(testY[:,0], bins=50, range=(-500,500), histtype='step',ls='solid', alpha = 1.0, lw=3, color= 'r')\n",
    "fig_Y1s = plt.figure()\n",
    "plt.hist(recoY[:,1], bins=50, range=(-500,500), histtype='step',ls='--', alpha = 1.0, lw=3, color= 'g')\n",
    "plt.hist(testY[:,1], bins=50, range=(-500,500), histtype='step',ls='solid', alpha = 1.0, lw=3, color= 'g')\n",
    "fig_Y2s = plt.figure()\n",
    "plt.hist(recoY[:,2], bins=50, range=(-500,500), histtype='step',ls='--', alpha = 1.0, lw=3, color= 'b')\n",
    "plt.hist(testY[:,2], bins=50, range=(-500,500), histtype='step',ls='solid', alpha = 1.0, lw=3, color= 'b')\n",
    "fig_Y3s = plt.figure()\n",
    "plt.hist(recoY[:,3], bins=50, range=(10,40), histtype='step',ls='--', alpha = 1.0, lw=3, color= 'r')\n",
    "plt.hist(testY[:,3], bins=50, range=(10,40), histtype='step',ls='solid', alpha = 1.0, lw=3, color= 'r')\n",
    "\n",
    "\n",
    "\n",
    "print('Mean_true_vtx_0 = ', np.mean(testY[:,0]), '   Mean_true_vtx_1 = ' , np.mean(testY[:,1]), 'Mean_true_vtx_2 = ', np.mean(testY[:,2]))\n",
    "print('RMS_true_vtx_0 = ' , np.sqrt(np.mean(np.square(testY[:,0]))), '   RMS_true_vtx_1 = ' , np.sqrt(np.mean(np.square(testY[:,1]))), '  RMS_true_vtx_2 = ', np.sqrt(np.mean(np.square(testY[:,2]))) )"
   ]
  },
  {
   "cell_type": "code",
   "execution_count": 51,
   "metadata": {
    "scrolled": true
   },
   "outputs": [
    {
     "name": "stdout",
     "output_type": "stream",
     "text": [
      "shape recoY =  (9000, 4)    shape testY =  (9000, 4)\n",
      "ThetaMean_vtx =  0.5687879392451676\n"
     ]
    },
    {
     "data": {
      "text/plain": [
       "(array([ 99., 128., 112., 114., 110., 118., 127., 104., 112., 117.,  94.,\n",
       "        102.,  95., 115., 122.,  96.,  91., 123., 111., 111.]),\n",
       " array([-50., -45., -40., -35., -30., -25., -20., -15., -10.,  -5.,   0.,\n",
       "          5.,  10.,  15.,  20.,  25.,  30.,  35.,  40.,  45.,  50.]),\n",
       " [<matplotlib.patches.Polygon at 0x7fc5dc238df0>])"
      ]
     },
     "execution_count": 51,
     "metadata": {},
     "output_type": "execute_result"
    },
    {
     "data": {
      "image/png": "[encoded data removed]",
      "text/plain": [
       "<Figure size 432x288 with 1 Axes>"
      ]
     },
     "metadata": {
      "needs_background": "light"
     },
     "output_type": "display_data"
    },
    {
     "data": {
      "image/png": "[encoded data removed]",
      "text/plain": [
       "<Figure size 432x288 with 1 Axes>"
      ]
     },
     "metadata": {
      "needs_background": "light"
     },
     "output_type": "display_data"
    },
    {
     "data": {
      "image/png": "[encoded data removed]",
      "text/plain": [
       "<Figure size 432x288 with 1 Axes>"
      ]
     },
     "metadata": {
      "needs_background": "light"
     },
     "output_type": "display_data"
    },
    {
     "data": {
      "image/png": "[encoded data removed]",
      "text/plain": [
       "<Figure size 432x288 with 1 Axes>"
      ]
     },
     "metadata": {
      "needs_background": "light"
     },
     "output_type": "display_data"
    }
   ],
   "source": [
    "recoY = my_network.predict(testX)\n",
    "\n",
    "print('shape recoY = ', recoY.shape, '   shape testY = ', testY.shape)\n",
    "\n",
    "\n",
    "dTheta_vtx = recoY[:,1] - testY[:,1]\n",
    "print('ThetaMean_vtx = ',np.mean(dTheta_vtx))\n",
    "\n",
    "fig1 = plt.figure()\n",
    "plt.hist(dTheta_vtx, bins=40, range=(-20,20), histtype='step',ls='solid', alpha = 1.0, lw=3, color= 'r')\n",
    "\n",
    "fig_sinT = plt.figure()\n",
    "plt.hist(recoY[:,0], bins=20, range=(-50,50), histtype='step',ls='--', alpha = 1.0, lw=3, color= 'r')\n",
    "plt.hist(testY[:,0], bins=20, range=(-50,50), histtype='step',ls='solid', alpha = 1.0, lw=3, color= 'r')\n",
    "\n",
    "fig_cosT = plt.figure()\n",
    "plt.hist(recoY[:,1], bins=20, range=(-50,50), histtype='step',ls='--', alpha = 1.0, lw=3, color= 'g')\n",
    "plt.hist(testY[:,1], bins=20, range=(-50,50), histtype='step',ls='solid', alpha = 1.0, lw=3, color= 'g')\n",
    "\n",
    "fig_sinP = plt.figure()\n",
    "plt.hist(recoY[:,2], bins=20, range=(-50,50), histtype='step',ls='--', alpha = 1.0, lw=3, color= 'r')\n",
    "plt.hist(testY[:,2], bins=20, range=(-50,50), histtype='step',ls='solid', alpha = 1.0, lw=3, color= 'r')\n",
    "\n",
    "#fig_cosP = plt.figure()\n",
    "#plt.hist(recoY[:,3], bins=20, range=(-12,12), histtype='step',ls='--', alpha = 1.0, lw=3, color= 'g')\n",
    "#plt.hist(testY[:,3], bins=20, range=(-12,12), histtype='step',ls='solid', alpha = 1.0, lw=3, color= 'g')\n",
    "\n",
    "\n",
    "#fig_R = plt.figure()\n",
    "#plt.hist(np.abs(recoY[:,4]), bins=20, range=(0,60), histtype='step',ls='--', alpha = 1.0, lw=3, color= 'b')\n",
    "#plt.hist(testY[:,4], bins=20, range=(0,60), histtype='step',ls='solid', alpha = 1.0, lw=3, color= 'b')\n"
   ]
  },
  {
   "cell_type": "code",
   "execution_count": null,
   "metadata": {},
   "outputs": [],
   "source": [
    "my_network.summary()"
   ]
  }
 ],
 "metadata": {
  "kernelspec": {
   "display_name": "Python 3",
   "language": "python",
   "name": "python3"
  },
  "language_info": {
   "codemirror_mode": {
    "name": "ipython",
    "version": 3
   },
   "file_extension": ".py",
   "mimetype": "text/x-python",
   "name": "python",
   "nbconvert_exporter": "python",
   "pygments_lexer": "ipython3",
   "version": "3.8.5"
  }
 },
 "nbformat": 4,
 "nbformat_minor": 4
}
