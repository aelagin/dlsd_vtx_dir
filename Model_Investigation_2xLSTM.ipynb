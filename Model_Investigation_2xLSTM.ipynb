{
 "cells": [
  {
   "cell_type": "code",
   "execution_count": 1,
   "metadata": {},
   "outputs": [],
   "source": [
    "import os\n",
    "import math\n",
    "\n",
    "import matplotlib.pyplot as plt \n",
    "\n",
    "import numpy as np\n",
    "import pandas as pd\n",
    "import random"
   ]
  },
  {
   "cell_type": "code",
   "execution_count": 2,
   "metadata": {},
   "outputs": [],
   "source": [
    "#global variables\n",
    "maxT = 37\n",
    "maxLambda = 800\n",
    "PAD_VALUE = -1\n",
    "NEvts = 1000\n",
    "pi = 3.141592653589793"
   ]
  },
  {
   "cell_type": "code",
   "execution_count": 3,
   "metadata": {},
   "outputs": [],
   "source": [
    "from keras.utils import Sequence\n",
    "from keras.preprocessing.sequence import pad_sequences\n",
    "\n",
    "class MyGenerator(Sequence):\n",
    "    def __init__(self, x_dir, batch_size):\n",
    "        self.x_dir = x_dir\n",
    "        self.x = os.listdir(x_dir)\n",
    "        self.batch_size = batch_size\n",
    "        print('Generator init complete')\n",
    "        \n",
    "    def __len__(self):\n",
    "        nf = self.batch_size/(NEvts) # calculate number of files\n",
    "        return math.ceil(len(self.x) / nf)\n",
    "\n",
    "    def __getitem__(self, idx):\n",
    "        batch_data = np.load(os.path.join(self.x_dir, self.x[idx]))\n",
    "        Y = np.array(batch_data['y_vtx'])\n",
    "        return np.array(batch_data['x']), Y"
   ]
  },
  {
   "cell_type": "code",
   "execution_count": 4,
   "metadata": {},
   "outputs": [
    {
     "name": "stdout",
     "output_type": "stream",
     "text": [
      "Generator init complete\n",
      "Generator init complete\n"
     ]
    }
   ],
   "source": [
    "training_generator = MyGenerator('/data/Elagin/vtx_dir_1el_color_norm', NEvts)\n",
    "\n",
    "testing_generator = MyGenerator('/data/Elagin/test_vtx_dir_1el_color_norm', NEvts)"
   ]
  },
  {
   "cell_type": "code",
   "execution_count": 5,
   "metadata": {},
   "outputs": [],
   "source": [
    "\n",
    "from keras.models import Sequential, Model\n",
    "from keras.layers import Dense, Activation, Flatten, Reshape, Lambda, Input, Concatenate, concatenate\n",
    "from keras.layers import Conv1D, Conv2D, Conv2DTranspose, UpSampling2D, MaxPooling1D, MaxPooling2D, LocallyConnected2D, LocallyConnected1D\n",
    "from keras.layers import LSTM, Bidirectional\n",
    "from keras.layers import Masking\n",
    "from keras.layers import LeakyReLU, Dropout\n",
    "from keras.layers import BatchNormalization\n",
    "from keras.optimizers import Adam, RMSprop\n",
    "from keras.utils import to_categorical\n",
    "import keras.backend as K"
   ]
  },
  {
   "cell_type": "code",
   "execution_count": 6,
   "metadata": {},
   "outputs": [],
   "source": [
    "def mapping_to_pmOne(x) :\n",
    "    return 2*K.sigmoid(x) - 1\n",
    "\n",
    "def mapping_to_pm50(x) :\n",
    "    return mapping_to_pmOne(x)*50\n",
    "\n",
    "def mapping_to_pm300(x) :\n",
    "    return mapping_to_pmOne(x)*300\n",
    "\n",
    "def mapping_to_0_50(x) :\n",
    "    return 50*K.sigmoid(x)\n",
    "\n",
    "\n",
    "def mapping_to_target_range_all( x, target_min=-0.02*pi, target_max=2.02*pi ) :\n",
    "    x02 = K.tanh(x) + 1 # x in range(0,2)\n",
    "    scale = ( target_max-target_min )/2.\n",
    "    return  x02 * scale + target_min\n",
    "\n",
    "def mapping_to_target_range_2pi( x, target_min=-0.00*pi, target_max=2.00*pi ) :\n",
    "    x02 = K.tanh(x) + 1 # x in range(0,2)\n",
    "    scale = ( target_max-target_min )/2.\n",
    "    return  x02 * scale + target_min\n",
    "    #return K.sigmoid(x)*target_max\n",
    "\n",
    "def mapping_to_target_range_pi( x, target_min=-0.00*pi, target_max=1.00*pi ) :\n",
    "    x02 = K.tanh(x) + 1 # x in range(0,2)\n",
    "    scale = ( target_max-target_min )/2.\n",
    "    return  x02 * scale + target_min\n",
    "    #return K.sigmoid(x)*target_max\n",
    "\n",
    "def mapping_to_target_range_phi( x, target_min=0, target_max=2*pi ) :\n",
    "    print('is x keras tensor:', K.is_keras_tensor(x))\n",
    "    print('x shape = ',K.int_shape(x))\n",
    "    print('x shape = ',K.shape(x))\n",
    "    #phi = K.placeholder(shape=(None,1))\n",
    "    phi = Input([1])\n",
    "    #theta = K.placeholder(shape=(None,1))\n",
    "    theta = Input([1])\n",
    "    #r = K.placeholder(shape=(None,1))\n",
    "    r = Input([1])\n",
    "    print('phi shape = ',K.int_shape(phi))\n",
    "    print('is phi keras tensor:', K.is_keras_tensor(phi))\n",
    "    phi = K.concatenate([phi, [K.tanh(x[:,1]) + 1]], axis=0) # x in range(0,2)\n",
    "    #phi = K.tanh(x[:,1]) + 1\n",
    "    theta = K.concatenate([theta, [x[:,0]]], axis=0)\n",
    "    #theta = x[:,0]\n",
    "    r = K.concatenate([r, [x[:,2]]], axis=0)\n",
    "    #r = x[:,2]\n",
    "    print('phi shape = ',K.int_shape(phi))\n",
    "    print('is phi keras tensor:', K.is_keras_tensor(phi))\n",
    "    print('theta shape = ',K.int_shape(theta))\n",
    "    print('r shape = ',K.int_shape(r))\n",
    "    scale = ( target_max-target_min )/2.\n",
    "    phi =  phi * scale + target_min\n",
    "    #phi = K.cast(phi, dtype='int32')\n",
    "    #phi = K.reshape(phi, (,1))\n",
    "    print('phi shape = ',K.int_shape(phi))\n",
    "    \n",
    "    res = K.concatenate([theta, phi, r], axis=1)\n",
    "    print('res shape = ',K.int_shape(res))\n",
    "    print('res shape = ',K.shape(res))\n",
    "    print('is res keras tensor:', K.is_keras_tensor(res))\n",
    "    x[:,1].assign(phi)\n",
    "    return x\n",
    "\n",
    "def mapping_to_target_range_phi2( x, target_min=0, target_max=2*pi ) :\n",
    "    scale = ( target_max-target_min )/2.\n",
    "    phi = K.placeholder(shape=(None,1))\n",
    "    #phi = Input([1])\n",
    "    #phi = (K.tanh(x[:,1]) + 1)*scale + target_min\n",
    "    phi = K.concatenate([phi, [(K.tanh(x[:,1]) + 1)*scale + target_min]], axis=0)\n",
    "    x[:,1].assign(phi)\n",
    "    return x"
   ]
  },
  {
   "cell_type": "code",
   "execution_count": 7,
   "metadata": {},
   "outputs": [],
   "source": [
    "def createModel():\n",
    "    N=8400\n",
    "    lstm_seq = 400\n",
    "    lstm_steps = int(N/lstm_seq)\n",
    "    model = Sequential()\n",
    "    \n",
    "    model.add(Reshape(input_shape=(N,), target_shape=(lstm_steps,lstm_seq)))\n",
    "    \n",
    "    model.add(Masking(mask_value=-1, input_shape=(lstm_steps, lstm_seq)))\n",
    "    \n",
    "    model.add(LSTM(75, return_sequences=True, input_shape=(lstm_steps,lstm_seq), dropout=0.0))\n",
    "#     model.add(LSTM(75, return_sequences=True, input_shape=(lstm_steps,lstm_seq), dropout=0.0))\n",
    "#     model.add(LSTM(75, return_sequences=True, input_shape=(lstm_steps,lstm_seq), dropout=0.0))\n",
    "#     model.add(LSTM(75, return_sequences=True, input_shape=(lstm_steps,lstm_seq), dropout=0.0))\n",
    "#     model.add(LSTM(75, return_sequences=True, input_shape=(lstm_steps,lstm_seq), dropout=0.0))\n",
    "#     model.add(LSTM(75, return_sequences=True, input_shape=(lstm_steps,lstm_seq), dropout=0.0))\n",
    "    model.add(LSTM(75, input_shape=(lstm_steps,lstm_seq), dropout=0.0))\n",
    "    \n",
    "    model.add(Dense(256, activation='relu'))\n",
    "    #model.add(Dropout(0.1))\n",
    "    model.add(Dense(256, activation='relu'))\n",
    "    #model.add(Dropout(0.1))\n",
    "    model.add(Dense(3, activation=mapping_to_pm300))\n",
    "#    model.add(Dense(3, activation=None))\n",
    "    \n",
    "    return model"
   ]
  },
  {
   "cell_type": "code",
   "execution_count": 8,
   "metadata": {},
   "outputs": [],
   "source": [
    "my_network=createModel()"
   ]
  },
  {
   "cell_type": "code",
   "execution_count": 9,
   "metadata": {},
   "outputs": [
    {
     "name": "stdout",
     "output_type": "stream",
     "text": [
      "Model: \"sequential\"\n",
      "_________________________________________________________________\n",
      "Layer (type)                 Output Shape              Param #   \n",
      "=================================================================\n",
      "reshape (Reshape)            (None, 21, 400)           0         \n",
      "_________________________________________________________________\n",
      "masking (Masking)            (None, 21, 400)           0         \n",
      "_________________________________________________________________\n",
      "lstm (LSTM)                  (None, 21, 75)            142800    \n",
      "_________________________________________________________________\n",
      "lstm_1 (LSTM)                (None, 75)                45300     \n",
      "_________________________________________________________________\n",
      "dense (Dense)                (None, 256)               19456     \n",
      "_________________________________________________________________\n",
      "dense_1 (Dense)              (None, 256)               65792     \n",
      "_________________________________________________________________\n",
      "dense_2 (Dense)              (None, 3)                 771       \n",
      "=================================================================\n",
      "Total params: 274,119\n",
      "Trainable params: 274,119\n",
      "Non-trainable params: 0\n",
      "_________________________________________________________________\n"
     ]
    }
   ],
   "source": [
    "my_network.summary()"
   ]
  },
  {
   "cell_type": "code",
   "execution_count": null,
   "metadata": {},
   "outputs": [
    {
     "name": "stdout",
     "output_type": "stream",
     "text": [
      "The crash is right after this\n",
      "Epoch 1/100\n",
      "927/927 [==============================] - 429s 463ms/step - loss: 182.0546 - val_loss: 177.8947\n",
      "Epoch 2/100\n",
      "927/927 [==============================] - 439s 473ms/step - loss: 174.9551 - val_loss: 168.4513\n",
      "Epoch 3/100\n",
      "927/927 [==============================] - 444s 479ms/step - loss: 168.3232 - val_loss: 162.5797\n",
      "Epoch 4/100\n",
      "927/927 [==============================] - 451s 487ms/step - loss: 162.1385 - val_loss: 158.6930\n",
      "Epoch 5/100\n",
      "927/927 [==============================] - 447s 482ms/step - loss: 156.9980 - val_loss: 152.3176\n",
      "Epoch 6/100\n",
      "927/927 [==============================] - 436s 471ms/step - loss: 152.2054 - val_loss: 148.1086\n",
      "Epoch 7/100\n",
      "927/927 [==============================] - 440s 474ms/step - loss: 148.2697 - val_loss: 148.8427\n",
      "Epoch 8/100\n",
      "927/927 [==============================] - 441s 476ms/step - loss: 143.8426 - val_loss: 147.5488\n",
      "Epoch 9/100\n",
      "927/927 [==============================] - 453s 489ms/step - loss: 140.7631 - val_loss: 137.0268\n",
      "Epoch 10/100\n",
      "927/927 [==============================] - 444s 479ms/step - loss: 137.3740 - val_loss: 134.8364\n",
      "Epoch 11/100\n",
      "927/927 [==============================] - 442s 477ms/step - loss: 134.1602 - val_loss: 131.2229\n",
      "Epoch 12/100\n",
      "927/927 [==============================] - 440s 475ms/step - loss: 131.4831 - val_loss: 129.1462\n",
      "Epoch 13/100\n",
      "927/927 [==============================] - 441s 476ms/step - loss: 128.8600 - val_loss: 127.2917\n",
      "Epoch 14/100\n",
      "927/927 [==============================] - 439s 473ms/step - loss: 126.2676 - val_loss: 124.6862\n",
      "Epoch 15/100\n",
      "927/927 [==============================] - 444s 479ms/step - loss: 123.8749 - val_loss: 121.7189\n",
      "Epoch 16/100\n",
      "927/927 [==============================] - 435s 470ms/step - loss: 121.7607 - val_loss: 120.3724\n",
      "Epoch 17/100\n",
      "927/927 [==============================] - 452s 487ms/step - loss: 119.8697 - val_loss: 122.5147\n",
      "Epoch 18/100\n",
      "927/927 [==============================] - 455s 491ms/step - loss: 117.6504 - val_loss: 116.2365\n",
      "Epoch 19/100\n",
      "927/927 [==============================] - 440s 474ms/step - loss: 116.2411 - val_loss: 115.2509\n",
      "Epoch 20/100\n",
      "927/927 [==============================] - 438s 473ms/step - loss: 114.3075 - val_loss: 114.4496\n",
      "Epoch 21/100\n",
      "927/927 [==============================] - 438s 473ms/step - loss: 112.6111 - val_loss: 114.2201\n",
      "Epoch 22/100\n",
      "927/927 [==============================] - 437s 472ms/step - loss: 111.0829 - val_loss: 109.3903\n",
      "Epoch 23/100\n",
      "927/927 [==============================] - 435s 469ms/step - loss: 109.7097 - val_loss: 107.9193\n",
      "Epoch 24/100\n",
      "927/927 [==============================] - 434s 468ms/step - loss: 108.3315 - val_loss: 106.9304\n",
      "Epoch 25/100\n",
      "927/927 [==============================] - 440s 474ms/step - loss: 106.8273 - val_loss: 105.5445\n",
      "Epoch 26/100\n",
      "927/927 [==============================] - 438s 473ms/step - loss: 105.8687 - val_loss: 105.3288\n",
      "Epoch 27/100\n",
      "927/927 [==============================] - 439s 474ms/step - loss: 104.4007 - val_loss: 105.3443\n",
      "Epoch 28/100\n",
      "927/927 [==============================] - 445s 480ms/step - loss: 103.3080 - val_loss: 101.8497\n",
      "Epoch 29/100\n",
      "927/927 [==============================] - 441s 476ms/step - loss: 102.2875 - val_loss: 100.8148\n",
      "Epoch 30/100\n",
      "927/927 [==============================] - 436s 470ms/step - loss: 101.4209 - val_loss: 101.3954\n",
      "Epoch 31/100\n",
      "927/927 [==============================] - 437s 472ms/step - loss: 100.3627 - val_loss: 99.0104\n",
      "Epoch 32/100\n",
      "927/927 [==============================] - 434s 468ms/step - loss: 99.3578 - val_loss: 97.7949\n",
      "Epoch 33/100\n",
      "927/927 [==============================] - 435s 470ms/step - loss: 98.2316 - val_loss: 97.5947\n",
      "Epoch 34/100\n",
      "927/927 [==============================] - 439s 474ms/step - loss: 97.7496 - val_loss: 96.6271\n",
      "Epoch 35/100\n",
      "927/927 [==============================] - 445s 480ms/step - loss: 96.7616 - val_loss: 95.7928\n",
      "Epoch 36/100\n",
      "927/927 [==============================] - 440s 475ms/step - loss: 95.6280 - val_loss: 94.5716\n",
      "Epoch 37/100\n",
      "927/927 [==============================] - 452s 487ms/step - loss: 95.0682 - val_loss: 94.6623\n",
      "Epoch 38/100\n",
      "927/927 [==============================] - 446s 481ms/step - loss: 94.2483 - val_loss: 92.8727\n",
      "Epoch 39/100\n",
      "927/927 [==============================] - 459s 495ms/step - loss: 93.6149 - val_loss: 94.0371\n",
      "Epoch 40/100\n",
      "927/927 [==============================] - 441s 476ms/step - loss: 92.9104 - val_loss: 93.1841\n",
      "Epoch 41/100\n",
      "927/927 [==============================] - 451s 486ms/step - loss: 92.1735 - val_loss: 90.8788\n",
      "Epoch 42/100\n",
      "927/927 [==============================] - 445s 480ms/step - loss: 91.6070 - val_loss: 92.2277\n",
      "Epoch 43/100\n",
      "927/927 [==============================] - 444s 479ms/step - loss: 90.8511 - val_loss: 89.5826\n",
      "Epoch 44/100\n",
      "927/927 [==============================] - 448s 483ms/step - loss: 90.1365 - val_loss: 89.0789\n",
      "Epoch 45/100\n",
      "927/927 [==============================] - 447s 482ms/step - loss: 89.6335 - val_loss: 88.1389\n",
      "Epoch 46/100\n",
      "927/927 [==============================] - 442s 476ms/step - loss: 88.9614 - val_loss: 90.3773\n",
      "Epoch 47/100\n",
      "927/927 [==============================] - 440s 475ms/step - loss: 88.3814 - val_loss: 87.1081\n",
      "Epoch 48/100\n",
      "927/927 [==============================] - 439s 473ms/step - loss: 87.9848 - val_loss: 87.0027\n",
      "Epoch 49/100\n",
      "927/927 [==============================] - 435s 470ms/step - loss: 87.1483 - val_loss: 86.3988\n",
      "Epoch 50/100\n",
      "927/927 [==============================] - 441s 476ms/step - loss: 86.8539 - val_loss: 87.3931\n",
      "Epoch 51/100\n",
      "927/927 [==============================] - 445s 480ms/step - loss: 86.2380 - val_loss: 85.1495\n",
      "Epoch 52/100\n",
      "927/927 [==============================] - 439s 474ms/step - loss: 85.7915 - val_loss: 84.7751\n",
      "Epoch 53/100\n",
      "927/927 [==============================] - 441s 475ms/step - loss: 85.1985 - val_loss: 86.3083\n",
      "Epoch 54/100\n",
      "927/927 [==============================] - 443s 478ms/step - loss: 84.9194 - val_loss: 85.4008\n",
      "Epoch 55/100\n",
      "927/927 [==============================] - 440s 475ms/step - loss: 84.3626 - val_loss: 83.5180\n",
      "Epoch 56/100\n",
      "927/927 [==============================] - 438s 472ms/step - loss: 83.6909 - val_loss: 82.9883\n",
      "Epoch 57/100\n",
      "927/927 [==============================] - 441s 476ms/step - loss: 83.3060 - val_loss: 82.5451\n",
      "Epoch 58/100\n",
      "927/927 [==============================] - 441s 476ms/step - loss: 82.9266 - val_loss: 82.2171\n",
      "Epoch 59/100\n",
      "927/927 [==============================] - 444s 479ms/step - loss: 82.5343 - val_loss: 82.8585\n",
      "Epoch 60/100\n",
      "927/927 [==============================] - 458s 494ms/step - loss: 82.1157 - val_loss: 81.0995\n",
      "Epoch 61/100\n",
      "927/927 [==============================] - 447s 482ms/step - loss: 81.6953 - val_loss: 82.1275\n",
      "Epoch 62/100\n",
      "927/927 [==============================] - 436s 470ms/step - loss: 81.2115 - val_loss: 80.8278\n",
      "Epoch 63/100\n",
      "927/927 [==============================] - 436s 471ms/step - loss: 80.9292 - val_loss: 80.2443\n",
      "Epoch 64/100\n",
      "927/927 [==============================] - 440s 474ms/step - loss: 80.4303 - val_loss: 79.3744\n",
      "Epoch 65/100\n",
      "927/927 [==============================] - 438s 472ms/step - loss: 79.9920 - val_loss: 79.1902\n",
      "Epoch 66/100\n",
      "927/927 [==============================] - 442s 477ms/step - loss: 79.6975 - val_loss: 79.7702\n",
      "Epoch 67/100\n",
      "927/927 [==============================] - 442s 477ms/step - loss: 79.3016 - val_loss: 78.4557\n",
      "Epoch 68/100\n",
      "927/927 [==============================] - 443s 478ms/step - loss: 78.8582 - val_loss: 78.4060\n",
      "Epoch 69/100\n",
      "927/927 [==============================] - 440s 474ms/step - loss: 78.5066 - val_loss: 79.0848\n",
      "Epoch 70/100\n",
      "927/927 [==============================] - 444s 479ms/step - loss: 78.4302 - val_loss: 77.6213\n",
      "Epoch 71/100\n",
      "927/927 [==============================] - 442s 477ms/step - loss: 77.9901 - val_loss: 77.1702\n",
      "Epoch 72/100\n",
      "927/927 [==============================] - 444s 479ms/step - loss: 77.4743 - val_loss: 76.5632\n",
      "Epoch 73/100\n",
      "927/927 [==============================] - 440s 475ms/step - loss: 77.1975 - val_loss: 76.4734\n",
      "Epoch 74/100\n",
      "927/927 [==============================] - 435s 469ms/step - loss: 76.8888 - val_loss: 75.8723\n",
      "Epoch 75/100\n",
      "927/927 [==============================] - 444s 479ms/step - loss: 76.7492 - val_loss: 75.8080\n",
      "Epoch 76/100\n",
      "927/927 [==============================] - 437s 472ms/step - loss: 76.0840 - val_loss: 75.3303\n",
      "Epoch 77/100\n",
      "927/927 [==============================] - 443s 477ms/step - loss: 75.9625 - val_loss: 75.1548\n",
      "Epoch 78/100\n",
      "927/927 [==============================] - 442s 477ms/step - loss: 75.7093 - val_loss: 75.0794\n",
      "Epoch 79/100\n",
      "927/927 [==============================] - 441s 475ms/step - loss: 75.4438 - val_loss: 75.2115\n",
      "Epoch 80/100\n",
      "927/927 [==============================] - 447s 482ms/step - loss: 75.0476 - val_loss: 74.0156\n",
      "Epoch 81/100\n",
      "927/927 [==============================] - 445s 480ms/step - loss: 75.0804 - val_loss: 75.1342\n",
      "Epoch 82/100\n",
      "927/927 [==============================] - 458s 494ms/step - loss: 74.5664 - val_loss: 73.9737\n",
      "Epoch 83/100\n",
      "927/927 [==============================] - 446s 481ms/step - loss: 74.2891 - val_loss: 73.4694\n",
      "Epoch 84/100\n",
      "927/927 [==============================] - 442s 477ms/step - loss: 73.9060 - val_loss: 73.9287\n",
      "Epoch 85/100\n",
      "927/927 [==============================] - 431s 465ms/step - loss: 73.7535 - val_loss: 74.5307\n",
      "Epoch 86/100\n",
      "927/927 [==============================] - 455s 490ms/step - loss: 73.6211 - val_loss: 74.5293\n",
      "Epoch 87/100\n",
      "927/927 [==============================] - 441s 476ms/step - loss: 73.1690 - val_loss: 72.8043\n",
      "Epoch 88/100\n",
      "927/927 [==============================] - 438s 473ms/step - loss: 73.1395 - val_loss: 72.3568\n",
      "Epoch 89/100\n",
      "899/927 [============================>.] - ETA: 12s - loss: 72.5688"
     ]
    }
   ],
   "source": [
    "batch_size = NEvts\n",
    "epochs = 100\n",
    "\n",
    "def mean_abs_theta_vtx(y_true, y_pred):\n",
    "    return K.mean(K.abs(y_true[:,0] - y_pred[:,0]))\n",
    "def mean_abs_phi_vtx(y_true, y_pred):\n",
    "    return K.mean(K.abs(y_true[:,1] - y_pred[:,1]))\n",
    "def mean_abs_r_vtx(y_true, y_pred):\n",
    "    return K.mean(K.abs(y_true[:,2] - y_pred[:,2]))\n",
    "def mean_abs_theta_dir(y_true, y_pred):\n",
    "    return K.mean(K.abs(y_true[:,3] - y_pred[:,3]))\n",
    "def mean_abs_phi_dir(y_true, y_pred):\n",
    "    return K.mean(K.abs(y_true[:,4] - y_pred[:,4]))\n",
    "\n",
    "def loss_by_R_square(y_true, y_pred):\n",
    "    return K.mean(K.square(y_true[:,0] - y_pred[:,0])+\n",
    "                  K.square(y_true[:,1] - y_pred[:,1])+\n",
    "                  K.square(y_true[:,2] - y_pred[:,2]) )\n",
    "\n",
    "my_network.compile(optimizer=Adam(lr=1e-5), loss='mean_squared_error')#, \n",
    "                                            #loss = loss_by_R_square)\n",
    "                   #metrics=['mean_squared_error', mean_abs_theta_vtx, mean_abs_phi_vtx, mean_abs_r_vtx])#, \n",
    "                                                  #mean_abs_theta_dir, mean_abs_phi_dir])\n",
    "\n",
    "##my_network.load_weights(\"weights_dir_1el_7xLSTM75_6300_300_f1930_lr1e-5_N2.h5\")\n",
    "my_network.load_weights(\"weights_vtx_dir_1el_color_2xLSTM75_8400_400_f927_lr1e-5_N1.h5\")\n",
    "#my_network.load_weights(\"weights_vtx_only_nocolor_LocallyConnected_f552_lr1e-3_0p5mSphere_0p0ns_0p0nm_norm_coverage65_N1epochs.h5\")\n",
    "print('The crash is right after this')\n",
    "history = my_network.fit_generator(generator=training_generator, epochs=epochs, \n",
    "                    validation_data=testing_generator) \n",
    "print('The crash is right after this 2')\n",
    "#my_network.evaluate(testX, testY)\n",
    "\n",
    "#The below is from Vertexing CPAD2018\n",
    "#print('The crash is right after this') \n",
    "#history = my_network.fit(trainX, trainY, batch_size=batch_size, epochs=epochs, verbose=1, validation_data=(testX, testY))\n",
    "#print('The crash is right after this 2')\n",
    "#my_network.evaluate(testX, testY)\n"
   ]
  },
  {
   "cell_type": "code",
   "execution_count": null,
   "metadata": {},
   "outputs": [],
   "source": [
    "my_network.save_weights(\"weights_vtx_dir_1el_color_2xLSTM75_8400_400_f927_lr1e-5_N2.h5\")\n",
    "#my_network.save_weights(\"weights_dir_1el_7xLSTM75_6300_300_f1930_lr1e-5_N3.h5\")"
   ]
  },
  {
   "cell_type": "code",
   "execution_count": 12,
   "metadata": {},
   "outputs": [
    {
     "data": {
      "text/plain": [
       "Text(0.5, 1.0, 'Loss Curves')"
      ]
     },
     "execution_count": 12,
     "metadata": {},
     "output_type": "execute_result"
    },
    {
     "data": {
      "image/png": "[encoded data removed]",
      "text/plain": [
       "<Figure size 576x432 with 1 Axes>"
      ]
     },
     "metadata": {
      "needs_background": "light"
     },
     "output_type": "display_data"
    }
   ],
   "source": [
    "# Loss Curves\n",
    "plt.figure(figsize=[8,6])\n",
    "plt.plot(history.history['loss'],'r',linewidth=3.0)\n",
    "plt.plot(history.history['val_loss'],'b',linewidth=3.0)\n",
    "plt.legend(['Training loss', 'Validation Loss'],fontsize=18)\n",
    "plt.xlabel('Epochs ',fontsize=16)\n",
    "plt.ylabel('Loss',fontsize=16)\n",
    "plt.title('Loss Curves',fontsize=16)\n",
    " "
   ]
  },
  {
   "cell_type": "code",
   "execution_count": 13,
   "metadata": {},
   "outputs": [],
   "source": [
    "# Load data from x_dir, stop after loading fn_max files\n",
    "# Returns X, Y, Dir\n",
    "# X - independent variables\n",
    "# Y - dependend variables (x-, y-, z- of the vertex in this implementation)\n",
    "# Dir - direction vector (x-, y-, z- componenets), could be made dependent variable\n",
    "def load_test_data_to_memory(x_dir, fn_max=2000) :\n",
    "    X, Y, Dir = np.array([]), np.array([]), np.array([])\n",
    "    f_list = os.listdir(x_dir)\n",
    "    f_list.sort()\n",
    "    i=0\n",
    "    for x in f_list :\n",
    "        batch_data = np.load(os.path.join(x_dir, x))\n",
    "        \n",
    "        X = np.vstack([X, np.array(batch_data['x'])]) if X.size else np.array(batch_data['x'])\n",
    "        Y = np.vstack([Y, np.array(batch_data['y_vtx'])]) if Y.size else np.array(batch_data['y_vtx'])\n",
    "        Dir = np.vstack([Dir, np.array(batch_data['y_dir'])]) if Dir.size else np.array(batch_data['y_dir'])\n",
    "\n",
    "        i+=1\n",
    "        if i%10 == 0:\n",
    "            print(x)\n",
    "            print('i = ', i, '   ', X.shape, '   ', Y.shape, '   ', Dir.shape)\n",
    "        if i>=fn_max:\n",
    "            break\n",
    "    print(X.shape, '   ', Y.shape, '   ', Dir.shape)\n",
    "    return X, Y, Dir"
   ]
  },
  {
   "cell_type": "code",
   "execution_count": 14,
   "metadata": {},
   "outputs": [
    {
     "name": "stdout",
     "output_type": "stream",
     "text": [
      "f_batch_18.npz\n",
      "i =  10     (10000, 8400)     (10000, 3)     (10000, 3)\n",
      "f_batch_27.npz\n",
      "i =  20     (20000, 8400)     (20000, 3)     (20000, 3)\n",
      "f_batch_36.npz\n",
      "i =  30     (30000, 8400)     (30000, 3)     (30000, 3)\n",
      "f_batch_45.npz\n",
      "i =  40     (40000, 8400)     (40000, 3)     (40000, 3)\n",
      "(49000, 8400)     (49000, 3)     (49000, 3)\n"
     ]
    }
   ],
   "source": [
    "testX, testY, trueDir = load_test_data_to_memory('/data/Elagin/test_vtx_dir_1el_color_norm/',200)"
   ]
  },
  {
   "cell_type": "code",
   "execution_count": 15,
   "metadata": {},
   "outputs": [
    {
     "name": "stdout",
     "output_type": "stream",
     "text": [
      "shape recoY =  (49000, 3)    shape testY =  (49000, 3)\n",
      "(49000,)   dR_mean =  20.75393234185101\n",
      "(49000,)\n",
      "(49000, 3)\n",
      "dY:  [[-10.16095332 -15.92649968 -11.79526554]\n",
      " [ 23.14371815 -17.15918131   2.98038803]\n",
      " [ 13.34299672  14.49760027 -20.22357442]]\n",
      "dY_norm:  [[-0.45622801 -0.71510173 -0.52960883]\n",
      " [ 0.79903279 -0.59241771  0.10289737]\n",
      " [ 0.47257125  0.51346405 -0.71626188]]\n",
      "(49000,)\n"
     ]
    }
   ],
   "source": [
    "recoY = my_network.predict(testX)\n",
    "\n",
    "print('shape recoY = ', recoY.shape, '   shape testY = ', testY.shape)\n",
    "\n",
    "dY = recoY - testY\n",
    "dY0 = recoY[:,0] - testY[:,0]\n",
    "dY1 = recoY[:,1] - testY[:,1]\n",
    "dY2 = recoY[:,2] - testY[:,2]\n",
    "dR = np.sqrt((recoY[:,0] - testY[:,0])*(recoY[:,0] - testY[:,0]) + (recoY[:,1] - testY[:,1])*(recoY[:,1] - testY[:,1]) + (recoY[:,2] - testY[:,2])*(recoY[:,2] - testY[:,2]) )\n",
    "print(dR.shape, '  dR_mean = ', np.mean(dR))\n",
    "R_true = np.sqrt(testY[:,0]*testY[:,0] + testY[:,1]*testY[:,1] + testY[:,2]*testY[:,2])\n",
    "print(R_true.shape)\n",
    "print(testY.shape)\n",
    "\n",
    "print('dY: ',dY[0:3,:])\n",
    "dRb = dR.reshape(dR.shape[0],1)\n",
    "dY = dY/dRb\n",
    "print('dY_norm: ',dY[0:3,:])\n",
    "#np.random.shuffle(trueDir)\n",
    "vtx_dot_dir = np.sum(dY*trueDir, axis=1)\n",
    "print(vtx_dot_dir.shape)"
   ]
  },
  {
   "cell_type": "code",
   "execution_count": 16,
   "metadata": {},
   "outputs": [
    {
     "data": {
      "text/plain": [
       "Text(0.5, 0, 'Dot product between Vtx(bias) and Dir(el)')"
      ]
     },
     "execution_count": 16,
     "metadata": {},
     "output_type": "execute_result"
    },
    {
     "data": {
      "image/png": "[encoded data removed]",
      "text/plain": [
       "<Figure size 720x576 with 1 Axes>"
      ]
     },
     "metadata": {
      "needs_background": "light"
     },
     "output_type": "display_data"
    }
   ],
   "source": [
    "plt.figure(figsize=[10,8])\n",
    "plt.hist(vtx_dot_dir, bins=60, range=(-1.5,1.5), histtype='step',ls='solid', alpha = 1.0, lw=3, color= 'b')\n",
    "plt.title('Correlation between the bias in vertex reconstruction and initial direction of the electron', fontsize=18)\n",
    "plt.xlabel('Dot product between Vtx(bias) and Dir(el)', fontsize=16)"
   ]
  },
  {
   "cell_type": "code",
   "execution_count": 17,
   "metadata": {},
   "outputs": [
    {
     "name": "stdout",
     "output_type": "stream",
     "text": [
      "MSE =  184.79074163292262\n",
      "MSE2 =  184.79074163292262\n",
      "dY0_Mean_vtx =  -1.0700826009631712    dY1_Mean_vtx =  -0.6140850413958906    dY2_Mean_vtx =  -0.64721636557384\n",
      "dY0_Rms_vtx =  18.27487617927739     dY1_Rms_vtx =  10.980158151582351     dY2_Rms_vtx =  9.991859311313755\n",
      "resolution_vtx =  23.545110424433517\n",
      "reco_Y1_vtx =  [  72.46803   76.09595  -89.24857 ...  225.74347 -139.88911 -167.0934 ]\n",
      "test_Y1_vtx =  [  88.39453251   93.25512858 -103.74617358 ...  230.03334988 -132.16106189\n",
      " -161.36515737]\n",
      "\n",
      "\n",
      "Mean_true_vtx_0 =  -0.017212440378999622    Mean_true_vtx_1 =  -0.13439329235465924 Mean_true_vtx_2 =  -0.38149330600135595\n",
      "RMS_true_vtx_0 =  134.67199293740322    RMS_true_vtx_1 =  134.31360863221246   RMS_true_vtx_2 =  133.98002991737084\n"
     ]
    },
    {
     "data": {
      "image/png": "[encoded data removed]",
      "text/plain": [
       "<Figure size 720x576 with 1 Axes>"
      ]
     },
     "metadata": {
      "needs_background": "light"
     },
     "output_type": "display_data"
    },
    {
     "data": {
      "image/png": "[encoded data removed]",
      "text/plain": [
       "<Figure size 432x288 with 1 Axes>"
      ]
     },
     "metadata": {
      "needs_background": "light"
     },
     "output_type": "display_data"
    },
    {
     "data": {
      "image/png": "[encoded data removed]",
      "text/plain": [
       "<Figure size 432x288 with 1 Axes>"
      ]
     },
     "metadata": {
      "needs_background": "light"
     },
     "output_type": "display_data"
    },
    {
     "data": {
      "image/png": "[encoded data removed]",
      "text/plain": [
       "<Figure size 432x288 with 1 Axes>"
      ]
     },
     "metadata": {
      "needs_background": "light"
     },
     "output_type": "display_data"
    }
   ],
   "source": [
    "MSE = np.mean( (recoY.flatten()[:] - testY.flatten()[:])*(recoY.flatten()[:] - testY.flatten()[:]) )\n",
    "print('MSE = ', MSE)\n",
    "\n",
    "#MSE2 = np.mean(np.square(recoY - testY), axis=-1)\n",
    "MSE2 = np.mean(np.square(recoY.flatten()[:] - testY.flatten()[:]), axis=-1)\n",
    "print('MSE2 = ', MSE2)\n",
    "\n",
    "#dTheta_dir = recoY[:,3] - testY[:,3]\n",
    "#dPhi_dir = recoY[:,4] - testY[:,4]\n",
    "print('dY0_Mean_vtx = ' ,np.mean(dY0), '   dY1_Mean_vtx = ', np.mean(dY1), '   dY2_Mean_vtx = ' ,np.mean(dY2))\n",
    "print('dY0_Rms_vtx = ',np.sqrt(np.mean(np.square(dY0))), '    dY1_Rms_vtx = ',np.sqrt(np.mean(np.square(dY1))), '    dY2_Rms_vtx = ',np.sqrt(np.mean(np.square(dY2))))\n",
    "print('resolution_vtx = ', np.sqrt(np.mean(np.square(dY0)) + np.mean(np.square(dY1)) + np.mean(np.square(dY2)) ) )\n",
    "#print('ThetaMean_dir = ',np.mean(dTheta_dir),'   PhiMean_dir = ',np.mean(dPhi_dir))\n",
    "#print('ThetaRms_dir = ',np.sqrt(np.mean(np.square(dTheta_dir))), '   PhiRms_dir = ',np.sqrt(np.mean(np.square(dPhi_dir))))\n",
    "\n",
    "print('reco_Y1_vtx = ',recoY[:,1])\n",
    "print('test_Y1_vtx = ',testY[:,1])\n",
    "print('')\n",
    "print('')\n",
    "\n",
    "\n",
    "#fig_scatt = plt.figure()\n",
    "#plt.scatter(R_true, dR)\n",
    "\n",
    "fig_dYs = plt.figure(figsize=[10,8])\n",
    "plt.hist(dY0, bins=40, range=(-20,20), histtype='step',ls='solid', alpha = 1.0, lw=3, color= 'r')\n",
    "plt.hist(dY1, bins=40, range=(-20,20), histtype='step',ls='solid', alpha = 1.0, lw=3, color= 'g')\n",
    "plt.hist(dY2, bins=40, range=(-20,20), histtype='step',ls='solid', alpha = 1.0, lw=3, color= 'b')\n",
    "plt.title('Vertex Reconstruction',fontsize=18)\n",
    "plt.xlabel('Vtx(reco) - Vtx(true) [cm]',fontsize=16)\n",
    "\n",
    "fig_Y0s = plt.figure()\n",
    "plt.hist(recoY[:,0], bins=50, range=(-500,500), histtype='step',ls='--', alpha = 1.0, lw=3, color= 'r')\n",
    "plt.hist(testY[:,0], bins=50, range=(-500,500), histtype='step',ls='solid', alpha = 1.0, lw=3, color= 'r')\n",
    "fig_Y1s = plt.figure()\n",
    "plt.hist(recoY[:,1], bins=50, range=(-500,500), histtype='step',ls='--', alpha = 1.0, lw=3, color= 'g')\n",
    "plt.hist(testY[:,1], bins=50, range=(-500,500), histtype='step',ls='solid', alpha = 1.0, lw=3, color= 'g')\n",
    "fig_Y2s = plt.figure()\n",
    "plt.hist(recoY[:,2], bins=50, range=(-500,500), histtype='step',ls='--', alpha = 1.0, lw=3, color= 'b')\n",
    "plt.hist(testY[:,2], bins=50, range=(-500,500), histtype='step',ls='solid', alpha = 1.0, lw=3, color= 'b')\n",
    "\n",
    "print('Mean_true_vtx_0 = ', np.mean(testY[:,0]), '   Mean_true_vtx_1 = ' , np.mean(testY[:,1]), 'Mean_true_vtx_2 = ', np.mean(testY[:,2]))\n",
    "print('RMS_true_vtx_0 = ' , np.sqrt(np.mean(np.square(testY[:,0]))), '   RMS_true_vtx_1 = ' , np.sqrt(np.mean(np.square(testY[:,1]))), '  RMS_true_vtx_2 = ', np.sqrt(np.mean(np.square(testY[:,2]))) )"
   ]
  },
  {
   "cell_type": "code",
   "execution_count": 17,
   "metadata": {
    "scrolled": true
   },
   "outputs": [
    {
     "name": "stdout",
     "output_type": "stream",
     "text": [
      "shape recoY =  (69000, 3)    shape testY =  (69000, 3)\n",
      "ThetaMean_vtx =  -0.29050691819062496\n"
     ]
    },
    {
     "data": {
      "text/plain": [
       "(array([812., 893., 809., 858., 817., 894., 884., 806., 870., 820., 831.,\n",
       "        848., 895., 833., 863., 908., 818., 899., 873., 808.]),\n",
       " array([-50., -45., -40., -35., -30., -25., -20., -15., -10.,  -5.,   0.,\n",
       "          5.,  10.,  15.,  20.,  25.,  30.,  35.,  40.,  45.,  50.]),\n",
       " [<matplotlib.patches.Polygon at 0x7f701825d3d0>])"
      ]
     },
     "execution_count": 17,
     "metadata": {},
     "output_type": "execute_result"
    },
    {
     "data": {
      "image/png": "[encoded data removed]",
      "text/plain": [
       "<Figure size 432x288 with 1 Axes>"
      ]
     },
     "metadata": {
      "needs_background": "light"
     },
     "output_type": "display_data"
    },
    {
     "data": {
      "image/png": "[encoded data removed]",
      "text/plain": [
       "<Figure size 432x288 with 1 Axes>"
      ]
     },
     "metadata": {
      "needs_background": "light"
     },
     "output_type": "display_data"
    },
    {
     "data": {
      "image/png": "[encoded data removed]",
      "text/plain": [
       "<Figure size 432x288 with 1 Axes>"
      ]
     },
     "metadata": {
      "needs_background": "light"
     },
     "output_type": "display_data"
    },
    {
     "data": {
      "image/png": "[encoded data removed]",
      "text/plain": [
       "<Figure size 432x288 with 1 Axes>"
      ]
     },
     "metadata": {
      "needs_background": "light"
     },
     "output_type": "display_data"
    }
   ],
   "source": [
    "recoY = my_network.predict(testX)\n",
    "\n",
    "print('shape recoY = ', recoY.shape, '   shape testY = ', testY.shape)\n",
    "\n",
    "\n",
    "dTheta_vtx = recoY[:,1] - testY[:,1]\n",
    "print('ThetaMean_vtx = ',np.mean(dTheta_vtx))\n",
    "\n",
    "fig1 = plt.figure()\n",
    "plt.hist(dTheta_vtx, bins=40, range=(-20,20), histtype='step',ls='solid', alpha = 1.0, lw=3, color= 'r')\n",
    "\n",
    "fig_sinT = plt.figure()\n",
    "plt.hist(recoY[:,0], bins=20, range=(-50,50), histtype='step',ls='--', alpha = 1.0, lw=3, color= 'r')\n",
    "plt.hist(testY[:,0], bins=20, range=(-50,50), histtype='step',ls='solid', alpha = 1.0, lw=3, color= 'r')\n",
    "\n",
    "fig_cosT = plt.figure()\n",
    "plt.hist(recoY[:,1], bins=20, range=(-50,50), histtype='step',ls='--', alpha = 1.0, lw=3, color= 'g')\n",
    "plt.hist(testY[:,1], bins=20, range=(-50,50), histtype='step',ls='solid', alpha = 1.0, lw=3, color= 'g')\n",
    "\n",
    "fig_sinP = plt.figure()\n",
    "plt.hist(recoY[:,2], bins=20, range=(-50,50), histtype='step',ls='--', alpha = 1.0, lw=3, color= 'r')\n",
    "plt.hist(testY[:,2], bins=20, range=(-50,50), histtype='step',ls='solid', alpha = 1.0, lw=3, color= 'r')\n",
    "\n",
    "#fig_cosP = plt.figure()\n",
    "#plt.hist(recoY[:,3], bins=20, range=(-12,12), histtype='step',ls='--', alpha = 1.0, lw=3, color= 'g')\n",
    "#plt.hist(testY[:,3], bins=20, range=(-12,12), histtype='step',ls='solid', alpha = 1.0, lw=3, color= 'g')\n",
    "\n",
    "\n",
    "#fig_R = plt.figure()\n",
    "#plt.hist(np.abs(recoY[:,4]), bins=20, range=(0,60), histtype='step',ls='--', alpha = 1.0, lw=3, color= 'b')\n",
    "#plt.hist(testY[:,4], bins=20, range=(0,60), histtype='step',ls='solid', alpha = 1.0, lw=3, color= 'b')\n"
   ]
  },
  {
   "cell_type": "code",
   "execution_count": 18,
   "metadata": {},
   "outputs": [
    {
     "name": "stdout",
     "output_type": "stream",
     "text": [
      "Model: \"sequential\"\n",
      "_________________________________________________________________\n",
      "Layer (type)                 Output Shape              Param #   \n",
      "=================================================================\n",
      "reshape (Reshape)            (None, 21, 300)           0         \n",
      "_________________________________________________________________\n",
      "masking (Masking)            (None, 21, 300)           0         \n",
      "_________________________________________________________________\n",
      "lstm (LSTM)                  (None, 21, 75)            112800    \n",
      "_________________________________________________________________\n",
      "lstm_1 (LSTM)                (None, 75)                45300     \n",
      "_________________________________________________________________\n",
      "dense (Dense)                (None, 256)               19456     \n",
      "_________________________________________________________________\n",
      "dense_1 (Dense)              (None, 256)               65792     \n",
      "_________________________________________________________________\n",
      "dense_2 (Dense)              (None, 3)                 771       \n",
      "=================================================================\n",
      "Total params: 244,119\n",
      "Trainable params: 244,119\n",
      "Non-trainable params: 0\n",
      "_________________________________________________________________\n"
     ]
    }
   ],
   "source": [
    "my_network.summary()"
   ]
  },
  {
   "cell_type": "code",
   "execution_count": 19,
   "metadata": {},
   "outputs": [
    {
     "ename": "ValueError",
     "evalue": "cannot reshape array of size 207000 into shape (69000,1)",
     "output_type": "error",
     "traceback": [
      "\u001b[0;31m---------------------------------------------------------------------------\u001b[0m",
      "\u001b[0;31mValueError\u001b[0m                                Traceback (most recent call last)",
      "\u001b[0;32m<ipython-input-19-9c132768ad64>\u001b[0m in \u001b[0;36m<module>\u001b[0;34m\u001b[0m\n\u001b[0;32m----> 1\u001b[0;31m \u001b[0mtestY\u001b[0m \u001b[0;34m=\u001b[0m \u001b[0mtestY\u001b[0m\u001b[0;34m.\u001b[0m\u001b[0mreshape\u001b[0m\u001b[0;34m(\u001b[0m\u001b[0mtestY\u001b[0m\u001b[0;34m.\u001b[0m\u001b[0mshape\u001b[0m\u001b[0;34m[\u001b[0m\u001b[0;36m0\u001b[0m\u001b[0;34m]\u001b[0m\u001b[0;34m,\u001b[0m\u001b[0;36m1\u001b[0m\u001b[0;34m)\u001b[0m\u001b[0;34m\u001b[0m\u001b[0;34m\u001b[0m\u001b[0m\n\u001b[0m\u001b[1;32m      2\u001b[0m \u001b[0mA\u001b[0m \u001b[0;34m=\u001b[0m \u001b[0mnp\u001b[0m\u001b[0;34m.\u001b[0m\u001b[0mhstack\u001b[0m\u001b[0;34m(\u001b[0m\u001b[0;34m(\u001b[0m\u001b[0mtestY\u001b[0m\u001b[0;34m,\u001b[0m \u001b[0mpredY\u001b[0m\u001b[0;34m)\u001b[0m\u001b[0;34m)\u001b[0m\u001b[0;34m\u001b[0m\u001b[0;34m\u001b[0m\u001b[0m\n\u001b[1;32m      3\u001b[0m \u001b[0mprint\u001b[0m\u001b[0;34m(\u001b[0m\u001b[0mA\u001b[0m\u001b[0;34m[\u001b[0m\u001b[0;36m0\u001b[0m\u001b[0;34m:\u001b[0m\u001b[0;36m10\u001b[0m\u001b[0;34m,\u001b[0m\u001b[0;34m:\u001b[0m\u001b[0;34m]\u001b[0m\u001b[0;34m)\u001b[0m\u001b[0;34m\u001b[0m\u001b[0;34m\u001b[0m\u001b[0m\n\u001b[1;32m      4\u001b[0m \u001b[0msig_out\u001b[0m \u001b[0;34m=\u001b[0m \u001b[0mA\u001b[0m\u001b[0;34m[\u001b[0m\u001b[0mA\u001b[0m\u001b[0;34m[\u001b[0m\u001b[0;34m:\u001b[0m\u001b[0;34m,\u001b[0m\u001b[0;36m0\u001b[0m\u001b[0;34m]\u001b[0m\u001b[0;34m>\u001b[0m\u001b[0;36m0\u001b[0m\u001b[0;34m]\u001b[0m\u001b[0;34m\u001b[0m\u001b[0;34m\u001b[0m\u001b[0m\n\u001b[1;32m      5\u001b[0m \u001b[0mprint\u001b[0m\u001b[0;34m(\u001b[0m\u001b[0msig_out\u001b[0m\u001b[0;34m.\u001b[0m\u001b[0mshape\u001b[0m\u001b[0;34m)\u001b[0m\u001b[0;34m\u001b[0m\u001b[0;34m\u001b[0m\u001b[0m\n",
      "\u001b[0;31mValueError\u001b[0m: cannot reshape array of size 207000 into shape (69000,1)"
     ]
    }
   ],
   "source": [
    "testY = testY.reshape(testY.shape[0],1)\n",
    "A = np.hstack((testY, predY))\n",
    "print(A[0:10,:])\n",
    "sig_out = A[A[:,0]>0]\n",
    "print(sig_out.shape)\n",
    "print(sig_out[0:10,:])\n",
    "bkg_out = A[A[:,0]==0]\n",
    "sig = sig_out[:,1]\n",
    "bkg = bkg_out[:,1]\n",
    "##sig_hist, bin_edges = np.histogram(sig_out[:,1],bins=10, range=(0,1))\n",
    "##plt.hist(sig_hist,bins=10, range=(0,1), histtype='step',ls='solid', alpha = 1.0, lw=3, color= 'r')\n",
    "plt.hist(sig, bins=20, range=(0,1), histtype='step',ls='solid', alpha = 1.0, lw=3, color= 'r')\n",
    "plt.hist(bkg, bins=20, range=(0,1), histtype='step',ls='dashed', alpha = 1.0, lw=3, color= 'b')\n",
    "Ntot_sig = len(sig)\n",
    "Ntot_bkg = len(bkg)\n",
    "print('Ntot_sig = ',Ntot_sig,'   Ntot_bkg = ',Ntot_bkg)"
   ]
  },
  {
   "cell_type": "code",
   "execution_count": null,
   "metadata": {},
   "outputs": [],
   "source": [
    "p = 4\n",
    "z = p**3\n",
    "print(z)"
   ]
  },
  {
   "cell_type": "code",
   "execution_count": null,
   "metadata": {},
   "outputs": [],
   "source": []
  }
 ],
 "metadata": {
  "kernelspec": {
   "display_name": "Python 3",
   "language": "python",
   "name": "python3"
  },
  "language_info": {
   "codemirror_mode": {
    "name": "ipython",
    "version": 3
   },
   "file_extension": ".py",
   "mimetype": "text/x-python",
   "name": "python",
   "nbconvert_exporter": "python",
   "pygments_lexer": "ipython3",
   "version": "3.8.5"
  }
 },
 "nbformat": 4,
 "nbformat_minor": 4
}
